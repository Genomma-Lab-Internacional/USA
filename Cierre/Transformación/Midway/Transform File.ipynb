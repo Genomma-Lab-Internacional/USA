{
 "cells": [
  {
   "cell_type": "markdown",
   "metadata": {},
   "source": [
    "# Libraries"
   ]
  },
  {
   "cell_type": "code",
   "execution_count": 1,
   "metadata": {},
   "outputs": [],
   "source": [
    "import pandas as pd\n",
    "import os\n",
    "from datetime import datetime\n",
    "pd.io.formats.excel.ExcelFormatter.header_style = None"
   ]
  },
  {
   "cell_type": "markdown",
   "metadata": {},
   "source": [
    "# Parameters"
   ]
  },
  {
   "cell_type": "code",
   "execution_count": 2,
   "metadata": {},
   "outputs": [],
   "source": [
    "year = datetime.today().year\n",
    "week = datetime.today().isocalendar()[1]"
   ]
  },
  {
   "cell_type": "code",
   "execution_count": 3,
   "metadata": {},
   "outputs": [],
   "source": [
    "path = r'\\\\NASPRO.infovisiontv.com\\DWH01\\Cognos\\Genomma lab USA\\US Data\\Midway\\{0}\\W {1} {0}'\n",
    "path = path.format(year, str(week).zfill(2))"
   ]
  },
  {
   "cell_type": "markdown",
   "metadata": {},
   "source": [
    "# Transform"
   ]
  },
  {
   "cell_type": "code",
   "execution_count": 4,
   "metadata": {},
   "outputs": [],
   "source": [
    "## Create new directory\n",
    "if not os.path.exists(path):\n",
    "    os.mkdir(path)\n",
    "## Import data\n",
    "file = os.listdir(path)[0]\n",
    "df = pd.read_excel(path + '\\\\' + file, header=1)\n",
    "## Data Cleaning\n",
    "df = df[[c for c in df.columns if 'Unnamed' not in c]]\n",
    "df.drop('Kit', axis=1, inplace=True)\n",
    "df.drop(0, axis=0, inplace=True)\n",
    "df.reset_index(drop=True, inplace=True)\n",
    "df['Año'] = year\n",
    "df['Semana'] = week"
   ]
  },
  {
   "cell_type": "markdown",
   "metadata": {},
   "source": [
    "# Export"
   ]
  },
  {
   "cell_type": "code",
   "execution_count": 5,
   "metadata": {},
   "outputs": [],
   "source": [
    "path = r'\\\\NASPRO.infovisiontv.com\\DWH01\\Cognos\\Genomma lab USA\\US Data\\Midway\\Output\\{0}'\n",
    "path = path.format(year)\n",
    "filename = '{0}_{1}_Midway_SO.xlsx'\n",
    "filename = filename.format(year, str(week).zfill(2))\n",
    "cols = ['Año', 'Semana', 'WhseID', 'TranDate', 'TranID', 'Movement', 'CustName', 'ItemID', 'ShortDesc', 'QtyShipped', 'UnitPriceE', 'Extension']\n",
    "df[cols].to_excel(path + '\\\\' + filename, sheet_name='default', index=False)"
   ]
  },
  {
   "cell_type": "code",
   "execution_count": 6,
   "metadata": {},
   "outputs": [
    {
     "data": {
      "text/html": [
       "<div>\n",
       "<style scoped>\n",
       "    .dataframe tbody tr th:only-of-type {\n",
       "        vertical-align: middle;\n",
       "    }\n",
       "\n",
       "    .dataframe tbody tr th {\n",
       "        vertical-align: top;\n",
       "    }\n",
       "\n",
       "    .dataframe thead th {\n",
       "        text-align: right;\n",
       "    }\n",
       "</style>\n",
       "<table border=\"1\" class=\"dataframe\">\n",
       "  <thead>\n",
       "    <tr style=\"text-align: right;\">\n",
       "      <th></th>\n",
       "      <th></th>\n",
       "      <th>Extension</th>\n",
       "      <th>QtyShipped</th>\n",
       "      <th>UnitPriceE</th>\n",
       "    </tr>\n",
       "    <tr>\n",
       "      <th>Año</th>\n",
       "      <th>Semana</th>\n",
       "      <th></th>\n",
       "      <th></th>\n",
       "      <th></th>\n",
       "    </tr>\n",
       "  </thead>\n",
       "  <tbody>\n",
       "    <tr>\n",
       "      <th>2022</th>\n",
       "      <th>10</th>\n",
       "      <td>445000.22</td>\n",
       "      <td>87725.0</td>\n",
       "      <td>38116.28</td>\n",
       "    </tr>\n",
       "  </tbody>\n",
       "</table>\n",
       "</div>"
      ],
      "text/plain": [
       "             Extension  QtyShipped  UnitPriceE\n",
       "Año  Semana                                   \n",
       "2022 10      445000.22     87725.0    38116.28"
      ]
     },
     "execution_count": 6,
     "metadata": {},
     "output_type": "execute_result"
    }
   ],
   "source": [
    "df.pivot_table(index=['Año', 'Semana'], \n",
    "               values=['QtyShipped', 'UnitPriceE', 'Extension'],\n",
    "               aggfunc='sum')"
   ]
  },
  {
   "cell_type": "code",
   "execution_count": null,
   "metadata": {},
   "outputs": [],
   "source": []
  }
 ],
 "metadata": {
  "kernelspec": {
   "display_name": "Python 3 (ipykernel)",
   "language": "python",
   "name": "python3"
  },
  "language_info": {
   "codemirror_mode": {
    "name": "ipython",
    "version": 3
   },
   "file_extension": ".py",
   "mimetype": "text/x-python",
   "name": "python",
   "nbconvert_exporter": "python",
   "pygments_lexer": "ipython3",
   "version": "3.8.10"
  },
  "toc": {
   "base_numbering": 1,
   "nav_menu": {},
   "number_sections": true,
   "sideBar": true,
   "skip_h1_title": false,
   "title_cell": "Table of Contents",
   "title_sidebar": "Contents",
   "toc_cell": false,
   "toc_position": {
    "height": "calc(100% - 180px)",
    "left": "10px",
    "top": "150px",
    "width": "165px"
   },
   "toc_section_display": true,
   "toc_window_display": true
  }
 },
 "nbformat": 4,
 "nbformat_minor": 4
}

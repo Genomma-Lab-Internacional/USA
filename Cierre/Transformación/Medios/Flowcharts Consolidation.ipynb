{
 "cells": [
  {
   "cell_type": "code",
   "execution_count": 2,
   "metadata": {},
   "outputs": [],
   "source": [
    "import pandas as pd\n",
    "import numpy as np\n",
    "import os\n",
    "import pyodbc"
   ]
  },
  {
   "cell_type": "code",
   "execution_count": 29,
   "metadata": {},
   "outputs": [],
   "source": [
    "year = 2022\n",
    "semana = 1\n",
    "path = 'Medios/Contratos/Week ' + str(semana) + ' ' + str(year)\n",
    "path = 'Medios/Contratos/Q1 2022'\n",
    "file_names = os.listdir(path)"
   ]
  },
  {
   "cell_type": "code",
   "execution_count": 56,
   "metadata": {},
   "outputs": [],
   "source": [
    "dict_contracts = {169941:'UDN TIER I',\n",
    "                169942:'UNV TIER I',\n",
    "                169943:'UNV TIER II',\n",
    "                169944:'UNV TIER III',\n",
    "                170780:'UNV SUB A I',\n",
    "                170781:'UNV SUB A II',\n",
    "                169953:'GALA TIER I',\n",
    "                169940:'UMA TIER I',\n",
    "                169949:'UMA TIER II',\n",
    "                169954:'UMA TIER III',\n",
    "                170785:'UMA SUB A I',\n",
    "                170786:'UMA SUB A II',\n",
    "                176732:'UMA UVN UD',\n",
    "                177261:'GALA UVN UD',\n",
    "                176929: 'UMA TIER I',\n",
    "                176931: 'UMA TIER III',\n",
    "                176934: 'GALA TIER I',\n",
    "                176982: 'UVN TIER I',\n",
    "                176983: 'UVN TIER II',\n",
    "                176984: 'TUDN TIER I',\n",
    "                176985: 'UVN TIER III',\n",
    "                177011: 'UMA TIER II',\n",
    "                177423: 'UVN SUB TIER I',\n",
    "                177424: 'UVN SUB TIER II',\n",
    "                177426: 'UMA SUB A TIER I',\n",
    "                177428: 'UMA SUB TIER II'}"
   ]
  },
  {
   "cell_type": "code",
   "execution_count": 25,
   "metadata": {
    "scrolled": true
   },
   "outputs": [
    {
     "data": {
      "text/plain": [
       "['176929 UMA Base Tier I.xls',\n",
       " '176931 UMA Base Tier III.xls',\n",
       " '176934 GALA Base Tier I.xls',\n",
       " '176982 UVN Base Tier I.xls',\n",
       " '176983 UVN Base Tier II.xls',\n",
       " '176984 TUDN Base Tier I.xls',\n",
       " '176985 UVN Base Tier III.xls',\n",
       " '177011 UMA Base Tier II.xls',\n",
       " '177423 UVN SubNet Tier I.xls',\n",
       " '177424 UVN SubNet Tier II.xls',\n",
       " '177426 UMA Subnet A Tier I.xls',\n",
       " '177428 UMA SubNet Tier II.xls']"
      ]
     },
     "execution_count": 25,
     "metadata": {},
     "output_type": "execute_result"
    }
   ],
   "source": [
    "file_names"
   ]
  },
  {
   "cell_type": "markdown",
   "metadata": {},
   "source": [
    "## Number of spots"
   ]
  },
  {
   "cell_type": "code",
   "execution_count": 57,
   "metadata": {},
   "outputs": [],
   "source": [
    "ids_cont = []\n",
    "for file in file_names:\n",
    "    ids_cont.append(int(file.split(' ')[0]))"
   ]
  },
  {
   "cell_type": "code",
   "execution_count": 58,
   "metadata": {},
   "outputs": [],
   "source": [
    "names = ['TUDN','Univision Simulcasts','Univision Network','UniMAS','GALAVISION']\n",
    "dayparts = ['EARLY MORNING','DAYTIME','FRINGE','PRIME','LATE NIGHT','WKEND DAYTIME','SPORTS','NEWS','SPECIALS']\n",
    "\n",
    "week = '12/27'\n",
    "df_all = pd.DataFrame()\n",
    "\n",
    "for file in file_names:\n",
    "    contract_id = int(file.split(' ')[0])\n",
    "    df = pd.read_excel(path + '/' + file,header=13)\n",
    "    df = df.loc[1:,:].copy() #Remove planes row\n",
    "    df['Daypart / Selling Title'] = df['Daypart / Selling Title'].fillna(0)\n",
    "\n",
    "    last_row = df[df['Daypart / Selling Title'].astype(str).str.contains('Equivalized')].index[0]\n",
    "    df = df.loc[:last_row-1,:].copy()\n",
    "    df = df[df['Daypart / Selling Title'] != 0]\n",
    "    df.reset_index(inplace=True,drop=True)\n",
    "\n",
    "    df['Contract'] = df['Daypart / Selling Title'].apply(lambda x: x if x in names else np.NaN)\n",
    "    df['Contract'] = df['Contract'].fillna(method='ffill')\n",
    "    df['Daypart'] = df['Daypart / Selling Title'].apply(lambda x: x if x in dayparts else np.NaN)\n",
    "    df['Daypart'] = df['Daypart'].fillna(method='ffill')\n",
    "    df['Contract_id'] = contract_id\n",
    "    df['Week'] = str(semana) + '-' + str(year)\n",
    "\n",
    "    df = df[['Week','Contract','Contract_id','Daypart','Length',week]].copy()\n",
    "    df['Spots'] = df[week].fillna(0)\n",
    "    df.drop(week,axis=1,inplace=True)\n",
    "    df.dropna(subset=['Length'],inplace=True)\n",
    "    \n",
    "    df_all = pd.concat([df_all,df])\n",
    "    \n",
    "df_all.reset_index(drop=True,inplace=True)\n",
    "df_all['Contract_id'] = df_all['Contract_id'].map(dict_contracts)\n",
    "df_all = df_all[df_all['Spots'] != 0].copy()"
   ]
  },
  {
   "cell_type": "code",
   "execution_count": 59,
   "metadata": {},
   "outputs": [
    {
     "data": {
      "text/plain": [
       "Week           0\n",
       "Contract       0\n",
       "Contract_id    0\n",
       "Daypart        0\n",
       "Length         0\n",
       "Spots          0\n",
       "dtype: int64"
      ]
     },
     "execution_count": 59,
     "metadata": {},
     "output_type": "execute_result"
    }
   ],
   "source": [
    "df_all.isnull().sum()"
   ]
  },
  {
   "cell_type": "code",
   "execution_count": 60,
   "metadata": {},
   "outputs": [],
   "source": [
    "semana = 1\n",
    "df_all.to_csv('Outputs/Flowcharts Review/Spots Detail/Spots Detail Week ' + str(semana) + '_'+ str(year) +'.csv',index=False)"
   ]
  },
  {
   "cell_type": "markdown",
   "metadata": {},
   "source": [
    "## Impresions"
   ]
  },
  {
   "cell_type": "code",
   "execution_count": 61,
   "metadata": {},
   "outputs": [
    {
     "name": "stdout",
     "output_type": "stream",
     "text": [
      "176929 UMA Base Tier I.xls\n",
      "176931 UMA Base Tier III.xls\n",
      "176934 GALA Base Tier I.xls\n",
      "176982 UVN Base Tier I.xls\n",
      "176983 UVN Base Tier II.xls\n",
      "176984 TUDN Base Tier I.xls\n",
      "176985 UVN Base Tier III.xls\n",
      "177011 UMA Base Tier II.xls\n",
      "177423 UVN SubNet Tier I.xls\n",
      "177424 UVN SubNet Tier II.xls\n",
      "177426 UMA Subnet A Tier I.xls\n",
      "177428 UMA SubNet Tier II.xls\n"
     ]
    }
   ],
   "source": [
    "names = ['TUDN','Univision Simulcasts','Univision Network','UniMAS','GALAVISION']\n",
    "dayparts = ['EARLY MORNING','DAYTIME','FRINGE','PRIME','LATE NIGHT','WKEND DAYTIME','SPORTS','NEWS','SPECIALS']\n",
    "\n",
    "df_all = pd.DataFrame()\n",
    "\n",
    "first_week = '12/27' #Input first week on flowchart\n",
    "last_week = '03/21'  #Input last week on flowchart\n",
    "\n",
    "for file in file_names:\n",
    "    \n",
    "    #Read file\n",
    "    contract_id = int(file.split(' ')[0])\n",
    "    df = pd.read_excel(path + '/' + file,header=13)\n",
    "    #Remove planes row\n",
    "    df = df.loc[1:,:].copy() \n",
    "    columns = np.array(df.columns)\n",
    "    colfin = np.where(columns == last_week)[0][0] \n",
    "    #filter columns 0 to last_week\n",
    "    df = df.iloc[:,:colfin+1] \n",
    "    df['Daypart / Selling Title'] = df['Daypart / Selling Title'].fillna(0)\n",
    "    \n",
    "    #Remove bottom useless rows \n",
    "    last_row = df[df['Daypart / Selling Title'].astype(str).str.contains('Equivalized')].index[0] \n",
    "    df = df.loc[:last_row-1,:].copy()\n",
    "    #Remove null rows on first column\n",
    "    df = df[df['Daypart / Selling Title'] != 0]\n",
    "    df.reset_index(inplace=True,drop=True)\n",
    "    \n",
    "    #Copy the contract into another column and forward fill\n",
    "    df['Contract'] = df['Daypart / Selling Title'].apply(lambda x: x if x in names else np.NaN)\n",
    "    df['Contract'] = df['Contract'].fillna(method='ffill')\n",
    "    #Copy the daypart into another column and forward fill\n",
    "    df['Daypart'] = df['Daypart / Selling Title'].apply(lambda x: x if x in dayparts else np.NaN)\n",
    "    df['Daypart'] = df['Daypart'].fillna(method='ffill')\n",
    "    df['Contract_id'] = contract_id\n",
    "    \n",
    "    #Rename column Imps to (000) (NEEDED ONLY FOR TUDN)\n",
    "    df.rename({'Imps':'(000)'},axis=1,inplace=True)\n",
    "    columns = df.columns\n",
    "    df.columns = [i.strip() for i in columns]\n",
    "    columns = np.array(df.columns)\n",
    "    \n",
    "    #Find the impresions column\n",
    "    col = np.where(columns == '(000)')[0][0]\n",
    "    #Find the first week column\n",
    "    col2 = np.where(columns == first_week)[0][0]\n",
    "    #Rename column (000) to Imps\n",
    "    df.rename({df.columns[col]:'Imps'},axis=1,inplace=True)\n",
    "    #Multiply the Imps by 1000 (NOT NEEDED FOR TUDN)\n",
    "    if df['Contract_id'].unique()[0] != 169941:\n",
    "        df['Imps'] = df['Imps']*1000\n",
    "    #Sum the number of spots in the quarter line by line\n",
    "    df['Total Q Spots'] = df.iloc[:,col2:col2+13].sum(axis=1)\n",
    "    \n",
    "    #Remove useless columns\n",
    "    df = df[['Contract','Contract_id','Daypart','Length','Imps','Total Q Spots']].copy()\n",
    "    #Filter 30 sec spots only\n",
    "    df = df[df['Length']==':30']\n",
    "    \n",
    "    df_all = pd.concat([df_all,df])\n",
    "    print(file)\n",
    "    \n",
    "df_all.reset_index(drop=True,inplace=True)\n",
    "df_all['Contract_id'] = df_all['Contract_id'].map(dict_contracts)"
   ]
  },
  {
   "cell_type": "code",
   "execution_count": 62,
   "metadata": {},
   "outputs": [
    {
     "data": {
      "text/plain": [
       "(142, 6)"
      ]
     },
     "execution_count": 62,
     "metadata": {},
     "output_type": "execute_result"
    }
   ],
   "source": [
    "df_all.shape"
   ]
  },
  {
   "cell_type": "code",
   "execution_count": 63,
   "metadata": {},
   "outputs": [
    {
     "data": {
      "text/plain": [
       "Contract         0\n",
       "Contract_id      0\n",
       "Daypart          0\n",
       "Length           0\n",
       "Imps             0\n",
       "Total Q Spots    0\n",
       "dtype: int64"
      ]
     },
     "execution_count": 63,
     "metadata": {},
     "output_type": "execute_result"
    }
   ],
   "source": [
    "df_all.isnull().sum()"
   ]
  },
  {
   "cell_type": "code",
   "execution_count": 64,
   "metadata": {},
   "outputs": [],
   "source": [
    "df_all.to_csv('Outputs/Flowcharts Review/Imps/ImpsQ12022.csv',index=False)"
   ]
  },
  {
   "cell_type": "code",
   "execution_count": 65,
   "metadata": {},
   "outputs": [
    {
     "data": {
      "text/html": [
       "<div>\n",
       "<style scoped>\n",
       "    .dataframe tbody tr th:only-of-type {\n",
       "        vertical-align: middle;\n",
       "    }\n",
       "\n",
       "    .dataframe tbody tr th {\n",
       "        vertical-align: top;\n",
       "    }\n",
       "\n",
       "    .dataframe thead th {\n",
       "        text-align: right;\n",
       "    }\n",
       "</style>\n",
       "<table border=\"1\" class=\"dataframe\">\n",
       "  <thead>\n",
       "    <tr style=\"text-align: right;\">\n",
       "      <th></th>\n",
       "      <th>Contract</th>\n",
       "      <th>Contract_id</th>\n",
       "      <th>Daypart</th>\n",
       "      <th>Imps</th>\n",
       "    </tr>\n",
       "  </thead>\n",
       "  <tbody>\n",
       "    <tr>\n",
       "      <th>0</th>\n",
       "      <td>GALAVISION</td>\n",
       "      <td>GALA TIER I</td>\n",
       "      <td>DAYTIME</td>\n",
       "      <td>32000.0</td>\n",
       "    </tr>\n",
       "    <tr>\n",
       "      <th>1</th>\n",
       "      <td>GALAVISION</td>\n",
       "      <td>GALA TIER I</td>\n",
       "      <td>EARLY MORNING</td>\n",
       "      <td>13000.0</td>\n",
       "    </tr>\n",
       "    <tr>\n",
       "      <th>2</th>\n",
       "      <td>GALAVISION</td>\n",
       "      <td>GALA TIER I</td>\n",
       "      <td>FRINGE</td>\n",
       "      <td>36000.0</td>\n",
       "    </tr>\n",
       "    <tr>\n",
       "      <th>3</th>\n",
       "      <td>GALAVISION</td>\n",
       "      <td>GALA TIER I</td>\n",
       "      <td>LATE NIGHT</td>\n",
       "      <td>36000.0</td>\n",
       "    </tr>\n",
       "    <tr>\n",
       "      <th>4</th>\n",
       "      <td>GALAVISION</td>\n",
       "      <td>GALA TIER I</td>\n",
       "      <td>PRIME</td>\n",
       "      <td>81000.0</td>\n",
       "    </tr>\n",
       "    <tr>\n",
       "      <th>...</th>\n",
       "      <td>...</td>\n",
       "      <td>...</td>\n",
       "      <td>...</td>\n",
       "      <td>...</td>\n",
       "    </tr>\n",
       "    <tr>\n",
       "      <th>68</th>\n",
       "      <td>Univision Simulcasts</td>\n",
       "      <td>UVN TIER I</td>\n",
       "      <td>EARLY MORNING</td>\n",
       "      <td>227000.0</td>\n",
       "    </tr>\n",
       "    <tr>\n",
       "      <th>69</th>\n",
       "      <td>Univision Simulcasts</td>\n",
       "      <td>UVN TIER II</td>\n",
       "      <td>DAYTIME</td>\n",
       "      <td>227000.0</td>\n",
       "    </tr>\n",
       "    <tr>\n",
       "      <th>70</th>\n",
       "      <td>Univision Simulcasts</td>\n",
       "      <td>UVN TIER II</td>\n",
       "      <td>EARLY MORNING</td>\n",
       "      <td>227000.0</td>\n",
       "    </tr>\n",
       "    <tr>\n",
       "      <th>71</th>\n",
       "      <td>Univision Simulcasts</td>\n",
       "      <td>UVN TIER III</td>\n",
       "      <td>DAYTIME</td>\n",
       "      <td>227000.0</td>\n",
       "    </tr>\n",
       "    <tr>\n",
       "      <th>72</th>\n",
       "      <td>Univision Simulcasts</td>\n",
       "      <td>UVN TIER III</td>\n",
       "      <td>EARLY MORNING</td>\n",
       "      <td>227000.0</td>\n",
       "    </tr>\n",
       "  </tbody>\n",
       "</table>\n",
       "<p>73 rows × 4 columns</p>\n",
       "</div>"
      ],
      "text/plain": [
       "                Contract   Contract_id        Daypart      Imps\n",
       "0             GALAVISION   GALA TIER I        DAYTIME   32000.0\n",
       "1             GALAVISION   GALA TIER I  EARLY MORNING   13000.0\n",
       "2             GALAVISION   GALA TIER I         FRINGE   36000.0\n",
       "3             GALAVISION   GALA TIER I     LATE NIGHT   36000.0\n",
       "4             GALAVISION   GALA TIER I          PRIME   81000.0\n",
       "..                   ...           ...            ...       ...\n",
       "68  Univision Simulcasts    UVN TIER I  EARLY MORNING  227000.0\n",
       "69  Univision Simulcasts   UVN TIER II        DAYTIME  227000.0\n",
       "70  Univision Simulcasts   UVN TIER II  EARLY MORNING  227000.0\n",
       "71  Univision Simulcasts  UVN TIER III        DAYTIME  227000.0\n",
       "72  Univision Simulcasts  UVN TIER III  EARLY MORNING  227000.0\n",
       "\n",
       "[73 rows x 4 columns]"
      ]
     },
     "execution_count": 65,
     "metadata": {},
     "output_type": "execute_result"
    }
   ],
   "source": [
    "pivot = pd.pivot_table(df_all,index=['Contract','Contract_id','Daypart'],values=['Imps']).reset_index()\n",
    "pivot['Imps'] = pivot['Imps'].apply(lambda x: round(x,0))\n",
    "pivot"
   ]
  },
  {
   "cell_type": "code",
   "execution_count": 66,
   "metadata": {},
   "outputs": [
    {
     "data": {
      "text/plain": [
       "(7, 6)"
      ]
     },
     "execution_count": 66,
     "metadata": {},
     "output_type": "execute_result"
    }
   ],
   "source": [
    "df.shape"
   ]
  },
  {
   "cell_type": "code",
   "execution_count": 67,
   "metadata": {},
   "outputs": [
    {
     "data": {
      "text/plain": [
       "(142, 6)"
      ]
     },
     "execution_count": 67,
     "metadata": {},
     "output_type": "execute_result"
    }
   ],
   "source": [
    "df_all.shape"
   ]
  },
  {
   "cell_type": "code",
   "execution_count": 45,
   "metadata": {},
   "outputs": [
    {
     "data": {
      "text/html": [
       "<div>\n",
       "<style scoped>\n",
       "    .dataframe tbody tr th:only-of-type {\n",
       "        vertical-align: middle;\n",
       "    }\n",
       "\n",
       "    .dataframe tbody tr th {\n",
       "        vertical-align: top;\n",
       "    }\n",
       "\n",
       "    .dataframe thead th {\n",
       "        text-align: right;\n",
       "    }\n",
       "</style>\n",
       "<table border=\"1\" class=\"dataframe\">\n",
       "  <thead>\n",
       "    <tr style=\"text-align: right;\">\n",
       "      <th></th>\n",
       "      <th>Contract</th>\n",
       "      <th>Contract_id</th>\n",
       "      <th>Daypart</th>\n",
       "      <th>Length</th>\n",
       "      <th>Imps</th>\n",
       "      <th>Total Q Spots</th>\n",
       "    </tr>\n",
       "  </thead>\n",
       "  <tbody>\n",
       "    <tr>\n",
       "      <th>0</th>\n",
       "      <td>UniMAS</td>\n",
       "      <td>UMA TIER I</td>\n",
       "      <td>DAYTIME</td>\n",
       "      <td>:30</td>\n",
       "      <td>107000.0</td>\n",
       "      <td>1.0</td>\n",
       "    </tr>\n",
       "    <tr>\n",
       "      <th>1</th>\n",
       "      <td>UniMAS</td>\n",
       "      <td>UMA TIER I</td>\n",
       "      <td>DAYTIME</td>\n",
       "      <td>:30</td>\n",
       "      <td>107000.0</td>\n",
       "      <td>1.0</td>\n",
       "    </tr>\n",
       "    <tr>\n",
       "      <th>2</th>\n",
       "      <td>UniMAS</td>\n",
       "      <td>UMA TIER I</td>\n",
       "      <td>DAYTIME</td>\n",
       "      <td>:30</td>\n",
       "      <td>56000.0</td>\n",
       "      <td>1.0</td>\n",
       "    </tr>\n",
       "    <tr>\n",
       "      <th>3</th>\n",
       "      <td>UniMAS</td>\n",
       "      <td>UMA TIER I</td>\n",
       "      <td>DAYTIME</td>\n",
       "      <td>:30</td>\n",
       "      <td>56000.0</td>\n",
       "      <td>14.0</td>\n",
       "    </tr>\n",
       "    <tr>\n",
       "      <th>4</th>\n",
       "      <td>UniMAS</td>\n",
       "      <td>UMA TIER I</td>\n",
       "      <td>DAYTIME</td>\n",
       "      <td>:30</td>\n",
       "      <td>77000.0</td>\n",
       "      <td>70.0</td>\n",
       "    </tr>\n",
       "    <tr>\n",
       "      <th>...</th>\n",
       "      <td>...</td>\n",
       "      <td>...</td>\n",
       "      <td>...</td>\n",
       "      <td>...</td>\n",
       "      <td>...</td>\n",
       "      <td>...</td>\n",
       "    </tr>\n",
       "    <tr>\n",
       "      <th>137</th>\n",
       "      <td>UniMAS</td>\n",
       "      <td>UMA SUB TIER II</td>\n",
       "      <td>DAYTIME</td>\n",
       "      <td>:30</td>\n",
       "      <td>48000.0</td>\n",
       "      <td>94.0</td>\n",
       "    </tr>\n",
       "    <tr>\n",
       "      <th>138</th>\n",
       "      <td>UniMAS</td>\n",
       "      <td>UMA SUB TIER II</td>\n",
       "      <td>FRINGE</td>\n",
       "      <td>:30</td>\n",
       "      <td>46000.0</td>\n",
       "      <td>44.0</td>\n",
       "    </tr>\n",
       "    <tr>\n",
       "      <th>139</th>\n",
       "      <td>UniMAS</td>\n",
       "      <td>UMA SUB TIER II</td>\n",
       "      <td>PRIME</td>\n",
       "      <td>:30</td>\n",
       "      <td>138000.0</td>\n",
       "      <td>52.0</td>\n",
       "    </tr>\n",
       "    <tr>\n",
       "      <th>140</th>\n",
       "      <td>UniMAS</td>\n",
       "      <td>UMA SUB TIER II</td>\n",
       "      <td>LATE NIGHT</td>\n",
       "      <td>:30</td>\n",
       "      <td>19000.0</td>\n",
       "      <td>72.0</td>\n",
       "    </tr>\n",
       "    <tr>\n",
       "      <th>141</th>\n",
       "      <td>UniMAS</td>\n",
       "      <td>UMA SUB TIER II</td>\n",
       "      <td>WKEND DAYTIME</td>\n",
       "      <td>:30</td>\n",
       "      <td>48000.0</td>\n",
       "      <td>21.0</td>\n",
       "    </tr>\n",
       "  </tbody>\n",
       "</table>\n",
       "<p>142 rows × 6 columns</p>\n",
       "</div>"
      ],
      "text/plain": [
       "    Contract      Contract_id        Daypart Length      Imps  Total Q Spots\n",
       "0     UniMAS       UMA TIER I        DAYTIME    :30  107000.0            1.0\n",
       "1     UniMAS       UMA TIER I        DAYTIME    :30  107000.0            1.0\n",
       "2     UniMAS       UMA TIER I        DAYTIME    :30   56000.0            1.0\n",
       "3     UniMAS       UMA TIER I        DAYTIME    :30   56000.0           14.0\n",
       "4     UniMAS       UMA TIER I        DAYTIME    :30   77000.0           70.0\n",
       "..       ...              ...            ...    ...       ...            ...\n",
       "137   UniMAS  UMA SUB TIER II        DAYTIME    :30   48000.0           94.0\n",
       "138   UniMAS  UMA SUB TIER II         FRINGE    :30   46000.0           44.0\n",
       "139   UniMAS  UMA SUB TIER II          PRIME    :30  138000.0           52.0\n",
       "140   UniMAS  UMA SUB TIER II     LATE NIGHT    :30   19000.0           72.0\n",
       "141   UniMAS  UMA SUB TIER II  WKEND DAYTIME    :30   48000.0           21.0\n",
       "\n",
       "[142 rows x 6 columns]"
      ]
     },
     "execution_count": 45,
     "metadata": {},
     "output_type": "execute_result"
    }
   ],
   "source": [
    "df_all"
   ]
  },
  {
   "cell_type": "code",
   "execution_count": null,
   "metadata": {},
   "outputs": [],
   "source": []
  }
 ],
 "metadata": {
  "interpreter": {
   "hash": "6b291c39bb08898bda619871e0e31e4348d0d08fd8a5b10115e49f8af5176be3"
  },
  "kernelspec": {
   "display_name": "Python 3 (ipykernel)",
   "language": "python",
   "name": "python3"
  },
  "language_info": {
   "codemirror_mode": {
    "name": "ipython",
    "version": 3
   },
   "file_extension": ".py",
   "mimetype": "text/x-python",
   "name": "python",
   "nbconvert_exporter": "python",
   "pygments_lexer": "ipython3",
   "version": "3.8.10"
  },
  "toc": {
   "base_numbering": 1,
   "nav_menu": {},
   "number_sections": true,
   "sideBar": true,
   "skip_h1_title": false,
   "title_cell": "Table of Contents",
   "title_sidebar": "Contents",
   "toc_cell": false,
   "toc_position": {},
   "toc_section_display": true,
   "toc_window_display": false
  }
 },
 "nbformat": 4,
 "nbformat_minor": 4
}

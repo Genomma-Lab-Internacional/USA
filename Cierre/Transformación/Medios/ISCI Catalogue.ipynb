{
 "cells": [
  {
   "cell_type": "code",
   "execution_count": 1,
   "metadata": {},
   "outputs": [],
   "source": [
    "import pandas as pd\n",
    "import pyodbc\n",
    "import shutil"
   ]
  },
  {
   "cell_type": "code",
   "execution_count": 2,
   "metadata": {},
   "outputs": [
    {
     "name": "stdout",
     "output_type": "stream",
     "text": [
      "Hay ISCIs nuevos...\n",
      "No hay ISCIs sin agrupacion...\n"
     ]
    }
   ],
   "source": [
    "filename = '00 Pauta US-Hisp-US-GM-PR-Telem-Wapa - 25 Feb 2022'\n",
    "\n",
    "#Read Files\n",
    "df_ISCI = pd.read_excel('CATALOGOS/ID_ISCI.xlsx')\n",
    "df_ISCI.to_excel('CATALOGOS/ID_ISCI_Backup.xlsx',index=False,encoding='latin1')\n",
    "df_dict = pd.read_excel(filename + '.xlsx', sheet_name=[0,1,2], header = 4, usecols='C:L')\n",
    "\n",
    "#Concatenate all tables\n",
    "df = pd.concat([df_dict[0],df_dict[1],df_dict[2]],axis=0)\n",
    "#Filter table and clean it\n",
    "df = df[['ISCI','Campaña','Dur','Cierre PDV', 'Agrupación BI']]\n",
    "df.dropna(subset=['ISCI'], inplace=True)\n",
    "df['Dur'] = df['Dur'].apply(lambda x: int(float(str(x).replace('\"',''))))\n",
    "df.reset_index(drop=True, inplace=True)\n",
    "#Obtain new ISCI\n",
    "df = df[~df.ISCI.isin(list(df_ISCI['ISCI'].unique()))].copy()\n",
    "\n",
    "if df.shape[0] >= 1:\n",
    "    print('Hay ISCIs nuevos...')\n",
    "    df.drop_duplicates(subset='ISCI',inplace=True)\n",
    "    df.rename(dict(zip(['ISCI','Campaña','Dur','Cierre PDV', 'Agrupación BI'],df_ISCI.columns)),axis=1,inplace=True)\n",
    "    df_ISCI = pd.concat([df_ISCI,df],axis=0)\n",
    "    #Write new file\n",
    "    df_ISCI.to_excel('CATALOGOS/ID_ISCI.xlsx',index=False, encoding='latin1')\n",
    "    #Move file\n",
    "    shutil.move(filename + '.xlsx','FILES/Already checked files/' + filename + '.xlsx')\n",
    "\n",
    "    #Check if all the isci have agrupacion\n",
    "    if df_ISCI['AGRUPACION'].isnull().sum() != 0:\n",
    "        print('Hay ISCIs sin agrupacion...')\n",
    "\n",
    "    #Return status\n",
    "\n",
    "\n",
    "    else:\n",
    "        print('No hay ISCIs sin agrupacion...')\n",
    "\n",
    "else:\n",
    "    print('No hay ISCIs nuevos')\n",
    "\n",
    "    shutil.move(filename + '.xlsx','FILES/Already checked files/' + filename + '.xlsx')"
   ]
  },
  {
   "cell_type": "code",
   "execution_count": 3,
   "metadata": {},
   "outputs": [],
   "source": [
    "#This function checks if a file has new ISCI codes and registers them in the catalogue used on the MEDIA US CODE\n",
    "# filename = '00 Pauta US-Hisp-US-GM-PR-Telem-Wapa - 06 agosto 2021'\n",
    "\n",
    "# def update_catalogue(filename):\n",
    "#     try:\n",
    "#         #Read Files\n",
    "#         df_ISCI = pd.read_excel('CATALOGOS/ID_ISCI.xlsx')\n",
    "#         df_ISCI = pd.to_excel('CATALOGOS/ID_ISCI_Backup.xlsx',index=False,encoding='latin1')\n",
    "#         df_dict = pd.read_excel(filename + '.xlsx', sheet_name=[0,1,2], header = 4, usecols='C:L')\n",
    "\n",
    "#         #Concatenate all tables\n",
    "#         df = pd.concat([df_dict[0],df_dict[1],df_dict[2]],axis=0)\n",
    "#         #Filter table and clean it\n",
    "#         df = df[['ISCI','Campaña','Dur','Cierre PDV', 'Agrupación BI']]\n",
    "#         df.dropna(subset=['ISCI'], inplace=True)\n",
    "#         df['Dur'] = df['Dur'].apply(lambda x: int(float(str(x).replace('\"',''))))\n",
    "#         df.reset_index(drop=True, inplace=True)\n",
    "#         #Obtain new ISCI\n",
    "#         df = df[~df.ISCI.isin(list(df_ISCI['ISCI'].unique()))].copy()\n",
    "#     except:\n",
    "#         return(0)\n",
    "    \n",
    "#     if df.shape[0] >= 1:\n",
    "#         df.drop_duplicates(subset='ISCI',inplace=True)\n",
    "#         df.rename(dict(zip(['ISCI','Campaña','Dur','Cierre PDV', 'Agrupación BI'],df_ISCI.columns)),axis=1,inplace=True)\n",
    "#         df_ISCI = pd.concat([df_ISCI,df],axis=0)\n",
    "#         #Write new file\n",
    "#         df_ISCI.to_excel('CATALOGOS/ID_ISCI.xlsx',index=False, encoding='latin1')\n",
    "#         #Move file\n",
    "#         shutil.move(filename + '.xlsx','FILES/Already checked files/' + filename + '.xlsx')\n",
    "\n",
    "#         #Check if all the isci have agrupacion\n",
    "#         if df_ISCI['AGRUPACION'].isnull().sum() != 0:\n",
    "#             return(3)\n",
    "\n",
    "#         #Return status\n",
    "#         return(2)\n",
    "\n",
    "#     else:\n",
    "#         #Move file\n",
    "#         shutil.move(filename + '.xlsx','FILES/Already checked files/' + filename + '.xlsx')\n",
    "#         return(1)\n",
    "    "
   ]
  }
 ],
 "metadata": {
  "interpreter": {
   "hash": "6b291c39bb08898bda619871e0e31e4348d0d08fd8a5b10115e49f8af5176be3"
  },
  "kernelspec": {
   "display_name": "Python 3 (ipykernel)",
   "language": "python",
   "name": "python3"
  },
  "language_info": {
   "codemirror_mode": {
    "name": "ipython",
    "version": 3
   },
   "file_extension": ".py",
   "mimetype": "text/x-python",
   "name": "python",
   "nbconvert_exporter": "python",
   "pygments_lexer": "ipython3",
   "version": "3.8.10"
  },
  "toc": {
   "base_numbering": 1,
   "nav_menu": {},
   "number_sections": true,
   "sideBar": true,
   "skip_h1_title": false,
   "title_cell": "Table of Contents",
   "title_sidebar": "Contents",
   "toc_cell": false,
   "toc_position": {},
   "toc_section_display": true,
   "toc_window_display": false
  }
 },
 "nbformat": 4,
 "nbformat_minor": 4
}

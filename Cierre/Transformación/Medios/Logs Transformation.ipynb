{
 "cells": [
  {
   "cell_type": "markdown",
   "metadata": {},
   "source": [
    "# Parameters"
   ]
  },
  {
   "cell_type": "code",
   "execution_count": 1,
   "metadata": {},
   "outputs": [],
   "source": [
    "# IMPORTANT: THE FILE SHOULD ONLY CONTAIN DATES AND BLANK CELLS ON COLUMN \"DATE\", IF THERE'S SOMETHING ELSE PLEASE ERASE IT\n",
    "# OTHERWISE THE PROGRAM WON'T RUN PROPERLY MAKE SURE TO CHECK IT BEFORE RUNNING THE CODE.\n",
    "filename = 'Genomma Labs Logs WO 02-21-22.xlsx'\n",
    "quarter = 'Q1 2022'"
   ]
  },
  {
   "cell_type": "markdown",
   "metadata": {},
   "source": [
    "# Libraries"
   ]
  },
  {
   "cell_type": "code",
   "execution_count": 2,
   "metadata": {},
   "outputs": [],
   "source": [
    "import pandas as pd\n",
    "import json\n",
    "import os\n",
    "from datetime import timedelta\n",
    "from datetime import datetime\n",
    "import pyodbc\n",
    "\n",
    "pd.options.display.float_format = '{:,.2f}'.format"
   ]
  },
  {
   "cell_type": "markdown",
   "metadata": {},
   "source": [
    "# DWH"
   ]
  },
  {
   "cell_type": "markdown",
   "metadata": {},
   "source": [
    "## Connections"
   ]
  },
  {
   "cell_type": "code",
   "execution_count": 3,
   "metadata": {},
   "outputs": [],
   "source": [
    "conn1 = pyodbc.connect('Driver={SQL Server};'\n",
    "                     'Server=SFEDWH01;'\n",
    "                     'Database=Gnm_DWH;'\n",
    "                     'Trusted_Connection=yes;')\n",
    "\n",
    "conn2 = pyodbc.connect('Driver={SQL Server};'\n",
    "                     'Server=SFEDWH01;'\n",
    "                     'Database=Gnm_MasterOp;'\n",
    "                     'Trusted_Connection=yes;')"
   ]
  },
  {
   "cell_type": "markdown",
   "metadata": {},
   "source": [
    "## Queries"
   ]
  },
  {
   "cell_type": "code",
   "execution_count": 4,
   "metadata": {},
   "outputs": [],
   "source": [
    "query_dates = '''SELECT TmpFecha AS Date, TmpSemanaAnioGenomma, TmpAnioSemanaGenomma\n",
    "          FROM dbo.Dim_Tiempo'''\n",
    "\n",
    "query_groups = '''SELECT DISTINCT ProNombre AS AGRUPACION, MrcID, MrcNombre, LinID, LinNombre, ProID\n",
    "              FROM dbo.vw_EstructuraProductosInternacional WHERE TipoComNombre = 'Estados Unidos de América'\n",
    "              '''"
   ]
  },
  {
   "cell_type": "markdown",
   "metadata": {},
   "source": [
    "## Import Data"
   ]
  },
  {
   "cell_type": "code",
   "execution_count": 5,
   "metadata": {},
   "outputs": [],
   "source": [
    "df_tiempo = pd.read_sql(query_dates, conn1)\n",
    "\n",
    "df_groups = pd.read_sql(query_groups, conn2)"
   ]
  },
  {
   "cell_type": "markdown",
   "metadata": {},
   "source": [
    "# Variables"
   ]
  },
  {
   "cell_type": "code",
   "execution_count": 6,
   "metadata": {},
   "outputs": [],
   "source": [
    "day_numbr = {'Sunday':'S-D',\n",
    "             'Monday':'L-V',\n",
    "             'Tuesday':'L-V',\n",
    "             'Wednesday':'L-V',\n",
    "             'Thursday':'L-V',\n",
    "             'Friday':'L-V',\n",
    "             'Saturday':'S-D'}\n",
    "\n",
    "day_numbr_n = {'Sunday':1,\n",
    "               'Monday':2,\n",
    "               'Tuesday':3,\n",
    "               'Wednesday':4,\n",
    "               'Thursday':5,\n",
    "               'Friday':6,\n",
    "               'Saturday':7}\n",
    "\n",
    "month_name = {1:'Enero',\n",
    "              2:'Febrero',\n",
    "              3:'Marzo',\n",
    "              4:'Abril',\n",
    "              5:'Mayo',\n",
    "              6:'Junio',\n",
    "              7:'Julio',\n",
    "              8:'Agosto',\n",
    "              9:'Septiembre',\n",
    "              10:'Octubre',\n",
    "              11:'Noviembre',\n",
    "              12:'Diciembre'}"
   ]
  },
  {
   "cell_type": "code",
   "execution_count": 7,
   "metadata": {},
   "outputs": [],
   "source": [
    "#TV SHOWS OF UNIVISION WITH DIFFERENT DAYPART DON'T FORGET TO KEEP UPDATING THIS LIST\n",
    "different_dayparts = {'Sports':['Combate Global', 'La Jugada', 'Republica Deportiva',\n",
    "                                'Contacto Deportivo'],\n",
    "                      'News' : ['Noticiero Uni Ed Nocturna', 'Noticiero Univision FDS EN',\n",
    "                                'Noticiero Univision', 'Noticiero Univision FDS'],\n",
    "                      'Specials':['Desfile de las Rosas', 'Desfile de las Rosas 2020',\n",
    "                                  'Premios Juventud 2019', 'Feliz 2020', #'Amor Eterno',\n",
    "                                  'Destino 2020 Presenta', 'Aqui y Ahora Censo 2020', \n",
    "                                  'Misa de Domingo de Ramos', 'Celebracion Eucaristica',\n",
    "                                  'Teleton USA 2020', 'Noticias Univision Presenta']}"
   ]
  },
  {
   "cell_type": "markdown",
   "metadata": {},
   "source": [
    "# Load Data"
   ]
  },
  {
   "cell_type": "markdown",
   "metadata": {},
   "source": [
    "## Catalogues"
   ]
  },
  {
   "cell_type": "code",
   "execution_count": 8,
   "metadata": {},
   "outputs": [
    {
     "name": "stdout",
     "output_type": "stream",
     "text": [
      "Wall time: 6.07 s\n"
     ]
    }
   ],
   "source": [
    "%%time\n",
    "## ID and name of contracts\n",
    "id_contracts = pd.read_excel('CATALOGOS/ID_Contracts.xlsx')\n",
    "\n",
    "## Time Zone\n",
    "id_franja = pd.read_excel('CATALOGOS/ID_Franja.xlsx')\n",
    "\n",
    "## ISCI, Duracion, Agrupacion & Pauta\n",
    "id_ISCI = pd.read_excel('CATALOGOS/ID_ISCI.xlsx')\n",
    "\n",
    "## Impressions by Chanel and time zone\n",
    "id_imps = pd.read_excel('CATALOGOS/Historic_impresions_modif.xlsx')"
   ]
  },
  {
   "cell_type": "markdown",
   "metadata": {},
   "source": [
    "## Weekly data"
   ]
  },
  {
   "cell_type": "code",
   "execution_count": 9,
   "metadata": {},
   "outputs": [
    {
     "name": "stdout",
     "output_type": "stream",
     "text": [
      "Wall time: 3.45 s\n"
     ]
    }
   ],
   "source": [
    "%%time\n",
    "## Read Data and drop rows with all the columns with NA\n",
    "raw = pd.read_excel('FILES/{0}/{1}'.format(quarter, filename))\n",
    "raw.dropna(how='all', inplace=True)\n",
    "raw.reset_index(drop=True, inplace=True)"
   ]
  },
  {
   "cell_type": "code",
   "execution_count": 10,
   "metadata": {},
   "outputs": [
    {
     "data": {
      "text/plain": [
       "array(['GALA', nan, 'TUDN', 'UNIM', 'UNIV'], dtype=object)"
      ]
     },
     "execution_count": 10,
     "metadata": {},
     "output_type": "execute_result"
    }
   ],
   "source": [
    "raw['Unnamed: 0'].unique()"
   ]
  },
  {
   "cell_type": "code",
   "execution_count": 11,
   "metadata": {},
   "outputs": [],
   "source": [
    "raw.loc[raw['Unnamed: 0'] == ' ', 'Unnamed: 0'] = None"
   ]
  },
  {
   "cell_type": "markdown",
   "metadata": {},
   "source": [
    "# Data Cleaning"
   ]
  },
  {
   "cell_type": "markdown",
   "metadata": {},
   "source": [
    "## Raw data"
   ]
  },
  {
   "cell_type": "code",
   "execution_count": 12,
   "metadata": {},
   "outputs": [],
   "source": [
    "## Fill cells with the value above it for the first 5 columns\n",
    "for i in range(0,5):\n",
    "    raw[raw.columns[i]] = raw[raw.columns[i]].fillna(method='ffill')"
   ]
  },
  {
   "cell_type": "code",
   "execution_count": 13,
   "metadata": {},
   "outputs": [],
   "source": [
    "## Copy timezones into another column and erase them from the original\n",
    "raw.loc[raw[raw.columns[6]].str.contains(':').fillna(False),raw.columns[5]] = raw.loc[raw[raw.columns[6]].str.contains(':').fillna(False),raw.columns[6]]\n",
    "raw.loc[raw[raw.columns[6]].str.contains(':').fillna(False),raw.columns[6]] = None"
   ]
  },
  {
   "cell_type": "code",
   "execution_count": 14,
   "metadata": {},
   "outputs": [],
   "source": [
    "## Fill cells again for the remaining columns \n",
    "for i in range(5,8):\n",
    "    raw[raw.columns[i]] = raw[raw.columns[i]].fillna(method='ffill')"
   ]
  },
  {
   "cell_type": "code",
   "execution_count": 15,
   "metadata": {},
   "outputs": [],
   "source": [
    "## Save clean dataframe\n",
    "df = raw[raw['Date'].notnull()].copy()\n",
    "df.reset_index(drop=True, inplace=True)\n",
    "\n",
    "## Rename id contracts column and change type to integer\n",
    "df[df.columns[3]] = df[df.columns[3]].astype('int64')\n",
    "df.rename({df.columns[3]:'CONTRACT_ID', df.columns[7]:'PROGRAM_NAME'}, inplace=True, axis=1)\n",
    "df['PROGRAM_NAME'] = df['PROGRAM_NAME'].apply(lambda x: str(x).strip())"
   ]
  },
  {
   "cell_type": "code",
   "execution_count": 16,
   "metadata": {},
   "outputs": [],
   "source": [
    "## Delete rows where ISCI is null\n",
    "df.dropna(subset=['House #'], inplace=True)\n",
    "df.reset_index(drop=True, inplace=True)"
   ]
  },
  {
   "cell_type": "code",
   "execution_count": 17,
   "metadata": {},
   "outputs": [
    {
     "data": {
      "text/html": [
       "<div>\n",
       "<style scoped>\n",
       "    .dataframe tbody tr th:only-of-type {\n",
       "        vertical-align: middle;\n",
       "    }\n",
       "\n",
       "    .dataframe tbody tr th {\n",
       "        vertical-align: top;\n",
       "    }\n",
       "\n",
       "    .dataframe thead th {\n",
       "        text-align: right;\n",
       "    }\n",
       "</style>\n",
       "<table border=\"1\" class=\"dataframe\">\n",
       "  <thead>\n",
       "    <tr style=\"text-align: right;\">\n",
       "      <th></th>\n",
       "      <th>Unnamed: 0</th>\n",
       "      <th>Unnamed: 1</th>\n",
       "      <th>Unnamed: 2</th>\n",
       "      <th>Unnamed: 3</th>\n",
       "      <th>Unnamed: 4</th>\n",
       "      <th>Unnamed: 5</th>\n",
       "      <th>Unnamed: 6</th>\n",
       "      <th>Unnamed: 7</th>\n",
       "      <th>Date</th>\n",
       "      <th>Weekday</th>\n",
       "      <th>...</th>\n",
       "      <th>Rate</th>\n",
       "      <th>Line</th>\n",
       "      <th>Spot #</th>\n",
       "      <th>House #</th>\n",
       "      <th>Priority</th>\n",
       "      <th>MG</th>\n",
       "      <th>Order Product Description</th>\n",
       "      <th>AE</th>\n",
       "      <th>Order Start</th>\n",
       "      <th>Order End</th>\n",
       "    </tr>\n",
       "  </thead>\n",
       "  <tbody>\n",
       "    <tr>\n",
       "      <th>0</th>\n",
       "      <td>GALA</td>\n",
       "      <td>NaN</td>\n",
       "      <td>NaN</td>\n",
       "      <td>NaN</td>\n",
       "      <td>NaN</td>\n",
       "      <td>NaN</td>\n",
       "      <td>NaN</td>\n",
       "      <td>NaN</td>\n",
       "      <td>NaT</td>\n",
       "      <td>NaN</td>\n",
       "      <td>...</td>\n",
       "      <td>NaN</td>\n",
       "      <td>NaN</td>\n",
       "      <td>NaN</td>\n",
       "      <td>NaN</td>\n",
       "      <td>NaN</td>\n",
       "      <td>NaN</td>\n",
       "      <td>NaN</td>\n",
       "      <td>NaN</td>\n",
       "      <td>NaT</td>\n",
       "      <td>NaT</td>\n",
       "    </tr>\n",
       "    <tr>\n",
       "      <th>1</th>\n",
       "      <td>GALA</td>\n",
       "      <td>Genomma Labs USA</td>\n",
       "      <td>NaN</td>\n",
       "      <td>NaN</td>\n",
       "      <td>NaN</td>\n",
       "      <td>NaN</td>\n",
       "      <td>NaN</td>\n",
       "      <td>NaN</td>\n",
       "      <td>NaT</td>\n",
       "      <td>NaN</td>\n",
       "      <td>...</td>\n",
       "      <td>NaN</td>\n",
       "      <td>NaN</td>\n",
       "      <td>NaN</td>\n",
       "      <td>NaN</td>\n",
       "      <td>NaN</td>\n",
       "      <td>NaN</td>\n",
       "      <td>NaN</td>\n",
       "      <td>NaN</td>\n",
       "      <td>NaT</td>\n",
       "      <td>NaT</td>\n",
       "    </tr>\n",
       "    <tr>\n",
       "      <th>2</th>\n",
       "      <td>GALA</td>\n",
       "      <td>Genomma Labs USA</td>\n",
       "      <td>Genomma Lab USA, LLC</td>\n",
       "      <td>NaN</td>\n",
       "      <td>NaN</td>\n",
       "      <td>NaN</td>\n",
       "      <td>NaN</td>\n",
       "      <td>NaN</td>\n",
       "      <td>NaT</td>\n",
       "      <td>NaN</td>\n",
       "      <td>...</td>\n",
       "      <td>NaN</td>\n",
       "      <td>NaN</td>\n",
       "      <td>NaN</td>\n",
       "      <td>NaN</td>\n",
       "      <td>NaN</td>\n",
       "      <td>NaN</td>\n",
       "      <td>NaN</td>\n",
       "      <td>NaN</td>\n",
       "      <td>NaT</td>\n",
       "      <td>NaT</td>\n",
       "    </tr>\n",
       "  </tbody>\n",
       "</table>\n",
       "<p>3 rows × 25 columns</p>\n",
       "</div>"
      ],
      "text/plain": [
       "  Unnamed: 0        Unnamed: 1            Unnamed: 2  Unnamed: 3  Unnamed: 4  \\\n",
       "0       GALA               NaN                   NaN         NaN         NaN   \n",
       "1       GALA  Genomma Labs USA                   NaN         NaN         NaN   \n",
       "2       GALA  Genomma Labs USA  Genomma Lab USA, LLC         NaN         NaN   \n",
       "\n",
       "  Unnamed: 5  Unnamed: 6 Unnamed: 7 Date Weekday  ... Rate Line Spot #  \\\n",
       "0        NaN         NaN        NaN  NaT     NaN  ...  NaN  NaN    NaN   \n",
       "1        NaN         NaN        NaN  NaT     NaN  ...  NaN  NaN    NaN   \n",
       "2        NaN         NaN        NaN  NaT     NaN  ...  NaN  NaN    NaN   \n",
       "\n",
       "   House # Priority  MG  Order Product Description   AE Order Start Order End  \n",
       "0      NaN      NaN NaN                        NaN  NaN         NaT       NaT  \n",
       "1      NaN      NaN NaN                        NaN  NaN         NaT       NaT  \n",
       "2      NaN      NaN NaN                        NaN  NaN         NaT       NaT  \n",
       "\n",
       "[3 rows x 25 columns]"
      ]
     },
     "execution_count": 17,
     "metadata": {},
     "output_type": "execute_result"
    }
   ],
   "source": [
    "raw[:3]"
   ]
  },
  {
   "cell_type": "code",
   "execution_count": 18,
   "metadata": {},
   "outputs": [
    {
     "data": {
      "text/plain": [
       "array(['GALA', 'TUDN', 'UNIM', 'UNIV'], dtype=object)"
      ]
     },
     "execution_count": 18,
     "metadata": {},
     "output_type": "execute_result"
    }
   ],
   "source": [
    "raw['Unnamed: 0'].unique()"
   ]
  },
  {
   "cell_type": "markdown",
   "metadata": {},
   "source": [
    "**IMPORTANT:** The file should only contain dates and blank cells on column \"DATE\", if there's something else please erase it otherwise the program won't run properly make sure to check it before running the code."
   ]
  },
  {
   "cell_type": "code",
   "execution_count": 19,
   "metadata": {},
   "outputs": [],
   "source": [
    "## Date manipulation\n",
    "if 'Genomma Logs Week' in filename:\n",
    "    df['Date'] = pd.to_datetime(df['Date'], format='%m/%d/%y')\n",
    "df['Day of Week'] = df['Date'].apply(lambda x: x.strftime(\"%A\"))\n",
    "df['Day number'] = df['Day of Week'].map(day_numbr_n)\n",
    "df['DESC_SEM'] = df['Day of Week'].map(day_numbr)\n",
    "df['Month'] = df['Date'].dt.month\n",
    "df['DESC_MES'] = df['Month'].map(month_name)"
   ]
  },
  {
   "cell_type": "markdown",
   "metadata": {},
   "source": [
    "## Merges"
   ]
  },
  {
   "cell_type": "markdown",
   "metadata": {},
   "source": [
    "### Week & Year GenommaLab"
   ]
  },
  {
   "cell_type": "code",
   "execution_count": 20,
   "metadata": {},
   "outputs": [],
   "source": [
    "df = pd.merge(df, df_tiempo, on='Date', how='left')"
   ]
  },
  {
   "cell_type": "code",
   "execution_count": 21,
   "metadata": {},
   "outputs": [
    {
     "data": {
      "text/plain": [
       "Unnamed: 6    927\n",
       "Feature       927\n",
       "MG            927\n",
       "dtype: int64"
      ]
     },
     "execution_count": 21,
     "metadata": {},
     "output_type": "execute_result"
    }
   ],
   "source": [
    "df.isnull().sum()[df.isnull().sum() > 1]"
   ]
  },
  {
   "cell_type": "code",
   "execution_count": 22,
   "metadata": {},
   "outputs": [],
   "source": [
    "df['Year'] = df['TmpAnioSemanaGenomma'] #Takes year from date\n",
    "df['Quarter'] = df['TmpSemanaAnioGenomma'].apply(lambda x: 1 if x in range(0,14) else (2 if x in range(14,27) else (3 if x in range(27,40) else 4)))\n",
    "df['YEAR_WEEK'] = df['TmpAnioSemanaGenomma'].astype(str) + '-' + df['TmpSemanaAnioGenomma'].astype(str)\n",
    "\n",
    "## Change lenght to number\n",
    "df['Length'] = df['Length'].apply(lambda x: int(x.split(':')[1]) if x.split(':')[0] == '' else int(x.split(':')[0])*60 + int(x.split(':')[1])) "
   ]
  },
  {
   "cell_type": "code",
   "execution_count": 23,
   "metadata": {},
   "outputs": [],
   "source": [
    "## AirTime manipulation\n",
    "df['Air Time'] = df['Air Time'].apply(lambda x: x.replace('XM','AM'))\n",
    "df['Air Time Nmbr'] = df['Air Time'].apply(lambda x: x.split(' ')[0]); df['Air Time Nmbr'] = pd.to_datetime(df['Air Time Nmbr'], format='%H:%M:%S').dt.time\n",
    "df['Hour'] = df['Air Time Nmbr'].apply(lambda x: x.hour)\n",
    "df['TimeZone'] = df['Air Time'].apply(lambda x: x.split(' ')[1])\n",
    "\n",
    "## Change to 24 hour format\n",
    "df['Air Time 24'] = pd.to_datetime(df['Air Time'], format='%I:%M:%S %p').dt.time\n",
    "df['Hour24'] = df['Air Time 24'].apply(lambda x: x.hour)\n",
    "df['HOUR_ID'] = df['Hour'].astype(str) + '-' + df['TimeZone']\n",
    "df['FRANJA_ID'] = df['DESC_SEM'] + '-' + df['Hour24'].astype(str)"
   ]
  },
  {
   "cell_type": "code",
   "execution_count": 24,
   "metadata": {},
   "outputs": [],
   "source": [
    "## Remove some useless columns\n",
    "df.drop(['Feature','MG'], axis=1,inplace=True)"
   ]
  },
  {
   "cell_type": "markdown",
   "metadata": {},
   "source": [
    "### Contracts"
   ]
  },
  {
   "cell_type": "code",
   "execution_count": 25,
   "metadata": {},
   "outputs": [
    {
     "data": {
      "text/plain": [
       "Series([], Name: CONTRACT_ID, dtype: int64)"
      ]
     },
     "execution_count": 25,
     "metadata": {},
     "output_type": "execute_result"
    }
   ],
   "source": [
    "id_contracts['CONTRACT_ID'].value_counts()[id_contracts['CONTRACT_ID'].value_counts() > 1]"
   ]
  },
  {
   "cell_type": "code",
   "execution_count": 26,
   "metadata": {},
   "outputs": [],
   "source": [
    "df = pd.merge(df, id_contracts, how='left', on='CONTRACT_ID')"
   ]
  },
  {
   "cell_type": "code",
   "execution_count": 27,
   "metadata": {},
   "outputs": [
    {
     "data": {
      "text/plain": [
       "Unnamed: 6    927\n",
       "dtype: int64"
      ]
     },
     "execution_count": 27,
     "metadata": {},
     "output_type": "execute_result"
    }
   ],
   "source": [
    "df.isnull().sum()[df.isnull().sum() > 1]"
   ]
  },
  {
   "cell_type": "code",
   "execution_count": 28,
   "metadata": {},
   "outputs": [
    {
     "data": {
      "text/plain": [
       "Series([], Name: FRANJA_ID, dtype: int64)"
      ]
     },
     "execution_count": 28,
     "metadata": {},
     "output_type": "execute_result"
    }
   ],
   "source": [
    "id_franja['FRANJA_ID'].value_counts()[id_franja['FRANJA_ID'].value_counts() > 1]"
   ]
  },
  {
   "cell_type": "markdown",
   "metadata": {},
   "source": [
    "### Timezones"
   ]
  },
  {
   "cell_type": "code",
   "execution_count": 29,
   "metadata": {},
   "outputs": [],
   "source": [
    "df['franja_grouped'] = df['Hour24'].apply(lambda x: 'Day' if x in list(range(6,19)) else ('Prime' if x in list(range(19,23)) else 'Late'))\n",
    "df = pd.merge(df, id_franja, how='left', on='FRANJA_ID')"
   ]
  },
  {
   "cell_type": "code",
   "execution_count": 30,
   "metadata": {},
   "outputs": [
    {
     "data": {
      "text/plain": [
       "Unnamed: 6    927\n",
       "dtype: int64"
      ]
     },
     "execution_count": 30,
     "metadata": {},
     "output_type": "execute_result"
    }
   ],
   "source": [
    "df.isnull().sum()[df.isnull().sum() > 1]"
   ]
  },
  {
   "cell_type": "markdown",
   "metadata": {},
   "source": [
    "### Impresions"
   ]
  },
  {
   "cell_type": "code",
   "execution_count": 31,
   "metadata": {},
   "outputs": [],
   "source": [
    "## Change special dayparts of univision\n",
    "df.reset_index(drop=True,inplace=True)\n",
    "df['desc_franja_orig'] = df['DESC_FRANJA']\n",
    "for i in ['Sports','News','Specials']:\n",
    "    df_aux = df[(df.DESC_C.isin(['UNV TIER I','UNV TIER II','UNV TIER III'])) & (df.PROGRAM_NAME.isin(different_dayparts[i]))].copy()\n",
    "    if df_aux.shape[0] == 0:\n",
    "        continue\n",
    "    df_aux['DESC_FRANJA'] = i\n",
    "    df.drop(df_aux.index,axis=0,inplace=True)\n",
    "    df = pd.concat([df,df_aux],axis=0)"
   ]
  },
  {
   "cell_type": "code",
   "execution_count": 32,
   "metadata": {},
   "outputs": [
    {
     "data": {
      "text/plain": [
       "Series([], Name: IMP_ID, dtype: int64)"
      ]
     },
     "execution_count": 32,
     "metadata": {},
     "output_type": "execute_result"
    }
   ],
   "source": [
    "id_imps['IMP_ID'].value_counts()[id_imps['IMP_ID'].value_counts() > 1]"
   ]
  },
  {
   "cell_type": "code",
   "execution_count": 33,
   "metadata": {},
   "outputs": [],
   "source": [
    "df['IMP_ID'] = df['Year'].astype(str) + '-' + df['Quarter'].astype(str) + '-' + df['DESC_C'] + '-' + df['DESC_FRANJA']\n",
    "df = pd.merge(df, id_imps.drop(['DESC_CON','QUARTER'], axis=1), how ='left', on='IMP_ID')"
   ]
  },
  {
   "cell_type": "code",
   "execution_count": 34,
   "metadata": {},
   "outputs": [
    {
     "data": {
      "text/plain": [
       "Unnamed: 6    927\n",
       "dtype: int64"
      ]
     },
     "execution_count": 34,
     "metadata": {},
     "output_type": "execute_result"
    }
   ],
   "source": [
    "df.isnull().sum()[df.isnull().sum() > 1]"
   ]
  },
  {
   "cell_type": "markdown",
   "metadata": {},
   "source": [
    "### ISCI"
   ]
  },
  {
   "cell_type": "code",
   "execution_count": 35,
   "metadata": {},
   "outputs": [
    {
     "data": {
      "text/plain": [
       "Series([], Name: ISCI, dtype: int64)"
      ]
     },
     "execution_count": 35,
     "metadata": {},
     "output_type": "execute_result"
    }
   ],
   "source": [
    "id_ISCI['ISCI'].value_counts()[id_ISCI['ISCI'].value_counts() > 1]"
   ]
  },
  {
   "cell_type": "code",
   "execution_count": 36,
   "metadata": {},
   "outputs": [],
   "source": [
    "df.rename({'House #':'ISCI'},axis=1, inplace=True)\n",
    "df = pd.merge(df, id_ISCI, how = 'left', on = 'ISCI')"
   ]
  },
  {
   "cell_type": "code",
   "execution_count": 37,
   "metadata": {},
   "outputs": [
    {
     "data": {
      "text/plain": [
       "Unnamed: 6    927\n",
       "dtype: int64"
      ]
     },
     "execution_count": 37,
     "metadata": {},
     "output_type": "execute_result"
    }
   ],
   "source": [
    "df.isnull().sum()[df.isnull().sum() > 1]"
   ]
  },
  {
   "cell_type": "markdown",
   "metadata": {},
   "source": [
    "### Agrupación, Pauta"
   ]
  },
  {
   "cell_type": "code",
   "execution_count": 38,
   "metadata": {},
   "outputs": [],
   "source": [
    "df_groups = df_groups[~(df_groups['ProID']==2016)]\n",
    "df_groups.reset_index(drop=True, inplace=True)"
   ]
  },
  {
   "cell_type": "code",
   "execution_count": 39,
   "metadata": {},
   "outputs": [
    {
     "data": {
      "text/plain": [
       "Series([], Name: AGRUPACION, dtype: int64)"
      ]
     },
     "execution_count": 39,
     "metadata": {},
     "output_type": "execute_result"
    }
   ],
   "source": [
    "df_groups['AGRUPACION'].value_counts()[df_groups['AGRUPACION'].value_counts() > 1]"
   ]
  },
  {
   "cell_type": "code",
   "execution_count": 40,
   "metadata": {},
   "outputs": [],
   "source": [
    "df.loc[df['AGRUPACION']=='GOICOECHEA LINEA - USA', 'AGRUPACION'] = 'GOICOECHEA LINEA BASE - USA'"
   ]
  },
  {
   "cell_type": "code",
   "execution_count": 41,
   "metadata": {},
   "outputs": [],
   "source": [
    "df = pd.merge(df, df_groups, how = 'left', on = 'AGRUPACION')"
   ]
  },
  {
   "cell_type": "code",
   "execution_count": 42,
   "metadata": {},
   "outputs": [
    {
     "data": {
      "text/plain": [
       "Unnamed: 6    927\n",
       "dtype: int64"
      ]
     },
     "execution_count": 42,
     "metadata": {},
     "output_type": "execute_result"
    }
   ],
   "source": [
    "df.isnull().sum()[df.isnull().sum() > 1]"
   ]
  },
  {
   "cell_type": "code",
   "execution_count": 43,
   "metadata": {},
   "outputs": [],
   "source": [
    "df['PAUTA'] = df['PAUTA'].apply(lambda x: str(x).strip())"
   ]
  },
  {
   "cell_type": "markdown",
   "metadata": {},
   "source": [
    "# Final Transformations"
   ]
  },
  {
   "cell_type": "code",
   "execution_count": 44,
   "metadata": {},
   "outputs": [],
   "source": [
    "# CALCULATE TRP'S\n",
    "df['TRPS'] = df['IMP'] / 251529.5\n",
    "\n",
    "df['Unidades'] = 1\n",
    "df['Unidades Est.'] = df['Length'] / 30\n",
    "\n",
    "df['TRPS Est.'] = df['TRPS'] * df['Unidades Est.']\n",
    "df['IMP Est.'] = df['IMP'] * df['Unidades Est.']\n",
    "\n",
    "#IDK WTF IS THIS COLUMN FOR\n",
    "df['proveedor'] = 'No Info'"
   ]
  },
  {
   "cell_type": "markdown",
   "metadata": {},
   "source": [
    "df_aux = df.pivot_table(index=['MrcNombre', 'IMP_ID'],values=['TRPS', 'TRPS Est.'], aggfunc='sum').reset_index()\n",
    "\n",
    "df_aux.to_excel('Outputs/PT ' + filename[-13:-5] + '.xlsx', index=False)"
   ]
  },
  {
   "cell_type": "code",
   "execution_count": 45,
   "metadata": {},
   "outputs": [],
   "source": [
    "cols_rev = ['Unnamed: 0', 'Unnamed: 1', 'Unnamed: 2', 'CONTRACT_ID', 'Unnamed: 4',\n",
    "            'Unnamed: 5', 'Unnamed: 6', 'PROGRAM_NAME', 'Date', 'Weekday',\n",
    "            'Air Time', 'Length', 'Inv. Code (Placed*)', 'State', 'Rate', 'Line',\n",
    "            'Spot #', 'ISCI', 'Priority', 'Order Product Description', 'AE',\n",
    "            'Order Start', 'Order End', 'Day of Week', 'Day number', 'DESC_SEM',\n",
    "            'Year', 'Quarter', 'Month', 'DESC_MES', 'TmpSemanaAnioGenomma', \n",
    "            'TmpAnioSemanaGenomma', 'YEAR_WEEK', 'Air Time Nmbr', 'Hour', 'TimeZone',\n",
    "            'Air Time 24', 'Hour24', 'HOUR_ID', 'FRANJA_ID', 'CONTRACT_H',\n",
    "            'CONTRACT_TYPE', 'DESC_C', 'DESC_FRANJA', 'IMP_ID', 'CANAL', 'FRANJA', \n",
    "            'IMP', 'VERSION', 'DURACION', 'PAUTA', 'AGRUPACION', 'PAUTA DIRIGIDA', \n",
    "            'MrcID', 'MrcNombre', 'LinID', 'LinNombre', 'ProID', 'TRPS', 'Unidades',\n",
    "            'Unidades Est.', 'TRPS Est.', 'IMP Est.']\n",
    "\n",
    "cols_hist = ['franja_grouped', 'AGRUPACION', 'ProID', 'YEAR_WEEK', 'Air Time', 'proveedor',\n",
    "             'CONTRACT_H', 'ISCI', 'Length', 'Date', 'TRPS', 'IMP', 'CONTRACT_TYPE', 'Hour24',\n",
    "             'DESC_SEM', 'Year', 'TmpSemanaAnioGenomma', 'Month', 'DESC_MES', 'Quarter', \n",
    "             'VERSION', 'Day number', 'PAUTA DIRIGIDA', 'TRPS Est.',  'Unidades', 'Unidades Est.', \n",
    "             'IMP Est.', 'MrcNombre']"
   ]
  },
  {
   "cell_type": "code",
   "execution_count": 46,
   "metadata": {},
   "outputs": [],
   "source": [
    "df_review = df[cols_rev].copy()\n",
    "\n",
    "df_historic = df[cols_hist].copy()"
   ]
  },
  {
   "cell_type": "markdown",
   "metadata": {},
   "source": [
    "# Validations"
   ]
  },
  {
   "cell_type": "code",
   "execution_count": 47,
   "metadata": {},
   "outputs": [
    {
     "data": {
      "text/plain": [
       "Series([], dtype: int64)"
      ]
     },
     "execution_count": 47,
     "metadata": {},
     "output_type": "execute_result"
    }
   ],
   "source": [
    "df_historic.isnull().sum()[df_historic.isnull().sum() > 1]"
   ]
  },
  {
   "cell_type": "code",
   "execution_count": 48,
   "metadata": {},
   "outputs": [
    {
     "data": {
      "text/plain": [
       "Unnamed: 6    927\n",
       "dtype: int64"
      ]
     },
     "execution_count": 48,
     "metadata": {},
     "output_type": "execute_result"
    }
   ],
   "source": [
    "df_review.isnull().sum()[df_review.isnull().sum() > 1]"
   ]
  },
  {
   "cell_type": "code",
   "execution_count": 49,
   "metadata": {},
   "outputs": [
    {
     "data": {
      "text/html": [
       "<div>\n",
       "<style scoped>\n",
       "    .dataframe tbody tr th:only-of-type {\n",
       "        vertical-align: middle;\n",
       "    }\n",
       "\n",
       "    .dataframe tbody tr th {\n",
       "        vertical-align: top;\n",
       "    }\n",
       "\n",
       "    .dataframe thead th {\n",
       "        text-align: right;\n",
       "    }\n",
       "</style>\n",
       "<table border=\"1\" class=\"dataframe\">\n",
       "  <thead>\n",
       "    <tr style=\"text-align: right;\">\n",
       "      <th></th>\n",
       "      <th>TRPS</th>\n",
       "      <th>TRPS Est.</th>\n",
       "    </tr>\n",
       "    <tr>\n",
       "      <th>MrcNombre</th>\n",
       "      <th></th>\n",
       "      <th></th>\n",
       "    </tr>\n",
       "  </thead>\n",
       "  <tbody>\n",
       "    <tr>\n",
       "      <th>ASEPXIA</th>\n",
       "      <td>80.77</td>\n",
       "      <td>56.41</td>\n",
       "    </tr>\n",
       "    <tr>\n",
       "      <th>CICATRICURE</th>\n",
       "      <td>181.47</td>\n",
       "      <td>128.30</td>\n",
       "    </tr>\n",
       "    <tr>\n",
       "      <th>LOMECAN V</th>\n",
       "      <td>23.68</td>\n",
       "      <td>23.68</td>\n",
       "    </tr>\n",
       "    <tr>\n",
       "      <th>POMADA DEL DRAGON</th>\n",
       "      <td>28.04</td>\n",
       "      <td>28.04</td>\n",
       "    </tr>\n",
       "    <tr>\n",
       "      <th>SILKA</th>\n",
       "      <td>12.37</td>\n",
       "      <td>12.37</td>\n",
       "    </tr>\n",
       "    <tr>\n",
       "      <th>TIO NACHO</th>\n",
       "      <td>129.83</td>\n",
       "      <td>64.91</td>\n",
       "    </tr>\n",
       "    <tr>\n",
       "      <th>TUKOL</th>\n",
       "      <td>54.52</td>\n",
       "      <td>27.26</td>\n",
       "    </tr>\n",
       "    <tr>\n",
       "      <th>X RAY</th>\n",
       "      <td>37.34</td>\n",
       "      <td>37.34</td>\n",
       "    </tr>\n",
       "  </tbody>\n",
       "</table>\n",
       "</div>"
      ],
      "text/plain": [
       "                    TRPS  TRPS Est.\n",
       "MrcNombre                          \n",
       "ASEPXIA            80.77      56.41\n",
       "CICATRICURE       181.47     128.30\n",
       "LOMECAN V          23.68      23.68\n",
       "POMADA DEL DRAGON  28.04      28.04\n",
       "SILKA              12.37      12.37\n",
       "TIO NACHO         129.83      64.91\n",
       "TUKOL              54.52      27.26\n",
       "X RAY              37.34      37.34"
      ]
     },
     "execution_count": 49,
     "metadata": {},
     "output_type": "execute_result"
    }
   ],
   "source": [
    "df_historic.pivot_table(index='MrcNombre',values=['TRPS', 'TRPS Est.'], aggfunc='sum')"
   ]
  },
  {
   "cell_type": "code",
   "execution_count": 50,
   "metadata": {},
   "outputs": [
    {
     "data": {
      "text/plain": [
       "TRPS        548.01\n",
       "TRPS Est.   378.31\n",
       "dtype: float64"
      ]
     },
     "execution_count": 50,
     "metadata": {},
     "output_type": "execute_result"
    }
   ],
   "source": [
    "df_historic[['TRPS', 'TRPS Est.']].sum()"
   ]
  },
  {
   "cell_type": "markdown",
   "metadata": {},
   "source": [
    "# Export Data"
   ]
  },
  {
   "cell_type": "code",
   "execution_count": 51,
   "metadata": {},
   "outputs": [],
   "source": [
    "year = (datetime.today() - timedelta(days=2)).year\n",
    "week = datetime.today().isocalendar()[1]\n",
    "week = str(week).zfill(2)\n",
    "\n",
    "path = 'Outputs/{0}/W {1}/'.format(year, week) \n",
    "if not os.path.exists(path):\n",
    "    os.mkdir(path)\n",
    "\n",
    "df_historic.to_csv(path + 'Historic_media_w{1}.csv'.format(year, week), index=False, encoding='latin1')\n",
    "df_review.to_csv(path + 'Raw_media_W{1}.csv'.format(year, week), index=False, encoding='latin1')"
   ]
  },
  {
   "cell_type": "markdown",
   "metadata": {},
   "source": []
  },
  {
   "cell_type": "markdown",
   "metadata": {
    "scrolled": true
   },
   "source": [
    "df_all = pd.DataFrame()\n",
    "files_raros = []\n",
    "\n",
    "for name in file_names:    \n",
    "    try:\n",
    "        ###############################\n",
    "        #LOAD DATA\n",
    "        #Read support tables\n",
    "        id_contracts = pd.read_excel('CATALOGOS/ID_Contracts.xlsx')\n",
    "        id_franja = pd.read_excel('CATALOGOS/ID_Franja.xlsx')\n",
    "        id_ISCI = pd.read_excel('CATALOGOS/ID_ISCI.xlsx')\n",
    "        id_imps = pd.read_excel('CATALOGOS/Historic_impresions.xlsx')\n",
    "        #id_pauta = pd.read_excel('CATALOGOS/ID_PAUTA_DIRIGIDA_2.xlsx')\n",
    "        #id_agrup = pd.read_excel('CATALOGOS/ID_AGRUPACIONES.xlsx')\n",
    "\n",
    "        #Read Data and drop rows with all the columns with NA\n",
    "        raw = pd.read_excel('FILES/{0}/{1}'.fomart(quarter, name))\n",
    "        raw.dropna(how='all', inplace=True)\n",
    "        raw.reset_index(drop=True, inplace=True)\n",
    "\n",
    "        ###############################\n",
    "        #PREPARE DATA\n",
    "        #Fill cells with the value above it for the first 5 columns\n",
    "        for i in range(0,5):\n",
    "            raw[raw.columns[i]] = raw[raw.columns[i]].fillna(method='ffill')\n",
    "\n",
    "        #Copy timezones into another column and erase them from the original\n",
    "        raw.loc[raw[raw.columns[6]].str.contains(':').fillna(False),raw.columns[5]] = raw.loc[raw[raw.columns[6]].str.contains(':').fillna(False),raw.columns[6]]\n",
    "        raw.loc[raw[raw.columns[6]].str.contains(':').fillna(False),raw.columns[6]] = None\n",
    "\n",
    "        #Fill cells again for the remaining columns \n",
    "        for i in range(5,8):\n",
    "            raw[raw.columns[i]] = raw[raw.columns[i]].fillna(method='ffill')\n",
    "\n",
    "        #Save clean dataframe\n",
    "        df = raw[raw['Date'].notnull()].reset_index(drop=True)\n",
    "        df[df.columns[3]] = df[df.columns[3]].astype('int64'); df.rename({df.columns[3]:'CONTRACT_ID',df.columns[7]:'PROGRAM_NAME'},inplace=True,axis=1) #Rename id contracts column and change type to integer\n",
    "        df['PROGRAM_NAME'] = df['PROGRAM_NAME'].apply(lambda x: str(x).strip())\n",
    "\n",
    "        df_raw = df.copy()\n",
    "\n",
    "        ###############################\n",
    "        #DATAFRAME MANIPULATION\n",
    "        #Delete rows where ISCI is null\n",
    "        df.dropna(subset=['House #'],inplace=True)\n",
    "        df.reset_index(drop=True,inplace=True)\n",
    "\n",
    "        #Date manipulation\n",
    "        if 'Genomma Logs Week' in name:\n",
    "            df['Date'] = pd.to_datetime(df['Date'], format='%m/%d/%y')\n",
    "        df['Day of Week'] = df['Date'].apply(lambda x: x.strftime(\"%A\"))\n",
    "        df['Day number'] = df['Day of Week'].map(day_numbr_n)\n",
    "        df['DESC_SEM'] = df['Day of Week'].map(day_numbr)\n",
    "        df['Month'] = df['Date'].dt.month\n",
    "        df['DESC_MES'] = df['Month'].map(month_name)\n",
    "\n",
    "        #Relate week and year Genomma\n",
    "        df = pd.merge(df,df_tiempo,on='Date',how='left')\n",
    "        df['Year'] = df['TmpAnioSemanaGenomma'] #Takes year from date\n",
    "        df['Quarter'] = df['TmpSemanaAnioGenomma'].apply(lambda x: 1 if x in range(0,14) else (2 if x in range(14,27) else (3 if x in range(27,40) else 4)))\n",
    "        df['YEAR_WEEK'] = df['TmpAnioSemanaGenomma'].astype(str) + '-' + df['TmpSemanaAnioGenomma'].astype(str)\n",
    "\n",
    "        df['Length'] = df['Length'].apply(lambda x: int(x.split(':')[1]) if x.split(':')[0] == '' else int(x.split(':')[0])*60 + int(x.split(':')[1])) #Change lenght to number\n",
    "\n",
    "        #AirTime manipulation\n",
    "        df['Air Time'] = df['Air Time'].apply(lambda x: x.replace('XM','AM'))\n",
    "        df['Air Time Nmbr'] = df['Air Time'].apply(lambda x: x.split(' ')[0]); df['Air Time Nmbr'] = pd.to_datetime(df['Air Time Nmbr'], format='%H:%M:%S').dt.time\n",
    "        df['Hour'] = df['Air Time Nmbr'].apply(lambda x: x.hour)\n",
    "        df['TimeZone'] = df['Air Time'].apply(lambda x: x.split(' ')[1])\n",
    "        df['Air Time 24'] = pd.to_datetime(df['Air Time'], format='%I:%M:%S %p').dt.time #Change to 24 hour format\n",
    "        df['Hour24'] = df['Air Time 24'].apply(lambda x: x.hour)\n",
    "        df['HOUR_ID'] = df['Hour'].astype(str) + '-' + df['TimeZone']\n",
    "        df['FRANJA_ID'] = df['DESC_SEM'] + '-' + df['Hour24'].astype(str)\n",
    "\n",
    "        #Remove some useless columns\n",
    "        df.drop(['Feature','MG'], axis=1,inplace=True)\n",
    "\n",
    "        ###############################\n",
    "        #RELATE CONTRACTS\n",
    "        df = pd.merge(df,id_contracts,how='left', on='CONTRACT_ID')\n",
    "\n",
    "        ###############################\n",
    "        #RELATE TIMEZONES\n",
    "        df['franja_grouped'] = df['Hour24'].apply(lambda x: 'Day' if x in list(range(6,19)) else ('Prime' if x in list(range(19,23)) else 'Late'))\n",
    "        df = pd.merge(df,id_franja,how='left', on='FRANJA_ID')\n",
    "\n",
    "        ###############################\n",
    "        #RELATE IMPRESIONS\n",
    "        #Change special dayparts of univision\n",
    "        df.reset_index(drop=True,inplace=True)\n",
    "        df['desc_franja_orig'] = df['DESC_FRANJA']\n",
    "        for i in ['Sports','News','Specials']:\n",
    "            df_aux = df[(df.DESC_C.isin(['UNV TIER I','UNV TIER II','UNV TIER III'])) & (df.PROGRAM_NAME.isin(different_dayparts[i]))].copy()\n",
    "            if df_aux.shape[0] == 0:\n",
    "                continue\n",
    "            df_aux['DESC_FRANJA'] = i\n",
    "            df.drop(df_aux.index,axis=0,inplace=True)\n",
    "            df = pd.concat([df,df_aux],axis=0)\n",
    "\n",
    "        df['IMP_ID'] = df['Year'].astype(str) + '-' + df['Quarter'].astype(str) + '-' + df['DESC_C'] + '-' + df['DESC_FRANJA']\n",
    "        df = pd.merge(df, id_imps.drop(['DESC_CON','QUARTER'],axis=1), how = 'left', on = 'IMP_ID')\n",
    "\n",
    "        ###############################\n",
    "        #RELATE ISCI, PAUTA, ETC\n",
    "        df.rename({'House #':'ISCI'},axis=1, inplace=True)\n",
    "        df = pd.merge(df, id_ISCI, how = 'left', on = 'ISCI')\n",
    "\n",
    "        df['PAUTA'] = df['PAUTA'].apply(lambda x: str(x).strip())\n",
    "        #df = pd.merge(df, id_pauta, how = 'left', on = 'PAUTA')\n",
    "\n",
    "        df = pd.merge(df, df_groups, how = 'left', on = 'AGRUPACION')\n",
    "\n",
    "        ###############################\n",
    "        #CALCULATE TRP'S\n",
    "        df['TRPS'] = df['IMP'] / 251529.5\n",
    "\n",
    "        df['Unidades'] = 1\n",
    "        df['Unidades Est.'] = df['Length'] / 30\n",
    "\n",
    "        df['TRPS Est.'] = df['TRPS'] * df['Unidades Est.']\n",
    "        df['IMP Est.'] = df['IMP'] * df['Unidades Est.']\n",
    "\n",
    "        #IDK WTF IS THIS COLUMN FOR\n",
    "        df['proveedor'] = 'No Info'\n",
    "\n",
    "        ###############################\n",
    "        #OUTPUTS\n",
    "        df.columns = [i.lower() for i in df.columns]\n",
    "\n",
    "        df_all = pd.concat([df_all,df])\n",
    "        print(name)\n",
    "\n",
    "    except:\n",
    "        files_raros.append(name)\n",
    "        continue\n",
    "        \n",
    "#if df_all[df_all['agrupacion'].str.contains('LINEA')].shape[0] > 0:\n",
    "    \n",
    "     #print('Se encontró un spot dirigido a una linea completa...')\n",
    "     #df_all = linea_treatment(df_all)\n",
    "    \n",
    "df_review = df_all[['unnamed: 0','unnamed: 1','unnamed: 2','contract_id','unnamed: 4','unnamed: 5','unnamed: 6','program_name','date','weekday','air time','length','inv. code (placed*)','state','rate','line','spot #','isci','priority','order product description','ae','order start','order end','day of week','day number','desc_sem','year','quarter','month','desc_mes','tmpsemanaaniogenomma','tmpaniosemanagenomma','year_week','air time nmbr','hour','timezone','air time 24','hour24','hour_id','franja_id','contract_h','contract_type','desc_c','desc_franja','imp_id','canal','franja','imp','version','duracion','pauta','agrupacion','pauta dirigida','mrcid','mrcnombre','linid','linnombre','proid','trps','unidades','unidades est.','trps est.','imp est.']].copy()\n",
    "df_historic = df_all[['franja_grouped','agrupacion','proid','year_week','air time','proveedor','contract_h','isci','length','date','trps','imp','contract_type','hour24','desc_sem','year','tmpsemanaaniogenomma','month','desc_mes','quarter','version','day number','pauta dirigida','trps est.','unidades','unidades est.','imp est.','mrcnombre']].copy()\n"
   ]
  },
  {
   "cell_type": "code",
   "execution_count": null,
   "metadata": {},
   "outputs": [],
   "source": []
  }
 ],
 "metadata": {
  "kernelspec": {
   "display_name": "Python 3 (ipykernel)",
   "language": "python",
   "name": "python3"
  },
  "language_info": {
   "codemirror_mode": {
    "name": "ipython",
    "version": 3
   },
   "file_extension": ".py",
   "mimetype": "text/x-python",
   "name": "python",
   "nbconvert_exporter": "python",
   "pygments_lexer": "ipython3",
   "version": "3.8.10"
  },
  "toc": {
   "base_numbering": 1,
   "nav_menu": {},
   "number_sections": true,
   "sideBar": true,
   "skip_h1_title": false,
   "title_cell": "Table of Contents",
   "title_sidebar": "Contents",
   "toc_cell": false,
   "toc_position": {},
   "toc_section_display": true,
   "toc_window_display": true
  }
 },
 "nbformat": 4,
 "nbformat_minor": 4
}

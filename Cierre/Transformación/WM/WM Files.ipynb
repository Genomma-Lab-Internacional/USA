{
 "cells": [
  {
   "cell_type": "code",
   "execution_count": 1,
   "metadata": {},
   "outputs": [
    {
     "name": "stdout",
     "output_type": "stream",
     "text": [
      "Package                            Version"
     ]
    },
    {
     "name": "stderr",
     "output_type": "stream",
     "text": [
      "WARNING: You are using pip version 21.3.1; however, version 22.0.3 is available.\n",
      "You should consider upgrading via the 'c:\\users\\jshernandezm\\anaconda3\\python.exe -m pip install --upgrade pip' command.\n"
     ]
    },
    {
     "name": "stdout",
     "output_type": "stream",
     "text": [
      "\n",
      "---------------------------------- -------------------\n",
      "alabaster                          0.7.12\n",
      "altair                             4.2.0\n",
      "altair-data-server                 0.4.1\n",
      "altair-saver                       0.5.0\n",
      "altair-viewer                      0.4.0\n",
      "anaconda-client                    1.7.2\n",
      "anaconda-navigator                 2.0.3\n",
      "anaconda-project                   0.10.0\n",
      "anyio                              2.2.0\n",
      "appdirs                            1.4.4\n",
      "argh                               0.26.2\n",
      "argon2-cffi                        20.1.0\n",
      "asn1crypto                         1.4.0\n",
      "astroid                            2.4.0\n",
      "astropy                            4.2.1\n",
      "async-generator                    1.10\n",
      "atomicwrites                       1.4.0\n",
      "attrs                              19.3.0\n",
      "autopep8                           1.5.6\n",
      "Babel                              2.9.1\n",
      "backcall                           0.1.0\n",
      "backports.functools-lru-cache      1.6.4\n",
      "backports.shutil-get-terminal-size 1.0.0\n",
      "backports.tempfile                 1.0\n",
      "backports.weakref                  1.0.post1\n",
      "bcrypt                             3.2.0\n",
      "beautifulsoup4                     4.9.3\n",
      "bitarray                           2.1.0\n",
      "bkcharts                           0.2\n",
      "black                              19.10b0\n",
      "bleach                             3.1.5\n",
      "bokeh                              2.3.2\n",
      "boto                               2.49.0\n",
      "boto3                              1.17.94\n",
      "botocore                           1.20.94\n",
      "Bottleneck                         1.3.2\n",
      "brotlipy                           0.7.0\n",
      "certifi                            2021.10.8\n",
      "cffi                               1.14.5\n",
      "chardet                            4.0.0\n",
      "chart-studio                       1.1.0\n",
      "click                              8.0.1\n",
      "cloudpickle                        1.6.0\n",
      "clyent                             1.2.2\n",
      "colorama                           0.4.3\n",
      "comtypes                           1.1.10\n",
      "conda                              4.11.0\n",
      "conda-build                        3.21.4\n",
      "conda-content-trust                0+unknown\n",
      "conda-pack                         0.6.0\n",
      "conda-package-handling             1.7.3\n",
      "conda-repo-cli                     1.0.4\n",
      "conda-token                        0.3.0\n",
      "conda-verify                       3.4.2\n",
      "contextlib2                        0.6.0.post1\n",
      "cryptography                       3.4.7\n",
      "cycler                             0.10.0\n",
      "Cython                             0.29.23\n",
      "cytoolz                            0.11.0\n",
      "dask                               2021.6.0\n",
      "data                               0.4\n",
      "debugpy                            1.4.1\n",
      "decorator                          4.4.2\n",
      "defusedxml                         0.6.0\n",
      "diff-match-patch                   20200713\n",
      "distributed                        2021.6.0\n",
      "docutils                           0.17.1\n",
      "entrypoints                        0.3\n",
      "et-xmlfile                         1.1.0\n",
      "fastcache                          1.1.0\n",
      "filelock                           3.0.12\n",
      "flake8                             3.9.0\n",
      "Flask                              1.1.2\n",
      "fsspec                             2021.6.0\n",
      "funcsigs                           1.0.2\n",
      "future                             0.18.2\n",
      "gevent                             21.1.2\n",
      "glob2                              0.7\n",
      "gmpy2                              2.0.8\n",
      "greenlet                           1.1.0\n",
      "h11                                0.13.0\n",
      "h5py                               2.10.0\n",
      "HeapDict                           1.0.1\n",
      "helpdev                            0.7.1\n",
      "html5lib                           1.1\n",
      "idna                               2.10\n",
      "imageio                            2.9.0\n",
      "imagesize                          1.2.0\n",
      "importlib-metadata                 3.10.0\n",
      "iniconfig                          1.1.1\n",
      "intervaltree                       3.1.0\n",
      "ipykernel                          6.0.3\n",
      "ipython                            7.26.0\n",
      "ipython-genutils                   0.2.0\n",
      "ipywidgets                         7.5.1\n",
      "isort                              4.3.21\n",
      "itsdangerous                       2.0.1\n",
      "jdcal                              1.4.1\n",
      "jedi                               0.17.2\n",
      "Jinja2                             2.11.2\n",
      "jmespath                           0.10.0\n",
      "joblib                             1.0.1\n",
      "json5                              0.9.5\n",
      "jsonschema                         3.2.0\n",
      "jupyter                            1.0.0\n",
      "jupyter-client                     6.1.12\n",
      "jupyter-console                    6.1.0\n",
      "jupyter-core                       4.6.3\n",
      "jupyter-packaging                  0.7.12\n",
      "jupyter-server                     1.4.1\n",
      "jupyterlab                         3.0.14\n",
      "jupyterlab-pygments                0.1.2\n",
      "jupyterlab-server                  2.4.0\n",
      "jupyterlab-widgets                 1.0.0\n",
      "jupyternotify                      0.1.15\n",
      "keyring                            23.0.1\n",
      "kiwisolver                         1.3.1\n",
      "lazy-object-proxy                  1.4.3\n",
      "libarchive-c                       2.9\n",
      "llvmlite                           0.36.0\n",
      "locket                             0.2.1\n",
      "lxml                               4.6.3\n",
      "MarkupSafe                         1.1.1\n",
      "matplotlib                         3.3.4\n",
      "matplotlib-inline                  0.1.2\n",
      "mccabe                             0.6.1\n",
      "menuinst                           1.4.16\n",
      "mistune                            0.8.4\n",
      "mkl-fft                            1.3.0\n",
      "mkl-random                         1.1.1\n",
      "mkl-service                        2.3.0\n",
      "mock                               4.0.3\n",
      "more-itertools                     8.8.0\n",
      "mpmath                             1.2.1\n",
      "msgpack                            1.0.2\n",
      "multipledispatch                   0.6.0\n",
      "mypy-extensions                    0.4.3\n",
      "mysql-connector-python             8.0.25\n",
      "navigator-updater                  0.2.1\n",
      "nbclassic                          0.2.6\n",
      "nbclient                           0.5.3\n",
      "nbconvert                          5.6.1\n",
      "nbformat                           5.0.6\n",
      "nest-asyncio                       1.5.1\n",
      "networkx                           2.5.1\n",
      "nltk                               3.6.2\n",
      "nose                               1.3.7\n",
      "notebook                           6.0.3\n",
      "numba                              0.53.1\n",
      "numexpr                            2.7.3\n",
      "numpy                              1.21.4\n",
      "numpydoc                           1.1.0\n",
      "olefile                            0.46\n",
      "openpyxl                           3.0.7\n",
      "outcome                            1.1.0\n",
      "packaging                          20.3\n",
      "pandas                             1.2.4\n",
      "pandocfilters                      1.4.2\n",
      "paramiko                           2.7.2\n",
      "parso                              0.7.0\n",
      "partd                              1.2.0\n",
      "path                               15.1.2\n",
      "pathlib                            1.0.1\n",
      "pathlib2                           2.3.5\n",
      "pathspec                           0.7.0\n",
      "pathtools                          0.1.2\n",
      "patsy                              0.5.1\n",
      "pep8                               1.7.1\n",
      "pexpect                            4.8.0\n",
      "pickleshare                        0.7.5\n",
      "Pillow                             8.2.0\n",
      "pip                                21.3.1\n",
      "pkginfo                            1.7.0\n",
      "plotly                             5.5.0\n",
      "pluggy                             0.13.1\n",
      "ply                                3.11\n",
      "pool                               0.1.2.dev0\n",
      "portpicker                         1.5.0\n",
      "prometheus-client                  0.7.1\n",
      "prompt-toolkit                     3.0.5\n",
      "protobuf                           3.17.3\n",
      "psutil                             5.8.0\n",
      "ptyprocess                         0.7.0\n",
      "py                                 1.10.0\n",
      "pycodestyle                        2.6.0\n",
      "pycosat                            0.6.3\n",
      "pycparser                          2.20\n",
      "pycurl                             7.43.0.6\n",
      "pydocstyle                         6.1.1\n",
      "pyerfa                             1.7.2\n",
      "pyflakes                           2.2.0\n",
      "Pygments                           2.6.1\n",
      "pylint                             2.5.0\n",
      "pyls-black                         0.4.6\n",
      "pyls-spyder                        0.3.2\n",
      "PyNaCl                             1.4.0\n",
      "pyodbc                             4.0.0-unsupported\n",
      "pyOpenSSL                          20.0.1\n",
      "pyparsing                          2.4.7\n",
      "PyQt5                              5.12.3\n",
      "PyQt5-Qt5                          5.15.2\n",
      "PyQt5-sip                          12.9.0\n",
      "PyQtWebEngine                      5.12.1\n",
      "pyreadline                         2.1\n",
      "pyrsistent                         0.16.0\n",
      "PySocks                            1.7.1\n",
      "pytest                             6.2.4\n",
      "python-dateutil                    2.8.1\n",
      "python-jsonrpc-server              0.4.0\n",
      "python-language-server             0.36.2\n",
      "pytz                               2021.1\n",
      "PyWavelets                         1.1.1\n",
      "pywin32                            227\n",
      "pywin32-ctypes                     0.2.0\n",
      "pywinpty                           0.5.7\n",
      "PyYAML                             5.4.1\n",
      "pyzmq                              19.0.0\n",
      "QDarkStyle                         2.8.1\n",
      "QtAwesome                          1.0.2\n",
      "qtconsole                          5.1.1\n",
      "QtPy                               1.9.0\n",
      "regex                              2021.4.4\n",
      "requests                           2.25.1\n",
      "retrying                           1.3.3\n",
      "rope                               0.19.0\n",
      "Rtree                              0.9.7\n",
      "ruamel.yaml                        0.17.10\n",
      "ruamel.yaml.clib                   0.2.6\n",
      "ruamel-yaml-conda                  0.15.100\n",
      "s3transfer                         0.4.2\n",
      "scikit-image                       0.16.2\n",
      "scikit-learn                       1.0.1\n",
      "scipy                              1.6.2\n",
      "seaborn                            0.11.1\n",
      "selenium                           4.1.2\n",
      "Send2Trash                         1.5.0\n",
      "setuptools                         52.0.0.post20210125\n",
      "simplegeneric                      0.8.1\n",
      "singledispatch                     0.0.0\n",
      "sip                                4.19.13\n",
      "six                                1.14.0\n",
      "sniffio                            1.2.0\n",
      "snowballstemmer                    2.1.0\n",
      "sortedcollections                  2.1.0\n",
      "sortedcontainers                   2.3.0\n",
      "soupsieve                          2.2.1\n",
      "Sphinx                             4.0.1\n",
      "sphinxcontrib-applehelp            1.0.2\n",
      "sphinxcontrib-devhelp              1.0.2\n",
      "sphinxcontrib-htmlhelp             1.0.3\n",
      "sphinxcontrib-jsmath               1.0.1\n",
      "sphinxcontrib-qthelp               1.0.3\n",
      "sphinxcontrib-serializinghtml      1.1.4\n",
      "sphinxcontrib-websupport           1.2.4\n",
      "spyder                             4.2.5\n",
      "spyder-kernels                     1.10.2\n",
      "SQLAlchemy                         1.4.15\n",
      "statsmodels                        0.12.2\n",
      "sympy                              1.8\n",
      "tables                             3.6.1\n",
      "tblib                              1.7.0\n",
      "tenacity                           7.0.0\n",
      "terminado                          0.8.3\n",
      "testpath                           0.4.4\n",
      "textdistance                       4.2.1\n",
      "threadpoolctl                      2.1.0\n",
      "three-merge                        0.1.1\n",
      "toml                               0.10.0\n",
      "toolz                              0.11.1\n",
      "tornado                            6.1\n",
      "tqdm                               4.59.0\n",
      "traitlets                          4.3.3\n",
      "trio                               0.20.0\n",
      "trio-websocket                     0.9.2\n",
      "typed-ast                          1.4.2\n",
      "typing-extensions                  3.7.4.3\n",
      "ujson                              4.0.2\n",
      "unicodecsv                         0.14.1\n",
      "urllib3                            1.26.4\n",
      "vega-datasets                      0.9.0\n",
      "watchdog                           1.0.2\n",
      "wcwidth                            0.1.9\n",
      "webencodings                       0.5.1\n",
      "Werkzeug                           1.0.1\n",
      "wheel                              0.36.2\n",
      "widgetsnbextension                 3.5.1\n",
      "win-inet-pton                      1.1.0\n",
      "win-unicode-console                0.5\n",
      "wincertstore                       0.2\n",
      "wrapt                              1.12.1\n",
      "wsproto                            1.1.0\n",
      "xlrd                               2.0.1\n",
      "XlsxWriter                         1.3.8\n",
      "xlwings                            0.23.0\n",
      "xlwt                               1.3.0\n",
      "xmltodict                          0.12.0\n",
      "yapf                               0.31.0\n",
      "zict                               2.0.0\n",
      "zipp                               3.4.1\n",
      "zope.event                         4.5.0\n",
      "zope.interface                     5.3.0\n"
     ]
    }
   ],
   "source": [
    "!pip list"
   ]
  },
  {
   "cell_type": "markdown",
   "metadata": {},
   "source": [
    "# Libraries"
   ]
  },
  {
   "cell_type": "code",
   "execution_count": 2,
   "metadata": {},
   "outputs": [],
   "source": [
    "import os\n",
    "import shutil\n",
    "import pandas as pd\n",
    "from zipfile import ZipFile\n",
    "from datetime import datetime, timedelta\n",
    "import warnings\n",
    "warnings.filterwarnings('ignore')\n",
    "pd.io.formats.excel.ExcelFormatter.header_style = None"
   ]
  },
  {
   "cell_type": "markdown",
   "metadata": {},
   "source": [
    "# Parameters"
   ]
  },
  {
   "cell_type": "code",
   "execution_count": 2,
   "metadata": {},
   "outputs": [],
   "source": [
    "filename = 'Walmart_Data.zip'\n",
    "pr_files = ['PR GL PULL 03-07-22(13983).xlsx', 'Genomma Labs Week 202205(13956).xlsx']"
   ]
  },
  {
   "cell_type": "code",
   "execution_count": 3,
   "metadata": {},
   "outputs": [],
   "source": [
    "today = '3.7.22'\n",
    "year = datetime.today().isocalendar()[0]\n",
    "week = datetime.today().isocalendar()[1]\n",
    "path = r'\\\\NASPRO.infovisiontv.com\\DWH01\\Cognos\\Genomma lab USA\\US Data\\Walmart\\{}'"
   ]
  },
  {
   "cell_type": "markdown",
   "metadata": {},
   "source": [
    "# Unzipping"
   ]
  },
  {
   "cell_type": "code",
   "execution_count": 4,
   "metadata": {},
   "outputs": [
    {
     "name": "stdout",
     "output_type": "stream",
     "text": [
      "Wall time: 36.7 s\n"
     ]
    }
   ],
   "source": [
    "%%time\n",
    "with ZipFile(path.format(year) + '\\\\' + filename, 'r') as zip_ref:\n",
    "    zip_ref.extractall(path.format(year))"
   ]
  },
  {
   "cell_type": "markdown",
   "metadata": {},
   "source": [
    "# Moving Files"
   ]
  },
  {
   "cell_type": "markdown",
   "metadata": {},
   "source": [
    "## DotCom"
   ]
  },
  {
   "cell_type": "code",
   "execution_count": 5,
   "metadata": {},
   "outputs": [],
   "source": [
    "new_folder = path.format(year) + '\\\\DotCom\\\\' + 'W {0} {1}'.format(week, year)\n",
    "if not os.path.exists(new_folder):\n",
    "    os.mkdir(new_folder)\n",
    "for file in [f for f in zip_ref.namelist() if 'com' in f]:\n",
    "    shutil.move(path.format(year) + '\\\\' + file, new_folder)\n",
    "# Rename \"New Beauty no dotcom\" file\n",
    "old_name = new_folder + '\\\\' + 'Walmart.com Data Pull {}.xlsx'.format(today)\n",
    "new_name = new_folder + '\\\\' + '{0}_{1}_WalmarteCommerce.xlsx'.format(year, str(week).zfill(2))\n",
    "os.rename(old_name, new_name)"
   ]
  },
  {
   "cell_type": "markdown",
   "metadata": {},
   "source": [
    "## WalMart USA"
   ]
  },
  {
   "cell_type": "code",
   "execution_count": 6,
   "metadata": {},
   "outputs": [],
   "source": [
    "new_folder = path.format(year) + '\\\\' + 'W {0} {1}'.format(week, year)\n",
    "if not os.path.exists(new_folder):\n",
    "    os.mkdir(new_folder)\n",
    "for file in ['New OTC 1 {0}.xlsx', 'New OTC 2 {0}.xlsx', 'New Beauty {0}.xlsx']:\n",
    "    shutil.move(path.format(year) + '\\\\' + file.format(today), new_folder)"
   ]
  },
  {
   "cell_type": "markdown",
   "metadata": {},
   "source": [
    "## Not Used"
   ]
  },
  {
   "cell_type": "code",
   "execution_count": 7,
   "metadata": {},
   "outputs": [],
   "source": [
    "nu_folder = r'\\\\NASPRO.infovisiontv.com\\DWH01\\Cognos\\Genomma lab USA\\US Data\\Walmart\\{0}\\Not Used'\n",
    "nu_folder = nu_folder.format(year)\n",
    "\n",
    "if not os.path.exists(nu_folder):\n",
    "    os.mkdir(nu_folder)\n",
    "\n",
    "for file in [f for f in os.listdir(path.format(year)) if 'PG GL Pull' in f]:\n",
    "    shutil.move(path.format(year) + '\\\\' + file, nu_folder)"
   ]
  },
  {
   "cell_type": "markdown",
   "metadata": {},
   "source": [
    "## PR"
   ]
  },
  {
   "cell_type": "code",
   "execution_count": 8,
   "metadata": {},
   "outputs": [],
   "source": [
    "new_folder = path.format(year) + '\\\\PR\\\\' + 'W {0} {1}'.format(week, year)\n",
    "if not os.path.exists(new_folder):\n",
    "    os.mkdir(new_folder)\n",
    "for file in [f for f in os.listdir(path.format(year)) if 'xlsx' in f]:\n",
    "    shutil.move(path.format(year) + '\\\\' + file, new_folder)"
   ]
  },
  {
   "cell_type": "markdown",
   "metadata": {},
   "source": [
    "# Remove Zip File"
   ]
  },
  {
   "cell_type": "code",
   "execution_count": 9,
   "metadata": {},
   "outputs": [],
   "source": [
    "os.remove(path.format(year) + '\\\\' + filename)"
   ]
  },
  {
   "cell_type": "markdown",
   "metadata": {},
   "source": [
    "# Tranform Data"
   ]
  },
  {
   "cell_type": "code",
   "execution_count": 10,
   "metadata": {},
   "outputs": [],
   "source": [
    "def reshape_data(df):\n",
    "    # Find where there are not nulls data\n",
    "    since_notnull = df[df.iloc[:,8].notnull()].index[0]\n",
    "    # This will be new columns names\n",
    "    cols = df.iloc[since_notnull,:].tolist()\n",
    "    # From here we have the data\n",
    "    data = df.iloc[since_notnull + 1:].copy()\n",
    "    # Reset index and rename\n",
    "    data.reset_index(drop=True, inplace=True)\n",
    "    data.rename(dict(zip(df.columns.tolist(), cols)), axis=1, inplace=True)\n",
    "    return data"
   ]
  },
  {
   "cell_type": "code",
   "execution_count": 11,
   "metadata": {},
   "outputs": [],
   "source": [
    "path_server = r'\\\\NASPRO.infovisiontv.com\\DWH01\\Cognos\\Genomma lab USA\\US Data\\Walmart\\{0}\\W {1} {0}'"
   ]
  },
  {
   "cell_type": "code",
   "execution_count": 12,
   "metadata": {},
   "outputs": [
    {
     "name": "stdout",
     "output_type": "stream",
     "text": [
      "Wall time: 1min 5s\n"
     ]
    }
   ],
   "source": [
    "%%time\n",
    "df = pd.DataFrame()\n",
    "for file in os.listdir(path_server.format(year, week)):\n",
    "    aux = pd.read_excel(path_server.format(year, week) + '\\\\' + file)\n",
    "    df = pd.concat([df, reshape_data(aux)])"
   ]
  },
  {
   "cell_type": "code",
   "execution_count": 13,
   "metadata": {},
   "outputs": [],
   "source": [
    "num_cols = ['POS Qty', 'Curr Str On Hand Qty', 'Curr Str On Order Qty', 'Curr Str In Transit Qty']\n",
    "for col in num_cols:\n",
    "    df[col] = df[col].map(int)\n",
    "df['POS Sales'] = df['POS Sales'].map(float)"
   ]
  },
  {
   "cell_type": "code",
   "execution_count": 14,
   "metadata": {},
   "outputs": [
    {
     "name": "stdout",
     "output_type": "stream",
     "text": [
      "Wall time: 3.59 s\n"
     ]
    }
   ],
   "source": [
    "%%time\n",
    "df_pr = pd.DataFrame()\n",
    "for file in pr_files:\n",
    "    aux = pd.read_excel(new_folder + '\\\\' + file)\n",
    "    df_pr = pd.concat([df_pr, reshape_data(aux)])"
   ]
  },
  {
   "cell_type": "code",
   "execution_count": 15,
   "metadata": {},
   "outputs": [],
   "source": [
    "for col in num_cols:\n",
    "    df_pr[col] = df_pr[col].map(float).map(int)\n",
    "df_pr['POS Sales'] = df_pr['POS Sales'].map(float)"
   ]
  },
  {
   "cell_type": "code",
   "execution_count": 16,
   "metadata": {},
   "outputs": [],
   "source": [
    "data = pd.concat([df, df_pr])"
   ]
  },
  {
   "cell_type": "code",
   "execution_count": 17,
   "metadata": {},
   "outputs": [
    {
     "data": {
      "text/plain": [
       "POS Qty                     67676\n",
       "Curr Str On Hand Qty       503006\n",
       "Curr Str On Order Qty       92970\n",
       "Curr Str In Transit Qty      8545\n",
       "dtype: int64"
      ]
     },
     "execution_count": 17,
     "metadata": {},
     "output_type": "execute_result"
    }
   ],
   "source": [
    "df[num_cols].sum()"
   ]
  },
  {
   "cell_type": "code",
   "execution_count": 18,
   "metadata": {},
   "outputs": [
    {
     "data": {
      "text/plain": [
       "POS Qty                     4596\n",
       "Curr Str On Hand Qty       16922\n",
       "Curr Str On Order Qty       4411\n",
       "Curr Str In Transit Qty        0\n",
       "dtype: int64"
      ]
     },
     "execution_count": 18,
     "metadata": {},
     "output_type": "execute_result"
    }
   ],
   "source": [
    "df_pr[num_cols].sum()"
   ]
  },
  {
   "cell_type": "code",
   "execution_count": 19,
   "metadata": {},
   "outputs": [],
   "source": [
    "def last_clean(data_final):\n",
    "    correct_ean = {65024001847:65006600048, 65024001848:65006700046}\n",
    "    data_final['POS Qty'].fillna(0, inplace=True)\n",
    "    data_final['POS Sales'].fillna(0, inplace=True)\n",
    "    data_final['AÑO'] = year\n",
    "    data_final['SEMANA'] = week\n",
    "    data_final['Item Nbr'] = data_final['Item Nbr'].map(int)\n",
    "    data_final['UPC'] = data_final['UPC'].map(int)\n",
    "    data_final['UPC'].replace(correct_ean, inplace=True)\n",
    "    data_final['Store Nbr'] = data_final['Store Nbr'].map(int)\n",
    "    return data_final.pivot_table(index=['AÑO', 'SEMANA', 'Item Nbr', 'UPC', 'Item Desc 1', 'Store Nbr',\n",
    "                                         'Street Address', 'City', 'State', 'Zip Code'],\n",
    "                                  values=['POS Qty', 'POS Sales','Curr Str On Hand Qty',\n",
    "                                          'Curr Str On Order Qty', 'Curr Str In Transit Qty'],\n",
    "                                  aggfunc='sum').reset_index()"
   ]
  },
  {
   "cell_type": "code",
   "execution_count": 20,
   "metadata": {},
   "outputs": [],
   "source": [
    "def export_layout(data_final, year, week):\n",
    "    # Limpiamos algunas columnas\n",
    "    final = last_clean(data_final)\n",
    "    final['Item Flags'] = None\n",
    "    # Se reacomodan las columnas\n",
    "    cols = ['AÑO', 'SEMANA', 'Item Nbr', 'Item Flags', 'UPC', 'Item Desc 1', 'Store Nbr', 'Street Address', 'City', 'State', 'Zip Code', 'POS Qty', 'POS Sales','Curr Str On Hand Qty', 'Curr Str On Order Qty', 'Curr Str In Transit Qty']\n",
    "    path_export = r'\\\\NASPRO.infovisiontv.com\\DWH01\\Cognos\\Genomma lab USA\\US Data\\Walmart\\Output\\{0}'.format(year)\n",
    "    file_export = '{0}_{1}_Walmart_USA.xlsx'.format(year, str(week).zfill(2))\n",
    "    # Se exporta la data\n",
    "    final[cols].to_excel(path_export + '\\\\' + file_export, sheet_name='Hoja1', index=False)"
   ]
  },
  {
   "cell_type": "code",
   "execution_count": 21,
   "metadata": {},
   "outputs": [
    {
     "name": "stdout",
     "output_type": "stream",
     "text": [
      "Wall time: 1min 10s\n"
     ]
    }
   ],
   "source": [
    "%%time\n",
    "export_layout(data, year, week)"
   ]
  },
  {
   "cell_type": "code",
   "execution_count": null,
   "metadata": {},
   "outputs": [],
   "source": []
  },
  {
   "cell_type": "code",
   "execution_count": null,
   "metadata": {},
   "outputs": [],
   "source": []
  },
  {
   "cell_type": "code",
   "execution_count": null,
   "metadata": {},
   "outputs": [],
   "source": []
  }
 ],
 "metadata": {
  "kernelspec": {
   "display_name": "Python 3 (ipykernel)",
   "language": "python",
   "name": "python3"
  },
  "language_info": {
   "codemirror_mode": {
    "name": "ipython",
    "version": 3
   },
   "file_extension": ".py",
   "mimetype": "text/x-python",
   "name": "python",
   "nbconvert_exporter": "python",
   "pygments_lexer": "ipython3",
   "version": "3.8.10"
  },
  "toc": {
   "base_numbering": 1,
   "nav_menu": {},
   "number_sections": true,
   "sideBar": true,
   "skip_h1_title": false,
   "title_cell": "Table of Contents",
   "title_sidebar": "Contents",
   "toc_cell": false,
   "toc_position": {},
   "toc_section_display": true,
   "toc_window_display": true
  }
 },
 "nbformat": 4,
 "nbformat_minor": 4
}

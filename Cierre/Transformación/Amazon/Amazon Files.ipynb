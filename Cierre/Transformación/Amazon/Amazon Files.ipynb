{
 "cells": [
  {
   "cell_type": "markdown",
   "metadata": {},
   "source": [
    "# Libraries"
   ]
  },
  {
   "cell_type": "code",
   "execution_count": 1,
   "metadata": {},
   "outputs": [],
   "source": [
    "import pandas as pd\n",
    "import pyodbc\n",
    "import os\n",
    "from datetime import datetime\n",
    "pd.io.formats.excel.ExcelFormatter.header_style = None"
   ]
  },
  {
   "cell_type": "markdown",
   "metadata": {},
   "source": [
    "# Parameters"
   ]
  },
  {
   "cell_type": "code",
   "execution_count": 2,
   "metadata": {},
   "outputs": [],
   "source": [
    "today = datetime.today()\n",
    "year = today.year\n",
    "week = today.isocalendar()[1]"
   ]
  },
  {
   "cell_type": "markdown",
   "metadata": {},
   "source": [
    "# Connections"
   ]
  },
  {
   "cell_type": "code",
   "execution_count": 3,
   "metadata": {},
   "outputs": [],
   "source": [
    "# Connection to DWH\n",
    "## Server:SFEDWH01|DB:Gnm_DWH\n",
    "conn1 = pyodbc.connect('Driver={SQL Server};'\n",
    "                       'Server=SFEDWH01;'\n",
    "                       'Database=Gnm_DWH;'\n",
    "                       'Trusted_Connection=yes;')\n",
    "\n",
    "## Server:SFEDWH01|DB:Gnm_MasterOp\n",
    "conn2 = pyodbc.connect('Driver={SQL Server};'\n",
    "                       'Server=SFEDWH01;'\n",
    "                       'Database=Gnm_MasterOp;'\n",
    "                       'Trusted_Connection=yes;')"
   ]
  },
  {
   "cell_type": "markdown",
   "metadata": {},
   "source": [
    "# Queries"
   ]
  },
  {
   "cell_type": "code",
   "execution_count": 4,
   "metadata": {},
   "outputs": [
    {
     "name": "stderr",
     "output_type": "stream",
     "text": [
      "c:\\Users\\jshernandezm\\Anaconda3\\lib\\site-packages\\pandas\\io\\sql.py:761: UserWarning: pandas only support SQLAlchemy connectable(engine/connection) ordatabase string URI or sqlite3 DBAPI2 connectionother DBAPI2 objects are not tested, please consider using SQLAlchemy\n",
      "  warnings.warn(\n"
     ]
    }
   ],
   "source": [
    "# Query time data\n",
    "qtiempo = '''SELECT TmpFecha FROM Gnm_DWH.dbo.Dim_Tiempo WHERE TmpAnioSemanaGenomma={0} AND TmpSemanaAnioGenomma={1} AND TmpDiaSemana=6'''\n",
    "# Import time data\n",
    "dtiempo = pd.read_sql(qtiempo.format(year, week), conn1)\n",
    "# Date from last saturday\n",
    "date = dtiempo['TmpFecha'].loc[0].to_pydatetime()"
   ]
  },
  {
   "cell_type": "markdown",
   "metadata": {},
   "source": [
    "# Import Data"
   ]
  },
  {
   "cell_type": "code",
   "execution_count": 5,
   "metadata": {},
   "outputs": [],
   "source": [
    "path = r'\\\\NASPRO.infovisiontv.com\\DWH01\\Cognos\\Genomma lab USA\\US Data\\Amazon\\{0}\\W {1} {0}'\n",
    "path = path.format(year, str(week).zfill(2))\n",
    "files = [file for file in os.listdir(path) if 'Weekly' in file]"
   ]
  },
  {
   "cell_type": "code",
   "execution_count": 6,
   "metadata": {},
   "outputs": [],
   "source": [
    "def colnum_string(n):\n",
    "    string = \"\"\n",
    "    while n > 0:\n",
    "        n, remainder = divmod(n - 1, 26)\n",
    "        string = chr(65 + remainder) + string\n",
    "    return string"
   ]
  },
  {
   "cell_type": "code",
   "execution_count": 7,
   "metadata": {},
   "outputs": [],
   "source": [
    "files = os.listdir(path)[:2]\n",
    "cols_3p = 'A, F:I, {}'.format(colnum_string(61 + week))\n",
    "cols_1p = 'A, F:I, {}'.format(colnum_string(174 + week))"
   ]
  },
  {
   "cell_type": "code",
   "execution_count": 8,
   "metadata": {},
   "outputs": [
    {
     "name": "stdout",
     "output_type": "stream",
     "text": [
      "Wall time: 6.78 s\n"
     ]
    }
   ],
   "source": [
    "%%time\n",
    "df = pd.DataFrame()\n",
    "cols = ['ASIN', 'Product Title', 'UPC', 'List Price to Calculate Units', 'Brand'] + [date]\n",
    "for file in files:\n",
    "    try:\n",
    "        aux = pd.read_excel(path + '\\\\' +  file, header=1, sheet_name='Reporte Julio Velazque', usecols=cols_3p)\n",
    "    except:\n",
    "        aux = pd.read_excel(path + '\\\\' +  file, header=1, usecols=cols_1p)\n",
    "    df = pd.concat([df, aux[cols]])"
   ]
  },
  {
   "cell_type": "markdown",
   "metadata": {},
   "source": [
    "# Data Cleaning"
   ]
  },
  {
   "cell_type": "code",
   "execution_count": 9,
   "metadata": {},
   "outputs": [
    {
     "data": {
      "text/plain": [
       "ASIN                             25\n",
       "Product Title                    26\n",
       "UPC                              26\n",
       "List Price to Calculate Units    26\n",
       "Brand                            24\n",
       "2022-03-12 00:00:00              24\n",
       "dtype: int64"
      ]
     },
     "execution_count": 9,
     "metadata": {},
     "output_type": "execute_result"
    }
   ],
   "source": [
    "df.isnull().sum()"
   ]
  },
  {
   "cell_type": "code",
   "execution_count": 10,
   "metadata": {},
   "outputs": [],
   "source": [
    "df = df[df['Product Title'].notnull()]\n",
    "\n",
    "df.reset_index(drop=True, inplace=True)"
   ]
  },
  {
   "cell_type": "code",
   "execution_count": 11,
   "metadata": {},
   "outputs": [],
   "source": [
    "df['UPC'] = df['UPC'].map(int)\n",
    "\n",
    "eans = df.loc[df['List Price to Calculate Units'].isnull(), 'UPC'].values\n",
    "\n",
    "for ean in eans:\n",
    "    price = df['List Price to Calculate Units'][(df['List Price to Calculate Units'].notnull())&(df['UPC']==ean)].values[0]\n",
    "    df.loc[df['UPC']==ean, 'List Price to Calculate Units'] = price"
   ]
  },
  {
   "cell_type": "code",
   "execution_count": 12,
   "metadata": {},
   "outputs": [
    {
     "data": {
      "text/plain": [
       "ASIN                             0\n",
       "Product Title                    0\n",
       "UPC                              0\n",
       "List Price to Calculate Units    0\n",
       "Brand                            0\n",
       "2022-03-12 00:00:00              0\n",
       "dtype: int64"
      ]
     },
     "execution_count": 12,
     "metadata": {},
     "output_type": "execute_result"
    }
   ],
   "source": [
    "df.isnull().sum()"
   ]
  },
  {
   "cell_type": "code",
   "execution_count": 13,
   "metadata": {},
   "outputs": [],
   "source": [
    "df['Product Title'] = df['Product Title'].map(lambda title: title[:80] if len(title) > 80 else title)\n",
    "\n",
    "df['Sales Rank'] = range(1, df.shape[0] + 1)\n",
    "\n",
    "df = df[['ASIN', 'Sales Rank', 'Product Title', 'UPC', 'List Price to Calculate Units', 'Brand'] + [date]].copy()"
   ]
  },
  {
   "cell_type": "code",
   "execution_count": 14,
   "metadata": {},
   "outputs": [],
   "source": [
    "header = pd.DataFrame(df.columns).T\n",
    "header.columns = df.columns\n",
    "\n",
    "df = pd.concat([header, df])\n",
    "df.columns = [1 for i in range(len(df.columns))]"
   ]
  },
  {
   "cell_type": "code",
   "execution_count": 15,
   "metadata": {},
   "outputs": [],
   "source": [
    "df.to_excel(path + '\\\\AmazonSellOut.xlsx', sheet_name='Hoja1', index=False)"
   ]
  },
  {
   "cell_type": "code",
   "execution_count": null,
   "metadata": {},
   "outputs": [],
   "source": []
  }
 ],
 "metadata": {
  "kernelspec": {
   "display_name": "Python 3 (ipykernel)",
   "language": "python",
   "name": "python3"
  },
  "language_info": {
   "codemirror_mode": {
    "name": "ipython",
    "version": 3
   },
   "file_extension": ".py",
   "mimetype": "text/x-python",
   "name": "python",
   "nbconvert_exporter": "python",
   "pygments_lexer": "ipython3",
   "version": "3.8.10"
  },
  "toc": {
   "base_numbering": 1,
   "nav_menu": {},
   "number_sections": true,
   "sideBar": true,
   "skip_h1_title": false,
   "title_cell": "Table of Contents",
   "title_sidebar": "Contents",
   "toc_cell": false,
   "toc_position": {
    "height": "calc(100% - 180px)",
    "left": "10px",
    "top": "150px",
    "width": "165px"
   },
   "toc_section_display": true,
   "toc_window_display": true
  }
 },
 "nbformat": 4,
 "nbformat_minor": 4
}

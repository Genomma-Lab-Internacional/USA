{
 "cells": [
  {
   "cell_type": "code",
   "execution_count": 1,
   "metadata": {},
   "outputs": [],
   "source": [
    "import os\n",
    "import shutil\n",
    "import pandas as pd\n",
    "from zipfile import ZipFile\n",
    "from datetime import datetime, timedelta\n",
    "import pyodbc\n",
    "\n",
    "pd.io.formats.excel.ExcelFormatter.header_style = None"
   ]
  },
  {
   "cell_type": "code",
   "execution_count": 2,
   "metadata": {},
   "outputs": [],
   "source": [
    "conn1 = pyodbc.connect('Driver={SQL Server};'\n",
    "                     'Server=SFEDWH01;'\n",
    "                     'Database=Gnm_MasterOp;'\n",
    "                     'Trusted_Connection=yes;')\n",
    "\n",
    "conn2 = pyodbc.connect('Driver={SQL Server};'\n",
    "                     'Server=SFEDWH01;'\n",
    "                     'Database=Gnm_MasterOp;'\n",
    "                     'Trusted_Connection=yes;')"
   ]
  },
  {
   "cell_type": "code",
   "execution_count": 3,
   "metadata": {},
   "outputs": [
    {
     "name": "stderr",
     "output_type": "stream",
     "text": [
      "c:\\Users\\jshernandezm\\Anaconda3\\lib\\site-packages\\pandas\\io\\sql.py:761: UserWarning: pandas only support SQLAlchemy connectable(engine/connection) ordatabase string URI or sqlite3 DBAPI2 connectionother DBAPI2 objects are not tested, please consider using SQLAlchemy\n",
      "  warnings.warn(\n",
      "c:\\Users\\jshernandezm\\Anaconda3\\lib\\site-packages\\pandas\\io\\sql.py:761: UserWarning: pandas only support SQLAlchemy connectable(engine/connection) ordatabase string URI or sqlite3 DBAPI2 connectionother DBAPI2 objects are not tested, please consider using SQLAlchemy\n",
      "  warnings.warn(\n"
     ]
    }
   ],
   "source": [
    "qfechas = 'SELECT TmpAnioSemanaGenomma Año, TmpSemanaAnioGenomma Semana, TmpFecha FROM Gnm_DWH.dbo.Dim_Tiempo WHERE TmpDiaSemana = 7 AND TmpAnioSemanaGenomma > 2017;'\n",
    "dfechas = pd.read_sql(qfechas, conn1)\n",
    "\n",
    "qsemanas = 'SELECT SemID IDsemana, SemAnio Año, SemNumero Semana  FROM Gnm_MasterOp.dbo.CatSemanas WHERE SemAnio > 2017'\n",
    "dsemanas = pd.read_sql(qsemanas, conn2)"
   ]
  },
  {
   "cell_type": "markdown",
   "metadata": {},
   "source": [
    "# Organization"
   ]
  },
  {
   "cell_type": "markdown",
   "metadata": {},
   "source": [
    "Creación de la carpeta a la semana correspondiente:"
   ]
  },
  {
   "cell_type": "code",
   "execution_count": 4,
   "metadata": {},
   "outputs": [],
   "source": [
    "stock_file = 'Genomma Lab_Walgreens_MULTIPERIOD_1965-10081294_20220315.xlsx'\n",
    "other_file = 'Genomma Lab_Walgreens_MULTIPERIOD_1965-10081293_20220315.xlsx'\n",
    "bty = 'Genomma Lab_Walgreens_EXPORT_1965-10081289_20220315.csv'\n",
    "otc = 'Genomma Lab_Walgreens_EXPORT_1965-10081290_20220315.csv'\n",
    "today = datetime.today() - timedelta(days=3)\n",
    "year = datetime.today().year\n",
    "week = datetime.today().isocalendar()[1]\n",
    "path = r\"C:\\Users\\jshernandezm\\OneDrive - genommalabinternacional\\02Paises\\EUA\\Walgreens\\Ryans Files\\{0}\".format(year)\n",
    "new_folder = path + '\\\\W {1} {0}'.format(year, week)"
   ]
  },
  {
   "cell_type": "code",
   "execution_count": 5,
   "metadata": {},
   "outputs": [],
   "source": [
    "if not os.path.exists(new_folder):\n",
    "    os.mkdir(new_folder)\n",
    "bty_file = 'BTY {1} {0}.xlsx' \n",
    "otc_file = 'OTC {1} {0}.xlsx'"
   ]
  },
  {
   "cell_type": "markdown",
   "metadata": {},
   "source": [
    "Creación de la carpeta Beauty y organización de los datos:"
   ]
  },
  {
   "cell_type": "code",
   "execution_count": 6,
   "metadata": {},
   "outputs": [],
   "source": [
    "beauty_folder = new_folder + '\\\\BTY-OTC'\n",
    "if not os.path.exists(beauty_folder):\n",
    "    os.mkdir(beauty_folder)\n",
    "\n",
    "zip_files = [file for file in os.listdir(path) if file.endswith('.zip')]\n",
    "for zipfile in zip_files:\n",
    "    with ZipFile(path + '\\\\' + zipfile, 'r') as zip_ref:\n",
    "        zip_ref.extractall(beauty_folder)"
   ]
  },
  {
   "cell_type": "markdown",
   "metadata": {},
   "source": [
    "Creación de la carpeta DC y organización de los datos:"
   ]
  },
  {
   "cell_type": "markdown",
   "metadata": {},
   "source": [
    "Verificar si el nombre de cada archivo siempre es el mismo:"
   ]
  },
  {
   "cell_type": "code",
   "execution_count": 7,
   "metadata": {},
   "outputs": [
    {
     "data": {
      "text/plain": [
       "'C:\\\\Users\\\\jshernandezm\\\\OneDrive - genommalabinternacional\\\\02Paises\\\\EUA\\\\Walgreens\\\\Ryans Files\\\\2022\\\\W 11 2022\\\\Genomma Lab_Walgreens_MULTIPERIOD_1965-10081293_20220315.xlsx'"
      ]
     },
     "execution_count": 7,
     "metadata": {},
     "output_type": "execute_result"
    }
   ],
   "source": [
    "dc_folder = new_folder + '\\\\DC'\n",
    "if not os.path.exists(dc_folder):\n",
    "    os.mkdir(dc_folder)\n",
    "\n",
    "shutil.move(path + '\\\\' + stock_file, dc_folder + '\\\\' + stock_file)\n",
    "shutil.move(path + '\\\\' + other_file, new_folder + '\\\\' + other_file)"
   ]
  },
  {
   "cell_type": "markdown",
   "metadata": {},
   "source": [
    "## Movimiento de los archivos semana anterior"
   ]
  },
  {
   "cell_type": "code",
   "execution_count": 8,
   "metadata": {},
   "outputs": [],
   "source": [
    "curr_idweek = dsemanas.loc[(dsemanas['Año']==year)&(dsemanas['Semana']==week), 'IDsemana'].values[0]\n",
    "last_idweek = curr_idweek - 1\n",
    "\n",
    "ylw = dsemanas['Año'][dsemanas['IDsemana']==last_idweek].values[0] \n",
    "lw = dsemanas['Semana'][dsemanas['IDsemana']==last_idweek].values[0]\n",
    "\n",
    "ylw = str(ylw).zfill(2)\n",
    "lw = str(lw).zfill(2)"
   ]
  },
  {
   "cell_type": "code",
   "execution_count": 9,
   "metadata": {},
   "outputs": [
    {
     "data": {
      "text/plain": [
       "'C:\\\\Users\\\\jshernandezm\\\\OneDrive - genommalabinternacional\\\\02Paises\\\\EUA\\\\Walgreens\\\\Ryans Files\\\\2022\\\\W 10 2022\\\\ORIGINALS\\\\OTC 10 2022.xlsx'"
      ]
     },
     "execution_count": 9,
     "metadata": {},
     "output_type": "execute_result"
    }
   ],
   "source": [
    "last_folder = r\"C:\\Users\\jshernandezm\\OneDrive - genommalabinternacional\\02Paises\\EUA\\Walgreens\\Ryans Files\\{0}\\W {1} {0}\"\n",
    "last_folder = last_folder.format(int(ylw), int(lw))\n",
    "original_folder = last_folder + '\\\\ORIGINALS'\n",
    "if not os.path.exists(original_folder):\n",
    "    os.mkdir(original_folder)\n",
    "\n",
    "shutil.move(last_folder + '\\\\BTY-OTC\\\\' + bty_file.format(ylw, lw), original_folder + '\\\\' + bty_file.format(ylw, lw))\n",
    "shutil.move(last_folder + '\\\\BTY-OTC\\\\' + otc_file.format(ylw, lw), original_folder + '\\\\' + otc_file.format(ylw, lw))"
   ]
  },
  {
   "cell_type": "markdown",
   "metadata": {},
   "source": [
    "# Data Cleaning"
   ]
  },
  {
   "cell_type": "code",
   "execution_count": 10,
   "metadata": {},
   "outputs": [],
   "source": [
    "dtypes = {'PLN NBR':'str',\n",
    "          'UPC':'str',\n",
    "          'ZIP':'str',\n",
    "          'STORE':'str',\n",
    "          'POG_IND':'str'}"
   ]
  },
  {
   "cell_type": "markdown",
   "metadata": {},
   "source": [
    "## OTC"
   ]
  },
  {
   "cell_type": "code",
   "execution_count": 11,
   "metadata": {},
   "outputs": [
    {
     "data": {
      "text/plain": [
       "'C:\\\\Users\\\\jshernandezm\\\\OneDrive - genommalabinternacional\\\\02Paises\\\\EUA\\\\Walgreens\\\\Ryans Files\\\\2022\\\\W 11 2022\\\\BTY-OTC'"
      ]
     },
     "execution_count": 11,
     "metadata": {},
     "output_type": "execute_result"
    }
   ],
   "source": [
    "beauty_folder"
   ]
  },
  {
   "cell_type": "code",
   "execution_count": 12,
   "metadata": {},
   "outputs": [
    {
     "name": "stdout",
     "output_type": "stream",
     "text": [
      "Wall time: 4.26 s\n"
     ]
    }
   ],
   "source": [
    "%%time\n",
    "df = pd.read_csv(beauty_folder + '\\\\' + otc, dtype=dtypes)"
   ]
  },
  {
   "cell_type": "code",
   "execution_count": 13,
   "metadata": {},
   "outputs": [],
   "source": [
    "dates = [datetime.strptime(d, '%Y-%m-%d') for d in df['BEGIN_DATE'].unique()]\n",
    "dates.sort()\n",
    "dates = [d.strftime('%Y-%m-%d') for d in dates]\n",
    "\n",
    "date_lw = dates[0]\n",
    "date_cw = dates[1]"
   ]
  },
  {
   "cell_type": "code",
   "execution_count": 14,
   "metadata": {},
   "outputs": [
    {
     "data": {
      "text/plain": [
       "'2022-02-27'"
      ]
     },
     "execution_count": 14,
     "metadata": {},
     "output_type": "execute_result"
    }
   ],
   "source": [
    "date_lw"
   ]
  },
  {
   "cell_type": "markdown",
   "metadata": {},
   "source": [
    "### Exportación de la semana anterior"
   ]
  },
  {
   "cell_type": "code",
   "execution_count": 15,
   "metadata": {},
   "outputs": [
    {
     "name": "stdout",
     "output_type": "stream",
     "text": [
      "Wall time: 3min 21s\n"
     ]
    }
   ],
   "source": [
    "%%time\n",
    "df[df['BEGIN_DATE'] == date_lw].to_excel(last_folder + '\\\\BTY-OTC\\\\' + otc_file.format(ylw, str(lw).zfill(2)), index=False, sheet_name='Data Export')"
   ]
  },
  {
   "cell_type": "markdown",
   "metadata": {},
   "source": [
    "### Exportación de la semana target"
   ]
  },
  {
   "cell_type": "code",
   "execution_count": 16,
   "metadata": {},
   "outputs": [
    {
     "name": "stdout",
     "output_type": "stream",
     "text": [
      "Wall time: 3min 11s\n"
     ]
    }
   ],
   "source": [
    "%%time\n",
    "df[df['BEGIN_DATE'] == date_cw].to_excel(beauty_folder + '\\\\' + otc_file.format(year, str(week).zfill(2)), index=False, sheet_name='Data Export')"
   ]
  },
  {
   "cell_type": "markdown",
   "metadata": {},
   "source": [
    "## Beauty"
   ]
  },
  {
   "cell_type": "code",
   "execution_count": 17,
   "metadata": {},
   "outputs": [
    {
     "name": "stdout",
     "output_type": "stream",
     "text": [
      "Wall time: 4.92 s\n"
     ]
    }
   ],
   "source": [
    "%%time\n",
    "df = pd.read_csv(beauty_folder + '\\\\' + bty, dtype=dtypes)"
   ]
  },
  {
   "cell_type": "markdown",
   "metadata": {},
   "source": [
    "### Exportación de la semana anterior"
   ]
  },
  {
   "cell_type": "code",
   "execution_count": 18,
   "metadata": {},
   "outputs": [
    {
     "name": "stdout",
     "output_type": "stream",
     "text": [
      "Wall time: 2min 51s\n"
     ]
    }
   ],
   "source": [
    "%%time\n",
    "df[df['BEGIN_DATE'] == date_lw].to_excel(last_folder + '\\\\BTY-OTC\\\\' + bty_file.format(ylw, str(lw).zfill(2)), index=False, sheet_name='Data Export')"
   ]
  },
  {
   "cell_type": "markdown",
   "metadata": {},
   "source": [
    "### Exportación de la semana target"
   ]
  },
  {
   "cell_type": "code",
   "execution_count": 19,
   "metadata": {},
   "outputs": [
    {
     "name": "stdout",
     "output_type": "stream",
     "text": [
      "Wall time: 2min 39s\n"
     ]
    }
   ],
   "source": [
    "%%time\n",
    "df[df['BEGIN_DATE'] == date_cw].to_excel(beauty_folder + '\\\\' + bty_file.format(year, str(week).zfill(2)), index=False, sheet_name='Data Export')"
   ]
  },
  {
   "cell_type": "markdown",
   "metadata": {},
   "source": [
    "No hay nada programado para cuando es cambio de año, o sea S1 2022 y S52 2021"
   ]
  },
  {
   "cell_type": "code",
   "execution_count": 20,
   "metadata": {},
   "outputs": [],
   "source": [
    "os.rename(dc_folder + '\\\\' + stock_file, dc_folder + '\\\\DC.xlsx')"
   ]
  },
  {
   "cell_type": "code",
   "execution_count": 21,
   "metadata": {},
   "outputs": [],
   "source": [
    "for csv_file in [f for f in os.listdir(beauty_folder) if f.endswith('.csv')]:\n",
    "    os.remove(beauty_folder + '\\\\' + csv_file)"
   ]
  },
  {
   "cell_type": "markdown",
   "metadata": {},
   "source": [
    "# Transform Files"
   ]
  },
  {
   "cell_type": "markdown",
   "metadata": {},
   "source": [
    "## SO"
   ]
  },
  {
   "cell_type": "markdown",
   "metadata": {},
   "source": [
    "### Import Data"
   ]
  },
  {
   "cell_type": "code",
   "execution_count": 29,
   "metadata": {},
   "outputs": [],
   "source": [
    "year = 2022\n",
    "week = 11\n",
    "\n",
    "path_export = r'C:\\Users\\jshernandezm\\OneDrive - genommalabinternacional\\02Paises\\EUA\\Walgreens\\Output\\{0}'\n",
    "path = r\"C:\\Users\\jshernandezm\\OneDrive - genommalabinternacional\\02Paises\\EUA\\Walgreens\\Ryans Files\\{0}\".format(year)\n",
    "\n",
    "new_folder = path + '\\\\W {1} {0}'.format(year, week)"
   ]
  },
  {
   "cell_type": "code",
   "execution_count": 30,
   "metadata": {},
   "outputs": [
    {
     "name": "stdout",
     "output_type": "stream",
     "text": [
      "Wall time: 4min 17s\n"
     ]
    }
   ],
   "source": [
    "%%time\n",
    "df = pd.DataFrame()\n",
    "bty_otc_files = new_folder + '\\\\BTY-OTC'\n",
    "for file in os.listdir(bty_otc_files):\n",
    "    aux = pd.read_excel(bty_otc_files + '\\\\' + file, dtype={'ZIP':'str'})\n",
    "    df = pd.concat([df, aux])"
   ]
  },
  {
   "cell_type": "markdown",
   "metadata": {},
   "source": [
    "### Data Cleaning"
   ]
  },
  {
   "cell_type": "code",
   "execution_count": 31,
   "metadata": {},
   "outputs": [
    {
     "name": "stderr",
     "output_type": "stream",
     "text": [
      "C:\\Users\\JSHERN~1\\AppData\\Local\\Temp/ipykernel_18220/3502016242.py:1: SettingWithCopyWarning: \n",
      "A value is trying to be set on a copy of a slice from a DataFrame\n",
      "\n",
      "See the caveats in the documentation: https://pandas.pydata.org/pandas-docs/stable/user_guide/indexing.html#returning-a-view-versus-a-copy\n",
      "  df[['Total Sales Amount', 'Total Sales Volume Units', 'Store On Hand Volume Units']].fillna(0, inplace=True)\n"
     ]
    }
   ],
   "source": [
    "df[['Total Sales Amount', 'Total Sales Volume Units', 'Store On Hand Volume Units']].fillna(0, inplace=True)\n",
    "\n",
    "data = df.pivot_table(index=['UPC', 'ITEM DESCRIPTION', 'ADDRESS1', 'CITY', 'STATE', 'ZIP', 'STORE'], \n",
    "                      values=['Total Sales Amount', 'Total Sales Volume Units', 'Store On Hand Volume Units'], \n",
    "                      aggfunc='sum').reset_index()"
   ]
  },
  {
   "cell_type": "code",
   "execution_count": 32,
   "metadata": {},
   "outputs": [],
   "source": [
    "data['Total Sales Volume Units'] = data['Total Sales Volume Units'].map(int)\n",
    "data['Store On Hand Volume Units'] = data['Store On Hand Volume Units'].map(int)"
   ]
  },
  {
   "cell_type": "code",
   "execution_count": 33,
   "metadata": {},
   "outputs": [
    {
     "data": {
      "text/plain": [
       "Total Sales Amount             557825.46\n",
       "Total Sales Volume Units        52906.00\n",
       "Store On Hand Volume Units    1053001.00\n",
       "dtype: float64"
      ]
     },
     "execution_count": 33,
     "metadata": {},
     "output_type": "execute_result"
    }
   ],
   "source": [
    "data[['Total Sales Amount', 'Total Sales Volume Units', 'Store On Hand Volume Units']].sum()"
   ]
  },
  {
   "cell_type": "markdown",
   "metadata": {},
   "source": [
    "### Export Data"
   ]
  },
  {
   "cell_type": "code",
   "execution_count": 34,
   "metadata": {},
   "outputs": [
    {
     "name": "stdout",
     "output_type": "stream",
     "text": [
      "Wall time: 4min 19s\n"
     ]
    }
   ],
   "source": [
    "%%time\n",
    "file_export = '{0}_{1}_Walgreens_SO.xlsx'\n",
    "file_export = file_export.format(year, str(week).zfill(2))\n",
    "cols = ['UPC', 'ITEM DESCRIPTION', 'ADDRESS1', 'CITY', 'STATE', 'ZIP', 'STORE', 'Total Sales Amount', 'Total Sales Volume Units', 'Store On Hand Volume Units']\n",
    "data[cols].to_excel(path_export.format(year) + '\\\\' + file_export, index=False, sheet_name='Hoja1')"
   ]
  },
  {
   "cell_type": "markdown",
   "metadata": {},
   "source": [
    "## Stock"
   ]
  },
  {
   "cell_type": "code",
   "execution_count": 35,
   "metadata": {},
   "outputs": [],
   "source": [
    "weeks = [week]\n",
    "for week in weeks:\n",
    "    df = pd.read_excel(new_folder + '\\\\DC\\\\DC.xlsx', header=20, usecols='B:F')\n",
    "    df.drop(0,axis=0,inplace=True)\n",
    "    df_final = df[['UPC','ITEM DESCRIPTION','DC On Hand Volume Units']].copy()\n",
    "    df_final['AÑO'] = year\n",
    "    df_final['SEMANA'] = week\n",
    "    df_final['UPC'] = df_final['UPC'].astype('int64') \n",
    "\n",
    "    df_final = df_final[['AÑO', 'SEMANA', 'UPC', 'ITEM DESCRIPTION', 'DC On Hand Volume Units']].copy()\n",
    "\n",
    "    df_final.to_excel(path_export.format(year) + '\\\\{0}_{1}_Walgreens_INV.xlsx'.format(year, str(week).zfill(2)), index=False)"
   ]
  },
  {
   "cell_type": "code",
   "execution_count": null,
   "metadata": {},
   "outputs": [],
   "source": []
  },
  {
   "cell_type": "code",
   "execution_count": null,
   "metadata": {},
   "outputs": [],
   "source": []
  },
  {
   "cell_type": "code",
   "execution_count": null,
   "metadata": {},
   "outputs": [],
   "source": []
  }
 ],
 "metadata": {
  "kernelspec": {
   "display_name": "Python 3 (ipykernel)",
   "language": "python",
   "name": "python3"
  },
  "language_info": {
   "codemirror_mode": {
    "name": "ipython",
    "version": 3
   },
   "file_extension": ".py",
   "mimetype": "text/x-python",
   "name": "python",
   "nbconvert_exporter": "python",
   "pygments_lexer": "ipython3",
   "version": "3.8.10"
  },
  "toc": {
   "base_numbering": 1,
   "nav_menu": {},
   "number_sections": true,
   "sideBar": true,
   "skip_h1_title": false,
   "title_cell": "Table of Contents",
   "title_sidebar": "Contents",
   "toc_cell": false,
   "toc_position": {
    "height": "calc(100% - 180px)",
    "left": "10px",
    "top": "150px",
    "width": "304.469px"
   },
   "toc_section_display": true,
   "toc_window_display": true
  }
 },
 "nbformat": 4,
 "nbformat_minor": 4
}

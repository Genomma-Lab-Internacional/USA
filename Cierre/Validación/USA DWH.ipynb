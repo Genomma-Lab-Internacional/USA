{
 "cells": [
  {
   "cell_type": "markdown",
   "metadata": {},
   "source": [
    "# Libraries"
   ]
  },
  {
   "cell_type": "code",
   "execution_count": 1,
   "metadata": {},
   "outputs": [],
   "source": [
    "from datetime import datetime\n",
    "from datetime import timedelta\n",
    "import pandas as pd\n",
    "import pyodbc\n",
    "import pandas.io.formats.excel\n",
    "from multiprocessing import Pool\n",
    "from USA_DWH import main\n",
    "\n",
    "# Settings\n",
    "pd.io.formats.excel.ExcelFormatter.header_style = None\n",
    "pd.options.display.float_format = '{:,.2f}'.format\n",
    "pd.set_option('display.max_columns', None)"
   ]
  },
  {
   "cell_type": "markdown",
   "metadata": {},
   "source": [
    "# Paramaters"
   ]
  },
  {
   "cell_type": "markdown",
   "metadata": {},
   "source": [
    "weeks = []\n",
    "a = datetime(2021, 1, 3)\n",
    "for i in range(0, 3):\n",
    "    b = a + timedelta(days=84)\n",
    "    weeks.append((a.strftime('%Y%m%d'), b.strftime('%Y%m%d')))\n",
    "    a = b + timedelta(days=7)"
   ]
  },
  {
   "cell_type": "markdown",
   "metadata": {},
   "source": [
    "weeks = []\n",
    "a = datetime(2017, 1, 1)\n",
    "for i in range(0, 124):\n",
    "    b = a + timedelta(days=7)\n",
    "    weeks.append((a.strftime('%Y%m%d'), b.strftime('%Y%m%d')))\n",
    "    a = b + timedelta(days=7)"
   ]
  },
  {
   "cell_type": "code",
   "execution_count": 2,
   "metadata": {},
   "outputs": [],
   "source": [
    "country = 'Estados Unidos de América'\n",
    "\n",
    "#weeks = [('20210103', '20210228'), ('20210307', '20210425'), ('20210502', '20210627'), ('20210704', '20210829'), ('20210905', '20210926')]"
   ]
  },
  {
   "cell_type": "markdown",
   "metadata": {},
   "source": [
    "## SQL Server"
   ]
  },
  {
   "cell_type": "code",
   "execution_count": 3,
   "metadata": {},
   "outputs": [],
   "source": [
    "conn1 = pyodbc.connect('Driver={SQL Server};'\n",
    "                     'Server=SFEDWH01;'\n",
    "                     'Database=Gnm_DWH;'\n",
    "                     'Trusted_Connection=no;')"
   ]
  },
  {
   "cell_type": "code",
   "execution_count": 4,
   "metadata": {},
   "outputs": [],
   "source": [
    "# Connection to DWH\n",
    "## Server:SFEDWH01|DB:Gnm_DWH\n",
    "conn1 = pyodbc.connect('Driver={SQL Server};'\n",
    "                     'Server=SFEDWH01;'\n",
    "                     'Database=Gnm_DWH;'\n",
    "                     'Trusted_Connection=yes;')\n",
    "\n",
    "## Server:SFEDWH01|DB:Gnm_MasterOp\n",
    "conn2 = pyodbc.connect('Driver={SQL Server};'\n",
    "                     'Server=SFEDWH01;'\n",
    "                     'Database=Gnm_MasterOp;'\n",
    "                     'Trusted_Connection=yes;')"
   ]
  },
  {
   "cell_type": "markdown",
   "metadata": {},
   "source": [
    "# Import data from DWH"
   ]
  },
  {
   "cell_type": "code",
   "execution_count": 5,
   "metadata": {},
   "outputs": [
    {
     "name": "stderr",
     "output_type": "stream",
     "text": [
      "c:\\Users\\jshernandezm\\Anaconda3\\lib\\site-packages\\pandas\\io\\sql.py:761: UserWarning: pandas only support SQLAlchemy connectable(engine/connection) ordatabase string URI or sqlite3 DBAPI2 connectionother DBAPI2 objects are not tested, please consider using SQLAlchemy\n",
      "  warnings.warn(\n"
     ]
    }
   ],
   "source": [
    "# Query time data\n",
    "qtiempo = '''SELECT TmpID, TmpFecha, TmpSemanaAnioGenomma, TmpMesGenomma, TmpAnioSemanaGenomma\n",
    "FROM Gnm_DWH.dbo.Dim_Tiempo WHERE TmpAnioSemanaGenomma IN (2018, 2019, 2020, 2021, 2022)'''\n",
    "# Import time data\n",
    "dtiempo = pd.read_sql(qtiempo, conn1)\n",
    "\n",
    "# Query clients data\n",
    "qclientes= '''SELECT DISTINCT SUC.SucID, SUC.SucCodCliente, CLIE.GrpID, CLIE.GrpNombre, CLIE.CadID, CLIE.CadNombre, SUC.SucNombre\n",
    " FROM (SELECT DISTINCT PaisNombre, GrpID, GrpNombre, CadID, CadNombre FROM Gnm_MasterOp.dbo.vw_EstructuraClientesSegPTVTotal\n",
    "\tWHERE PaisNombre = '{0}') AS CLIE\n",
    " LEFT JOIN (SELECT DISTINCT SucID, SucNombre, SucCodCliente,CadId FROM Gnm_MasterOp.dbo.vw_EstructuraSucursalesTotal ) AS SUC\n",
    "\tON CLIE.CadID = SUC.CadID\n",
    "\tORDER BY SucId;'''\n",
    "\n",
    "# Query skus data\n",
    "qproductos = '''SELECT DISTINCT MrcNombre, ProID, ProNombre, ProPstCodBarras, ProPstNombre, ProPstID\n",
    "                FROM Gnm_MasterOp.dbo.vw_EstructuraProductosInternacional\n",
    "                WHERE TipoComNombre = '{0}' '''"
   ]
  },
  {
   "cell_type": "markdown",
   "metadata": {},
   "source": [
    "qsemfalta = 'SELECT TmpID FROM Gnm_DWH.dbo.Dim_Tiempo  WHERE TmpID BETWEEN 20211003 AND 20211205 AND TmpDiaSemana = 7'\n",
    "#qsemfalta = 'SELECT TmpID FROM Gnm_DWH.dbo.Dim_Tiempo  WHERE TmpID = 20211128 AND TmpDiaSemana = 7'\n",
    "semfalta = pd.read_sql(qsemfalta, conn1)"
   ]
  },
  {
   "cell_type": "code",
   "execution_count": 6,
   "metadata": {},
   "outputs": [
    {
     "name": "stderr",
     "output_type": "stream",
     "text": [
      "c:\\Users\\jshernandezm\\Anaconda3\\lib\\site-packages\\pandas\\io\\sql.py:761: UserWarning: pandas only support SQLAlchemy connectable(engine/connection) ordatabase string URI or sqlite3 DBAPI2 connectionother DBAPI2 objects are not tested, please consider using SQLAlchemy\n",
      "  warnings.warn(\n",
      "c:\\Users\\jshernandezm\\Anaconda3\\lib\\site-packages\\pandas\\io\\sql.py:761: UserWarning: pandas only support SQLAlchemy connectable(engine/connection) ordatabase string URI or sqlite3 DBAPI2 connectionother DBAPI2 objects are not tested, please consider using SQLAlchemy\n",
      "  warnings.warn(\n"
     ]
    },
    {
     "name": "stdout",
     "output_type": "stream",
     "text": [
      "Wall time: 14.3 s\n"
     ]
    }
   ],
   "source": [
    "%%time\n",
    "# Import clients data\n",
    "dclientes = pd.read_sql(qclientes.format(country), conn2)\n",
    "# Clean data\n",
    "dclientes.dropna(axis=0, inplace=True)\n",
    "dclientes.reset_index(drop=True, inplace=True)\n",
    "\n",
    "# Import products\n",
    "dproductos = pd.read_sql(qproductos.format(country), conn2)"
   ]
  },
  {
   "cell_type": "markdown",
   "metadata": {},
   "source": [
    "weeks = list(zip(semfalta['TmpID'].tolist(), semfalta['TmpID'].tolist()))"
   ]
  },
  {
   "cell_type": "markdown",
   "metadata": {},
   "source": [
    "# Merges"
   ]
  },
  {
   "cell_type": "code",
   "execution_count": 7,
   "metadata": {},
   "outputs": [],
   "source": [
    "params = []\n",
    "weeks = [(20220220, 20220227), (20220306, 20220313)]\n",
    "for winit, wend in weeks:\n",
    "    first_day = winit\n",
    "    last_day = wend\n",
    "    params.append([first_day, last_day, dtiempo, dclientes, dproductos])"
   ]
  },
  {
   "cell_type": "code",
   "execution_count": 8,
   "metadata": {},
   "outputs": [
    {
     "name": "stdout",
     "output_type": "stream",
     "text": [
      "Wall time: 1min 37s\n"
     ]
    }
   ],
   "source": [
    "%%time\n",
    "pool = Pool(len(params))\n",
    "final = pool.starmap(main, params)\n",
    "pool.close()\n",
    "pool.join()\n",
    "del pool"
   ]
  },
  {
   "cell_type": "code",
   "execution_count": 9,
   "metadata": {},
   "outputs": [],
   "source": [
    "data_final = pd.DataFrame()\n",
    "for table in final:\n",
    "    data_final = pd.concat([data_final, table])"
   ]
  },
  {
   "cell_type": "code",
   "execution_count": 10,
   "metadata": {},
   "outputs": [],
   "source": [
    "data_final['Semana GL'] = data_final['Semana GL'].map(int)"
   ]
  },
  {
   "cell_type": "code",
   "execution_count": 11,
   "metadata": {},
   "outputs": [
    {
     "data": {
      "text/html": [
       "<div>\n",
       "<style scoped>\n",
       "    .dataframe tbody tr th:only-of-type {\n",
       "        vertical-align: middle;\n",
       "    }\n",
       "\n",
       "    .dataframe tbody tr th {\n",
       "        vertical-align: top;\n",
       "    }\n",
       "\n",
       "    .dataframe thead tr th {\n",
       "        text-align: left;\n",
       "    }\n",
       "\n",
       "    .dataframe thead tr:last-of-type th {\n",
       "        text-align: right;\n",
       "    }\n",
       "</style>\n",
       "<table border=\"1\" class=\"dataframe\">\n",
       "  <thead>\n",
       "    <tr>\n",
       "      <th></th>\n",
       "      <th colspan=\"5\" halign=\"left\">Unidades Ventas</th>\n",
       "    </tr>\n",
       "    <tr>\n",
       "      <th>Semana GL</th>\n",
       "      <th>8</th>\n",
       "      <th>9</th>\n",
       "      <th>10</th>\n",
       "      <th>11</th>\n",
       "      <th>All</th>\n",
       "    </tr>\n",
       "    <tr>\n",
       "      <th>GrpNombre</th>\n",
       "      <th></th>\n",
       "      <th></th>\n",
       "      <th></th>\n",
       "      <th></th>\n",
       "      <th></th>\n",
       "    </tr>\n",
       "  </thead>\n",
       "  <tbody>\n",
       "    <tr>\n",
       "      <th>AMAZON US</th>\n",
       "      <td>14385</td>\n",
       "      <td>14800</td>\n",
       "      <td>15857</td>\n",
       "      <td>14920</td>\n",
       "      <td>59962</td>\n",
       "    </tr>\n",
       "    <tr>\n",
       "      <th>MIDWAY IMPORTING</th>\n",
       "      <td>100514</td>\n",
       "      <td>71268</td>\n",
       "      <td>87725</td>\n",
       "      <td>91946</td>\n",
       "      <td>351453</td>\n",
       "    </tr>\n",
       "    <tr>\n",
       "      <th>VERMONT IP BEVERAGE</th>\n",
       "      <td>37986</td>\n",
       "      <td>45395</td>\n",
       "      <td>43074</td>\n",
       "      <td>33224</td>\n",
       "      <td>159679</td>\n",
       "    </tr>\n",
       "    <tr>\n",
       "      <th>Wal-Mart USA</th>\n",
       "      <td>65745</td>\n",
       "      <td>69694</td>\n",
       "      <td>72272</td>\n",
       "      <td>73126</td>\n",
       "      <td>280837</td>\n",
       "    </tr>\n",
       "    <tr>\n",
       "      <th>Walgreens USA</th>\n",
       "      <td>57684</td>\n",
       "      <td>55657</td>\n",
       "      <td>58385</td>\n",
       "      <td>52908</td>\n",
       "      <td>224634</td>\n",
       "    </tr>\n",
       "    <tr>\n",
       "      <th>All</th>\n",
       "      <td>276314</td>\n",
       "      <td>256814</td>\n",
       "      <td>277313</td>\n",
       "      <td>266124</td>\n",
       "      <td>1076565</td>\n",
       "    </tr>\n",
       "  </tbody>\n",
       "</table>\n",
       "</div>"
      ],
      "text/plain": [
       "                    Unidades Ventas                                 \n",
       "Semana GL                         8       9      10      11      All\n",
       "GrpNombre                                                           \n",
       "AMAZON US                     14385   14800   15857   14920    59962\n",
       "MIDWAY IMPORTING             100514   71268   87725   91946   351453\n",
       "VERMONT IP BEVERAGE           37986   45395   43074   33224   159679\n",
       "Wal-Mart USA                  65745   69694   72272   73126   280837\n",
       "Walgreens USA                 57684   55657   58385   52908   224634\n",
       "All                          276314  256814  277313  266124  1076565"
      ]
     },
     "execution_count": 11,
     "metadata": {},
     "output_type": "execute_result"
    }
   ],
   "source": [
    "data_final.pivot_table(index='GrpNombre', \n",
    "                       columns='Semana GL', \n",
    "                       values=['Unidades Ventas'],\n",
    "                       margins=True,\n",
    "                       aggfunc='sum')"
   ]
  },
  {
   "cell_type": "code",
   "execution_count": 12,
   "metadata": {},
   "outputs": [
    {
     "data": {
      "text/html": [
       "<div>\n",
       "<style scoped>\n",
       "    .dataframe tbody tr th:only-of-type {\n",
       "        vertical-align: middle;\n",
       "    }\n",
       "\n",
       "    .dataframe tbody tr th {\n",
       "        vertical-align: top;\n",
       "    }\n",
       "\n",
       "    .dataframe thead tr th {\n",
       "        text-align: left;\n",
       "    }\n",
       "\n",
       "    .dataframe thead tr:last-of-type th {\n",
       "        text-align: right;\n",
       "    }\n",
       "</style>\n",
       "<table border=\"1\" class=\"dataframe\">\n",
       "  <thead>\n",
       "    <tr>\n",
       "      <th></th>\n",
       "      <th colspan=\"5\" halign=\"left\">Monto Ventas</th>\n",
       "    </tr>\n",
       "    <tr>\n",
       "      <th>Semana GL</th>\n",
       "      <th>8</th>\n",
       "      <th>9</th>\n",
       "      <th>10</th>\n",
       "      <th>11</th>\n",
       "      <th>All</th>\n",
       "    </tr>\n",
       "    <tr>\n",
       "      <th>GrpNombre</th>\n",
       "      <th></th>\n",
       "      <th></th>\n",
       "      <th></th>\n",
       "      <th></th>\n",
       "      <th></th>\n",
       "    </tr>\n",
       "  </thead>\n",
       "  <tbody>\n",
       "    <tr>\n",
       "      <th>AMAZON US</th>\n",
       "      <td>100,920.96</td>\n",
       "      <td>106,524.32</td>\n",
       "      <td>116,385.57</td>\n",
       "      <td>115,568.66</td>\n",
       "      <td>439,399.51</td>\n",
       "    </tr>\n",
       "    <tr>\n",
       "      <th>MIDWAY IMPORTING</th>\n",
       "      <td>387,641.13</td>\n",
       "      <td>282,073.73</td>\n",
       "      <td>343,998.08</td>\n",
       "      <td>346,191.91</td>\n",
       "      <td>1,359,904.85</td>\n",
       "    </tr>\n",
       "    <tr>\n",
       "      <th>VERMONT IP BEVERAGE</th>\n",
       "      <td>53,493.95</td>\n",
       "      <td>63,815.70</td>\n",
       "      <td>60,565.40</td>\n",
       "      <td>46,786.80</td>\n",
       "      <td>224,661.85</td>\n",
       "    </tr>\n",
       "    <tr>\n",
       "      <th>Wal-Mart USA</th>\n",
       "      <td>373,484.28</td>\n",
       "      <td>402,247.99</td>\n",
       "      <td>423,590.37</td>\n",
       "      <td>427,661.09</td>\n",
       "      <td>1,626,983.73</td>\n",
       "    </tr>\n",
       "    <tr>\n",
       "      <th>Walgreens USA</th>\n",
       "      <td>361,228.89</td>\n",
       "      <td>351,196.23</td>\n",
       "      <td>370,857.58</td>\n",
       "      <td>334,304.16</td>\n",
       "      <td>1,417,586.86</td>\n",
       "    </tr>\n",
       "    <tr>\n",
       "      <th>All</th>\n",
       "      <td>1,276,769.21</td>\n",
       "      <td>1,205,857.97</td>\n",
       "      <td>1,315,397.00</td>\n",
       "      <td>1,270,512.62</td>\n",
       "      <td>5,068,536.80</td>\n",
       "    </tr>\n",
       "  </tbody>\n",
       "</table>\n",
       "</div>"
      ],
      "text/plain": [
       "                    Monto Ventas                                         \\\n",
       "Semana GL                      8            9           10           11   \n",
       "GrpNombre                                                                 \n",
       "AMAZON US             100,920.96   106,524.32   116,385.57   115,568.66   \n",
       "MIDWAY IMPORTING      387,641.13   282,073.73   343,998.08   346,191.91   \n",
       "VERMONT IP BEVERAGE    53,493.95    63,815.70    60,565.40    46,786.80   \n",
       "Wal-Mart USA          373,484.28   402,247.99   423,590.37   427,661.09   \n",
       "Walgreens USA         361,228.89   351,196.23   370,857.58   334,304.16   \n",
       "All                 1,276,769.21 1,205,857.97 1,315,397.00 1,270,512.62   \n",
       "\n",
       "                                  \n",
       "Semana GL                    All  \n",
       "GrpNombre                         \n",
       "AMAZON US             439,399.51  \n",
       "MIDWAY IMPORTING    1,359,904.85  \n",
       "VERMONT IP BEVERAGE   224,661.85  \n",
       "Wal-Mart USA        1,626,983.73  \n",
       "Walgreens USA       1,417,586.86  \n",
       "All                 5,068,536.80  "
      ]
     },
     "execution_count": 12,
     "metadata": {},
     "output_type": "execute_result"
    }
   ],
   "source": [
    "data_final.pivot_table(index='GrpNombre', \n",
    "                       columns='Semana GL', \n",
    "                       values=['Monto Ventas'],\n",
    "                       margins=True,\n",
    "                       aggfunc='sum')"
   ]
  },
  {
   "cell_type": "code",
   "execution_count": 13,
   "metadata": {},
   "outputs": [
    {
     "data": {
      "text/html": [
       "<div>\n",
       "<style scoped>\n",
       "    .dataframe tbody tr th:only-of-type {\n",
       "        vertical-align: middle;\n",
       "    }\n",
       "\n",
       "    .dataframe tbody tr th {\n",
       "        vertical-align: top;\n",
       "    }\n",
       "\n",
       "    .dataframe thead tr th {\n",
       "        text-align: left;\n",
       "    }\n",
       "\n",
       "    .dataframe thead tr:last-of-type th {\n",
       "        text-align: right;\n",
       "    }\n",
       "</style>\n",
       "<table border=\"1\" class=\"dataframe\">\n",
       "  <thead>\n",
       "    <tr>\n",
       "      <th></th>\n",
       "      <th colspan=\"5\" halign=\"left\">Monto Ventas</th>\n",
       "    </tr>\n",
       "    <tr>\n",
       "      <th>Semana GL</th>\n",
       "      <th>8</th>\n",
       "      <th>9</th>\n",
       "      <th>10</th>\n",
       "      <th>11</th>\n",
       "      <th>All</th>\n",
       "    </tr>\n",
       "    <tr>\n",
       "      <th>GrpNombre</th>\n",
       "      <th></th>\n",
       "      <th></th>\n",
       "      <th></th>\n",
       "      <th></th>\n",
       "      <th></th>\n",
       "    </tr>\n",
       "  </thead>\n",
       "  <tbody>\n",
       "    <tr>\n",
       "      <th>AMAZON US</th>\n",
       "      <td>100,920.96</td>\n",
       "      <td>106,524.32</td>\n",
       "      <td>116,385.57</td>\n",
       "      <td>115,568.66</td>\n",
       "      <td>439,399.51</td>\n",
       "    </tr>\n",
       "    <tr>\n",
       "      <th>VERMONT IP BEVERAGE</th>\n",
       "      <td>53,493.95</td>\n",
       "      <td>63,815.70</td>\n",
       "      <td>60,565.40</td>\n",
       "      <td>46,786.80</td>\n",
       "      <td>224,661.85</td>\n",
       "    </tr>\n",
       "    <tr>\n",
       "      <th>Wal-Mart USA</th>\n",
       "      <td>373,484.28</td>\n",
       "      <td>402,247.99</td>\n",
       "      <td>423,590.37</td>\n",
       "      <td>427,661.09</td>\n",
       "      <td>1,626,983.73</td>\n",
       "    </tr>\n",
       "    <tr>\n",
       "      <th>Walgreens USA</th>\n",
       "      <td>361,228.89</td>\n",
       "      <td>351,196.23</td>\n",
       "      <td>370,857.58</td>\n",
       "      <td>334,304.16</td>\n",
       "      <td>1,417,586.86</td>\n",
       "    </tr>\n",
       "    <tr>\n",
       "      <th>All</th>\n",
       "      <td>889,128.08</td>\n",
       "      <td>923,784.24</td>\n",
       "      <td>971,398.92</td>\n",
       "      <td>924,320.71</td>\n",
       "      <td>3,708,631.95</td>\n",
       "    </tr>\n",
       "  </tbody>\n",
       "</table>\n",
       "</div>"
      ],
      "text/plain": [
       "                    Monto Ventas                                              \n",
       "Semana GL                      8          9         10         11          All\n",
       "GrpNombre                                                                     \n",
       "AMAZON US             100,920.96 106,524.32 116,385.57 115,568.66   439,399.51\n",
       "VERMONT IP BEVERAGE    53,493.95  63,815.70  60,565.40  46,786.80   224,661.85\n",
       "Wal-Mart USA          373,484.28 402,247.99 423,590.37 427,661.09 1,626,983.73\n",
       "Walgreens USA         361,228.89 351,196.23 370,857.58 334,304.16 1,417,586.86\n",
       "All                   889,128.08 923,784.24 971,398.92 924,320.71 3,708,631.95"
      ]
     },
     "execution_count": 13,
     "metadata": {},
     "output_type": "execute_result"
    }
   ],
   "source": [
    "data_final[data_final['GrpNombre']!='MIDWAY IMPORTING'].pivot_table(index='GrpNombre', \n",
    "                                                                    columns='Semana GL', \n",
    "                                                                    values=['Monto Ventas'],\n",
    "                                                                    margins=True,\n",
    "                                                                    aggfunc='sum')"
   ]
  },
  {
   "cell_type": "markdown",
   "metadata": {},
   "source": [
    "# Export"
   ]
  },
  {
   "cell_type": "markdown",
   "metadata": {},
   "source": [
    "%%time\n",
    "path = '../../../02Paises/EUA/Consultas/'\n",
    "filename = 'Consulta {0}_{1}-{2}.xlsx'.format(country, datetime.today().strftime('%Y%m%d'), datetime.today().strftime('%H%M'))\n",
    "data_final.to_excel(path + filename, index=False, sheet_name=country)"
   ]
  },
  {
   "cell_type": "markdown",
   "metadata": {},
   "source": [
    "# Sankey"
   ]
  },
  {
   "cell_type": "code",
   "execution_count": 14,
   "metadata": {},
   "outputs": [],
   "source": [
    "from pdb import set_trace\n",
    "import plotly.graph_objects as go\n",
    "import pandas as pd\n",
    "import random\n",
    "pd.options.display.float_format = '{:,.2f}'.format"
   ]
  },
  {
   "cell_type": "code",
   "execution_count": 15,
   "metadata": {},
   "outputs": [],
   "source": [
    "def create_params(df, cols, value):\n",
    "    labels = df.melt(value_vars=cols).drop_duplicates()['value'].tolist()\n",
    "    labels_nodes = dict(zip(labels, range(len(labels))))\n",
    "    source, target, values = [], [], []\n",
    "    link_color = dict(zip(range(len(labels)), [random_color('rgba') for x in range(len(labels))]))\n",
    "    for sour, targ in zip(cols, cols[1:]):\n",
    "        aux = df.pivot_table(index=[sour, targ], values=value, aggfunc='sum').reset_index()\n",
    "        source += aux[sour].map(labels_nodes).tolist()\n",
    "        target += aux[targ].map(labels_nodes).tolist()\n",
    "        values += aux[value].tolist()\n",
    "    df_trace = pd.DataFrame([source, target, values]).T.rename({0:'source', 1:'target', 2:'value'}, axis=1)\n",
    "    #df_trace['color'] = df_trace['source'].apply(lambda x: random_color('color'))\n",
    "    df_trace['link color'] = df_trace['source'].map(link_color)\n",
    "    return df_trace, list(labels_nodes.keys())"
   ]
  },
  {
   "cell_type": "code",
   "execution_count": 16,
   "metadata": {},
   "outputs": [],
   "source": [
    "def random_color(method):\n",
    "    if method == 'rgba':\n",
    "        return 'rgba' + str(tuple(random.choices(range(256), k=3) + [round(random.uniform(0.2, 0.85), 4)]))\n",
    "    else:\n",
    "        return \"#\"+''.join([random.choice('0123456789ABCDEF') for j in range(6)])"
   ]
  },
  {
   "cell_type": "code",
   "execution_count": 17,
   "metadata": {},
   "outputs": [],
   "source": [
    "def sankey_diagram(data_trace, labels, year, weeks):\n",
    "    fig = go.Figure(data=[go.Sankey(orientation = \"h\",\n",
    "                                    valueformat = \",.2f\",\n",
    "                                    node = dict(pad = 15, \n",
    "                                                thickness = 20, \n",
    "                                                line = dict(color = \"black\", width = 0.5),\n",
    "                                                label = labels,\n",
    "                                                #color = data_trace['color']),\n",
    "                                                color = 'black'),\n",
    "                                    link = dict(source = data_trace['source'],\n",
    "                                                target = data_trace['target'],\n",
    "                                                value = data_trace['value'],\n",
    "                                                color = data_trace['link color'])\n",
    "                                   )],\n",
    "                    layout={'showlegend': True})\n",
    "    weeks_text = ', '.join([str(w) for w in weeks])\n",
    "    fig.update_layout(title_text=\"Genomma USA - Sell Out Week {1} - {0}\".format(year, weeks_text), font_size=12)\n",
    "    fig.show()"
   ]
  },
  {
   "cell_type": "code",
   "execution_count": 18,
   "metadata": {},
   "outputs": [],
   "source": [
    "def create_params_perc(df, cols, value):\n",
    "    labels = df.melt(value_vars=cols).drop_duplicates()['value'].tolist()\n",
    "    labels_nodes = dict(zip(labels, range(len(labels))))\n",
    "    source, target, values = [], [], []\n",
    "    link_color = dict(zip(range(len(labels)), [random_color('rgba') for x in range(len(labels))]))\n",
    "    for sour, targ in zip(cols, cols[1:]):\n",
    "        aux = df.pivot_table(index=[sour, targ], values=value, aggfunc='sum').reset_index()\n",
    "        source += aux[sour].map(labels_nodes).tolist()\n",
    "        target += aux[targ].map(labels_nodes).tolist()\n",
    "        total_values = aux[value].sum()\n",
    "        values += [x/total_values for x in aux[value].tolist()]\n",
    "    df_trace = pd.DataFrame([source, target, values]).T.rename({0:'source', 1:'target', 2:'value'}, axis=1)\n",
    "    df_trace['link color'] = df_trace['source'].map(link_color)\n",
    "    return df_trace, list(labels_nodes.keys())"
   ]
  },
  {
   "cell_type": "code",
   "execution_count": 19,
   "metadata": {},
   "outputs": [
    {
     "data": {
      "text/plain": [
       "Index(['Anio GL', 'Semana GL', 'Mes GL', 'Fecha', 'GrpID', 'GrpNombre',\n",
       "       'CadID', 'CadNombre', 'MrcNombre', 'ProID', 'ProNombre', 'ProPstID',\n",
       "       'ProPstCodBarras', 'ProPstNombre', 'Unidades Ventas',\n",
       "       'Unidades Inventario', 'Monto Ventas', 'Monto Inventario'],\n",
       "      dtype='object')"
      ]
     },
     "execution_count": 19,
     "metadata": {},
     "output_type": "execute_result"
    }
   ],
   "source": [
    "data_final.columns"
   ]
  },
  {
   "cell_type": "code",
   "execution_count": 20,
   "metadata": {},
   "outputs": [],
   "source": [
    "data_final['País'] = 'USA'"
   ]
  },
  {
   "cell_type": "code",
   "execution_count": 21,
   "metadata": {
    "scrolled": false
   },
   "outputs": [
    {
     "data": {
      "application/vnd.plotly.v1+json": {
       "config": {
        "plotlyServerURL": "https://plot.ly"
       },
       "data": [
        {
         "link": {
          "color": [
           "rgba(231, 79, 0, 0.3349)",
           "rgba(231, 79, 0, 0.3349)",
           "rgba(231, 79, 0, 0.3349)",
           "rgba(231, 79, 0, 0.3349)",
           "rgba(231, 79, 0, 0.3349)",
           "rgba(231, 79, 0, 0.3349)",
           "rgba(231, 79, 0, 0.3349)",
           "rgba(231, 79, 0, 0.3349)",
           "rgba(231, 79, 0, 0.3349)",
           "rgba(231, 79, 0, 0.3349)",
           "rgba(231, 79, 0, 0.3349)",
           "rgba(231, 79, 0, 0.3349)",
           "rgba(231, 79, 0, 0.3349)",
           "rgba(231, 79, 0, 0.3349)",
           "rgba(231, 79, 0, 0.3349)",
           "rgba(231, 79, 0, 0.3349)",
           "rgba(231, 79, 0, 0.3349)",
           "rgba(231, 79, 0, 0.3349)",
           "rgba(231, 79, 0, 0.3349)",
           "rgba(231, 79, 0, 0.3349)",
           "rgba(231, 79, 0, 0.3349)",
           "rgba(231, 79, 0, 0.3349)"
          ],
          "source": [
           0,
           0,
           0,
           0,
           0,
           0,
           0,
           0,
           0,
           0,
           0,
           0,
           0,
           0,
           0,
           0,
           0,
           0,
           0,
           0,
           0,
           0
          ],
          "target": [
           1,
           2,
           3,
           4,
           18,
           22,
           19,
           5,
           6,
           7,
           8,
           9,
           10,
           11,
           20,
           12,
           21,
           13,
           14,
           15,
           16,
           17
          ],
          "value": [
           0.06678164082782612,
           0.008061391351812419,
           0.006955588312881967,
           0.2301792918791817,
           0,
           0.0003420184172534984,
           0.00038869634034439796,
           0.045132959859266825,
           0.037091387619099025,
           0.026427397964264784,
           0.013353071354123508,
           0.00778625008267466,
           0.012182755472302279,
           0.04828891201667633,
           0.008414509079768314,
           0.0988160152410261,
           0.05943285563217797,
           0.017695228132647407,
           0.10417300632432641,
           0.15435154557901531,
           0.0027516863730113416,
           0.05139379214031962
          ]
         },
         "node": {
          "color": "black",
          "label": [
           "USA",
           "ASEPXIA",
           "BIO",
           "BUFFERIN",
           "CICATRICURE",
           "GOICOECHEA",
           "LOMECAN V",
           "MEDICASP",
           "NEXT",
           "NIKZON",
           "POMADA DE LA CAMPANA",
           "POMADA DEL DRAGON",
           "SILKA",
           "TEATRICAL",
           "TIO NACHO",
           "TUKOL",
           "VANART",
           "X RAY",
           "DEVLYN",
           "GENOZOL",
           "SHOT B",
           "SUEROX",
           "ELLIPSE"
          ],
          "line": {
           "color": "black",
           "width": 0.5
          },
          "pad": 15,
          "thickness": 20
         },
         "orientation": "h",
         "type": "sankey",
         "valueformat": ",.2f"
        }
       ],
       "layout": {
        "font": {
         "size": 12
        },
        "showlegend": true,
        "template": {
         "data": {
          "bar": [
           {
            "error_x": {
             "color": "#2a3f5f"
            },
            "error_y": {
             "color": "#2a3f5f"
            },
            "marker": {
             "line": {
              "color": "#E5ECF6",
              "width": 0.5
             },
             "pattern": {
              "fillmode": "overlay",
              "size": 10,
              "solidity": 0.2
             }
            },
            "type": "bar"
           }
          ],
          "barpolar": [
           {
            "marker": {
             "line": {
              "color": "#E5ECF6",
              "width": 0.5
             },
             "pattern": {
              "fillmode": "overlay",
              "size": 10,
              "solidity": 0.2
             }
            },
            "type": "barpolar"
           }
          ],
          "carpet": [
           {
            "aaxis": {
             "endlinecolor": "#2a3f5f",
             "gridcolor": "white",
             "linecolor": "white",
             "minorgridcolor": "white",
             "startlinecolor": "#2a3f5f"
            },
            "baxis": {
             "endlinecolor": "#2a3f5f",
             "gridcolor": "white",
             "linecolor": "white",
             "minorgridcolor": "white",
             "startlinecolor": "#2a3f5f"
            },
            "type": "carpet"
           }
          ],
          "choropleth": [
           {
            "colorbar": {
             "outlinewidth": 0,
             "ticks": ""
            },
            "type": "choropleth"
           }
          ],
          "contour": [
           {
            "colorbar": {
             "outlinewidth": 0,
             "ticks": ""
            },
            "colorscale": [
             [
              0,
              "#0d0887"
             ],
             [
              0.1111111111111111,
              "#46039f"
             ],
             [
              0.2222222222222222,
              "#7201a8"
             ],
             [
              0.3333333333333333,
              "#9c179e"
             ],
             [
              0.4444444444444444,
              "#bd3786"
             ],
             [
              0.5555555555555556,
              "#d8576b"
             ],
             [
              0.6666666666666666,
              "#ed7953"
             ],
             [
              0.7777777777777778,
              "#fb9f3a"
             ],
             [
              0.8888888888888888,
              "#fdca26"
             ],
             [
              1,
              "#f0f921"
             ]
            ],
            "type": "contour"
           }
          ],
          "contourcarpet": [
           {
            "colorbar": {
             "outlinewidth": 0,
             "ticks": ""
            },
            "type": "contourcarpet"
           }
          ],
          "heatmap": [
           {
            "colorbar": {
             "outlinewidth": 0,
             "ticks": ""
            },
            "colorscale": [
             [
              0,
              "#0d0887"
             ],
             [
              0.1111111111111111,
              "#46039f"
             ],
             [
              0.2222222222222222,
              "#7201a8"
             ],
             [
              0.3333333333333333,
              "#9c179e"
             ],
             [
              0.4444444444444444,
              "#bd3786"
             ],
             [
              0.5555555555555556,
              "#d8576b"
             ],
             [
              0.6666666666666666,
              "#ed7953"
             ],
             [
              0.7777777777777778,
              "#fb9f3a"
             ],
             [
              0.8888888888888888,
              "#fdca26"
             ],
             [
              1,
              "#f0f921"
             ]
            ],
            "type": "heatmap"
           }
          ],
          "heatmapgl": [
           {
            "colorbar": {
             "outlinewidth": 0,
             "ticks": ""
            },
            "colorscale": [
             [
              0,
              "#0d0887"
             ],
             [
              0.1111111111111111,
              "#46039f"
             ],
             [
              0.2222222222222222,
              "#7201a8"
             ],
             [
              0.3333333333333333,
              "#9c179e"
             ],
             [
              0.4444444444444444,
              "#bd3786"
             ],
             [
              0.5555555555555556,
              "#d8576b"
             ],
             [
              0.6666666666666666,
              "#ed7953"
             ],
             [
              0.7777777777777778,
              "#fb9f3a"
             ],
             [
              0.8888888888888888,
              "#fdca26"
             ],
             [
              1,
              "#f0f921"
             ]
            ],
            "type": "heatmapgl"
           }
          ],
          "histogram": [
           {
            "marker": {
             "pattern": {
              "fillmode": "overlay",
              "size": 10,
              "solidity": 0.2
             }
            },
            "type": "histogram"
           }
          ],
          "histogram2d": [
           {
            "colorbar": {
             "outlinewidth": 0,
             "ticks": ""
            },
            "colorscale": [
             [
              0,
              "#0d0887"
             ],
             [
              0.1111111111111111,
              "#46039f"
             ],
             [
              0.2222222222222222,
              "#7201a8"
             ],
             [
              0.3333333333333333,
              "#9c179e"
             ],
             [
              0.4444444444444444,
              "#bd3786"
             ],
             [
              0.5555555555555556,
              "#d8576b"
             ],
             [
              0.6666666666666666,
              "#ed7953"
             ],
             [
              0.7777777777777778,
              "#fb9f3a"
             ],
             [
              0.8888888888888888,
              "#fdca26"
             ],
             [
              1,
              "#f0f921"
             ]
            ],
            "type": "histogram2d"
           }
          ],
          "histogram2dcontour": [
           {
            "colorbar": {
             "outlinewidth": 0,
             "ticks": ""
            },
            "colorscale": [
             [
              0,
              "#0d0887"
             ],
             [
              0.1111111111111111,
              "#46039f"
             ],
             [
              0.2222222222222222,
              "#7201a8"
             ],
             [
              0.3333333333333333,
              "#9c179e"
             ],
             [
              0.4444444444444444,
              "#bd3786"
             ],
             [
              0.5555555555555556,
              "#d8576b"
             ],
             [
              0.6666666666666666,
              "#ed7953"
             ],
             [
              0.7777777777777778,
              "#fb9f3a"
             ],
             [
              0.8888888888888888,
              "#fdca26"
             ],
             [
              1,
              "#f0f921"
             ]
            ],
            "type": "histogram2dcontour"
           }
          ],
          "mesh3d": [
           {
            "colorbar": {
             "outlinewidth": 0,
             "ticks": ""
            },
            "type": "mesh3d"
           }
          ],
          "parcoords": [
           {
            "line": {
             "colorbar": {
              "outlinewidth": 0,
              "ticks": ""
             }
            },
            "type": "parcoords"
           }
          ],
          "pie": [
           {
            "automargin": true,
            "type": "pie"
           }
          ],
          "scatter": [
           {
            "marker": {
             "colorbar": {
              "outlinewidth": 0,
              "ticks": ""
             }
            },
            "type": "scatter"
           }
          ],
          "scatter3d": [
           {
            "line": {
             "colorbar": {
              "outlinewidth": 0,
              "ticks": ""
             }
            },
            "marker": {
             "colorbar": {
              "outlinewidth": 0,
              "ticks": ""
             }
            },
            "type": "scatter3d"
           }
          ],
          "scattercarpet": [
           {
            "marker": {
             "colorbar": {
              "outlinewidth": 0,
              "ticks": ""
             }
            },
            "type": "scattercarpet"
           }
          ],
          "scattergeo": [
           {
            "marker": {
             "colorbar": {
              "outlinewidth": 0,
              "ticks": ""
             }
            },
            "type": "scattergeo"
           }
          ],
          "scattergl": [
           {
            "marker": {
             "colorbar": {
              "outlinewidth": 0,
              "ticks": ""
             }
            },
            "type": "scattergl"
           }
          ],
          "scattermapbox": [
           {
            "marker": {
             "colorbar": {
              "outlinewidth": 0,
              "ticks": ""
             }
            },
            "type": "scattermapbox"
           }
          ],
          "scatterpolar": [
           {
            "marker": {
             "colorbar": {
              "outlinewidth": 0,
              "ticks": ""
             }
            },
            "type": "scatterpolar"
           }
          ],
          "scatterpolargl": [
           {
            "marker": {
             "colorbar": {
              "outlinewidth": 0,
              "ticks": ""
             }
            },
            "type": "scatterpolargl"
           }
          ],
          "scatterternary": [
           {
            "marker": {
             "colorbar": {
              "outlinewidth": 0,
              "ticks": ""
             }
            },
            "type": "scatterternary"
           }
          ],
          "surface": [
           {
            "colorbar": {
             "outlinewidth": 0,
             "ticks": ""
            },
            "colorscale": [
             [
              0,
              "#0d0887"
             ],
             [
              0.1111111111111111,
              "#46039f"
             ],
             [
              0.2222222222222222,
              "#7201a8"
             ],
             [
              0.3333333333333333,
              "#9c179e"
             ],
             [
              0.4444444444444444,
              "#bd3786"
             ],
             [
              0.5555555555555556,
              "#d8576b"
             ],
             [
              0.6666666666666666,
              "#ed7953"
             ],
             [
              0.7777777777777778,
              "#fb9f3a"
             ],
             [
              0.8888888888888888,
              "#fdca26"
             ],
             [
              1,
              "#f0f921"
             ]
            ],
            "type": "surface"
           }
          ],
          "table": [
           {
            "cells": {
             "fill": {
              "color": "#EBF0F8"
             },
             "line": {
              "color": "white"
             }
            },
            "header": {
             "fill": {
              "color": "#C8D4E3"
             },
             "line": {
              "color": "white"
             }
            },
            "type": "table"
           }
          ]
         },
         "layout": {
          "annotationdefaults": {
           "arrowcolor": "#2a3f5f",
           "arrowhead": 0,
           "arrowwidth": 1
          },
          "autotypenumbers": "strict",
          "coloraxis": {
           "colorbar": {
            "outlinewidth": 0,
            "ticks": ""
           }
          },
          "colorscale": {
           "diverging": [
            [
             0,
             "#8e0152"
            ],
            [
             0.1,
             "#c51b7d"
            ],
            [
             0.2,
             "#de77ae"
            ],
            [
             0.3,
             "#f1b6da"
            ],
            [
             0.4,
             "#fde0ef"
            ],
            [
             0.5,
             "#f7f7f7"
            ],
            [
             0.6,
             "#e6f5d0"
            ],
            [
             0.7,
             "#b8e186"
            ],
            [
             0.8,
             "#7fbc41"
            ],
            [
             0.9,
             "#4d9221"
            ],
            [
             1,
             "#276419"
            ]
           ],
           "sequential": [
            [
             0,
             "#0d0887"
            ],
            [
             0.1111111111111111,
             "#46039f"
            ],
            [
             0.2222222222222222,
             "#7201a8"
            ],
            [
             0.3333333333333333,
             "#9c179e"
            ],
            [
             0.4444444444444444,
             "#bd3786"
            ],
            [
             0.5555555555555556,
             "#d8576b"
            ],
            [
             0.6666666666666666,
             "#ed7953"
            ],
            [
             0.7777777777777778,
             "#fb9f3a"
            ],
            [
             0.8888888888888888,
             "#fdca26"
            ],
            [
             1,
             "#f0f921"
            ]
           ],
           "sequentialminus": [
            [
             0,
             "#0d0887"
            ],
            [
             0.1111111111111111,
             "#46039f"
            ],
            [
             0.2222222222222222,
             "#7201a8"
            ],
            [
             0.3333333333333333,
             "#9c179e"
            ],
            [
             0.4444444444444444,
             "#bd3786"
            ],
            [
             0.5555555555555556,
             "#d8576b"
            ],
            [
             0.6666666666666666,
             "#ed7953"
            ],
            [
             0.7777777777777778,
             "#fb9f3a"
            ],
            [
             0.8888888888888888,
             "#fdca26"
            ],
            [
             1,
             "#f0f921"
            ]
           ]
          },
          "colorway": [
           "#636efa",
           "#EF553B",
           "#00cc96",
           "#ab63fa",
           "#FFA15A",
           "#19d3f3",
           "#FF6692",
           "#B6E880",
           "#FF97FF",
           "#FECB52"
          ],
          "font": {
           "color": "#2a3f5f"
          },
          "geo": {
           "bgcolor": "white",
           "lakecolor": "white",
           "landcolor": "#E5ECF6",
           "showlakes": true,
           "showland": true,
           "subunitcolor": "white"
          },
          "hoverlabel": {
           "align": "left"
          },
          "hovermode": "closest",
          "mapbox": {
           "style": "light"
          },
          "paper_bgcolor": "white",
          "plot_bgcolor": "#E5ECF6",
          "polar": {
           "angularaxis": {
            "gridcolor": "white",
            "linecolor": "white",
            "ticks": ""
           },
           "bgcolor": "#E5ECF6",
           "radialaxis": {
            "gridcolor": "white",
            "linecolor": "white",
            "ticks": ""
           }
          },
          "scene": {
           "xaxis": {
            "backgroundcolor": "#E5ECF6",
            "gridcolor": "white",
            "gridwidth": 2,
            "linecolor": "white",
            "showbackground": true,
            "ticks": "",
            "zerolinecolor": "white"
           },
           "yaxis": {
            "backgroundcolor": "#E5ECF6",
            "gridcolor": "white",
            "gridwidth": 2,
            "linecolor": "white",
            "showbackground": true,
            "ticks": "",
            "zerolinecolor": "white"
           },
           "zaxis": {
            "backgroundcolor": "#E5ECF6",
            "gridcolor": "white",
            "gridwidth": 2,
            "linecolor": "white",
            "showbackground": true,
            "ticks": "",
            "zerolinecolor": "white"
           }
          },
          "shapedefaults": {
           "line": {
            "color": "#2a3f5f"
           }
          },
          "ternary": {
           "aaxis": {
            "gridcolor": "white",
            "linecolor": "white",
            "ticks": ""
           },
           "baxis": {
            "gridcolor": "white",
            "linecolor": "white",
            "ticks": ""
           },
           "bgcolor": "#E5ECF6",
           "caxis": {
            "gridcolor": "white",
            "linecolor": "white",
            "ticks": ""
           }
          },
          "title": {
           "x": 0.05
          },
          "xaxis": {
           "automargin": true,
           "gridcolor": "white",
           "linecolor": "white",
           "ticks": "",
           "title": {
            "standoff": 15
           },
           "zerolinecolor": "white",
           "zerolinewidth": 2
          },
          "yaxis": {
           "automargin": true,
           "gridcolor": "white",
           "linecolor": "white",
           "ticks": "",
           "title": {
            "standoff": 15
           },
           "zerolinecolor": "white",
           "zerolinewidth": 2
          }
         }
        },
        "title": {
         "text": "Genomma USA - Sell Out Week 10 - 2022"
        }
       }
      }
     },
     "metadata": {},
     "output_type": "display_data"
    }
   ],
   "source": [
    "year = 2022\n",
    "#weeks = range(36, 39)\n",
    "weeks = [10]\n",
    "cols_nodes = ['País', 'MrcNombre']\n",
    "\n",
    "#data = data_final[(data_final['Año_GL'] == year)&(data_final['Semana_GL'].isin(weeks))&(data_final['MrcNombre']=='TIO NACHO')].copy()\n",
    "data = data_final[(data_final['Anio GL'] == year)&(data_final['Semana GL'].isin(weeks))].copy()\n",
    "data.reset_index(drop=True, inplace=True)\n",
    "\n",
    "trace, label = create_params_perc(df=data, cols=cols_nodes, value='Monto Ventas')\n",
    "sankey_diagram(trace, label, year, weeks)"
   ]
  },
  {
   "cell_type": "code",
   "execution_count": 22,
   "metadata": {},
   "outputs": [
    {
     "ename": "KeyError",
     "evalue": "'Monto Ventas'",
     "output_type": "error",
     "traceback": [
      "\u001b[1;31m---------------------------------------------------------------------------\u001b[0m",
      "\u001b[1;31mKeyError\u001b[0m                                  Traceback (most recent call last)",
      "\u001b[1;32mc:\\Users\\jshernandezm\\Anaconda3\\lib\\site-packages\\pandas\\core\\indexes\\base.py\u001b[0m in \u001b[0;36mget_loc\u001b[1;34m(self, key, method, tolerance)\u001b[0m\n\u001b[0;32m   3620\u001b[0m             \u001b[1;32mtry\u001b[0m\u001b[1;33m:\u001b[0m\u001b[1;33m\u001b[0m\u001b[1;33m\u001b[0m\u001b[0m\n\u001b[1;32m-> 3621\u001b[1;33m                 \u001b[1;32mreturn\u001b[0m \u001b[0mself\u001b[0m\u001b[1;33m.\u001b[0m\u001b[0m_engine\u001b[0m\u001b[1;33m.\u001b[0m\u001b[0mget_loc\u001b[0m\u001b[1;33m(\u001b[0m\u001b[0mcasted_key\u001b[0m\u001b[1;33m)\u001b[0m\u001b[1;33m\u001b[0m\u001b[1;33m\u001b[0m\u001b[0m\n\u001b[0m\u001b[0;32m   3622\u001b[0m             \u001b[1;32mexcept\u001b[0m \u001b[0mKeyError\u001b[0m \u001b[1;32mas\u001b[0m \u001b[0merr\u001b[0m\u001b[1;33m:\u001b[0m\u001b[1;33m\u001b[0m\u001b[1;33m\u001b[0m\u001b[0m\n",
      "\u001b[1;32mc:\\Users\\jshernandezm\\Anaconda3\\lib\\site-packages\\pandas\\_libs\\index.pyx\u001b[0m in \u001b[0;36mpandas._libs.index.IndexEngine.get_loc\u001b[1;34m()\u001b[0m\n",
      "\u001b[1;32mc:\\Users\\jshernandezm\\Anaconda3\\lib\\site-packages\\pandas\\_libs\\index.pyx\u001b[0m in \u001b[0;36mpandas._libs.index.IndexEngine.get_loc\u001b[1;34m()\u001b[0m\n",
      "\u001b[1;32mpandas\\_libs\\hashtable_class_helper.pxi\u001b[0m in \u001b[0;36mpandas._libs.hashtable.PyObjectHashTable.get_item\u001b[1;34m()\u001b[0m\n",
      "\u001b[1;32mpandas\\_libs\\hashtable_class_helper.pxi\u001b[0m in \u001b[0;36mpandas._libs.hashtable.PyObjectHashTable.get_item\u001b[1;34m()\u001b[0m\n",
      "\u001b[1;31mKeyError\u001b[0m: 'Monto Ventas'",
      "\nThe above exception was the direct cause of the following exception:\n",
      "\u001b[1;31mKeyError\u001b[0m                                  Traceback (most recent call last)",
      "\u001b[1;32mC:\\Users\\JSHERN~1\\AppData\\Local\\Temp/ipykernel_6568/3216851581.py\u001b[0m in \u001b[0;36m<module>\u001b[1;34m\u001b[0m\n\u001b[0;32m      8\u001b[0m \u001b[0mdata\u001b[0m\u001b[1;33m.\u001b[0m\u001b[0mreset_index\u001b[0m\u001b[1;33m(\u001b[0m\u001b[0mdrop\u001b[0m\u001b[1;33m=\u001b[0m\u001b[1;32mTrue\u001b[0m\u001b[1;33m,\u001b[0m \u001b[0minplace\u001b[0m\u001b[1;33m=\u001b[0m\u001b[1;32mTrue\u001b[0m\u001b[1;33m)\u001b[0m\u001b[1;33m\u001b[0m\u001b[1;33m\u001b[0m\u001b[0m\n\u001b[0;32m      9\u001b[0m \u001b[1;33m\u001b[0m\u001b[0m\n\u001b[1;32m---> 10\u001b[1;33m \u001b[0mtrace\u001b[0m\u001b[1;33m,\u001b[0m \u001b[0mlabel\u001b[0m \u001b[1;33m=\u001b[0m \u001b[0mcreate_params_perc\u001b[0m\u001b[1;33m(\u001b[0m\u001b[0mdf\u001b[0m\u001b[1;33m=\u001b[0m\u001b[0mdata\u001b[0m\u001b[1;33m,\u001b[0m \u001b[0mcols\u001b[0m\u001b[1;33m=\u001b[0m\u001b[0mcols_nodes\u001b[0m\u001b[1;33m,\u001b[0m \u001b[0mvalue\u001b[0m\u001b[1;33m=\u001b[0m\u001b[1;34m'Monto Ventas'\u001b[0m\u001b[1;33m)\u001b[0m\u001b[1;33m\u001b[0m\u001b[1;33m\u001b[0m\u001b[0m\n\u001b[0m\u001b[0;32m     11\u001b[0m \u001b[0msankey_diagram\u001b[0m\u001b[1;33m(\u001b[0m\u001b[0mtrace\u001b[0m\u001b[1;33m,\u001b[0m \u001b[0mlabel\u001b[0m\u001b[1;33m,\u001b[0m \u001b[0myear\u001b[0m\u001b[1;33m,\u001b[0m \u001b[0mweeks\u001b[0m\u001b[1;33m)\u001b[0m\u001b[1;33m\u001b[0m\u001b[1;33m\u001b[0m\u001b[0m\n",
      "\u001b[1;32mC:\\Users\\JSHERN~1\\AppData\\Local\\Temp/ipykernel_6568/731340444.py\u001b[0m in \u001b[0;36mcreate_params_perc\u001b[1;34m(df, cols, value)\u001b[0m\n\u001b[0;32m      8\u001b[0m         \u001b[0msource\u001b[0m \u001b[1;33m+=\u001b[0m \u001b[0maux\u001b[0m\u001b[1;33m[\u001b[0m\u001b[0msour\u001b[0m\u001b[1;33m]\u001b[0m\u001b[1;33m.\u001b[0m\u001b[0mmap\u001b[0m\u001b[1;33m(\u001b[0m\u001b[0mlabels_nodes\u001b[0m\u001b[1;33m)\u001b[0m\u001b[1;33m.\u001b[0m\u001b[0mtolist\u001b[0m\u001b[1;33m(\u001b[0m\u001b[1;33m)\u001b[0m\u001b[1;33m\u001b[0m\u001b[1;33m\u001b[0m\u001b[0m\n\u001b[0;32m      9\u001b[0m         \u001b[0mtarget\u001b[0m \u001b[1;33m+=\u001b[0m \u001b[0maux\u001b[0m\u001b[1;33m[\u001b[0m\u001b[0mtarg\u001b[0m\u001b[1;33m]\u001b[0m\u001b[1;33m.\u001b[0m\u001b[0mmap\u001b[0m\u001b[1;33m(\u001b[0m\u001b[0mlabels_nodes\u001b[0m\u001b[1;33m)\u001b[0m\u001b[1;33m.\u001b[0m\u001b[0mtolist\u001b[0m\u001b[1;33m(\u001b[0m\u001b[1;33m)\u001b[0m\u001b[1;33m\u001b[0m\u001b[1;33m\u001b[0m\u001b[0m\n\u001b[1;32m---> 10\u001b[1;33m         \u001b[0mtotal_values\u001b[0m \u001b[1;33m=\u001b[0m \u001b[0maux\u001b[0m\u001b[1;33m[\u001b[0m\u001b[0mvalue\u001b[0m\u001b[1;33m]\u001b[0m\u001b[1;33m.\u001b[0m\u001b[0msum\u001b[0m\u001b[1;33m(\u001b[0m\u001b[1;33m)\u001b[0m\u001b[1;33m\u001b[0m\u001b[1;33m\u001b[0m\u001b[0m\n\u001b[0m\u001b[0;32m     11\u001b[0m         \u001b[0mvalues\u001b[0m \u001b[1;33m+=\u001b[0m \u001b[1;33m[\u001b[0m\u001b[0mx\u001b[0m\u001b[1;33m/\u001b[0m\u001b[0mtotal_values\u001b[0m \u001b[1;32mfor\u001b[0m \u001b[0mx\u001b[0m \u001b[1;32min\u001b[0m \u001b[0maux\u001b[0m\u001b[1;33m[\u001b[0m\u001b[0mvalue\u001b[0m\u001b[1;33m]\u001b[0m\u001b[1;33m.\u001b[0m\u001b[0mtolist\u001b[0m\u001b[1;33m(\u001b[0m\u001b[1;33m)\u001b[0m\u001b[1;33m]\u001b[0m\u001b[1;33m\u001b[0m\u001b[1;33m\u001b[0m\u001b[0m\n\u001b[0;32m     12\u001b[0m     \u001b[0mdf_trace\u001b[0m \u001b[1;33m=\u001b[0m \u001b[0mpd\u001b[0m\u001b[1;33m.\u001b[0m\u001b[0mDataFrame\u001b[0m\u001b[1;33m(\u001b[0m\u001b[1;33m[\u001b[0m\u001b[0msource\u001b[0m\u001b[1;33m,\u001b[0m \u001b[0mtarget\u001b[0m\u001b[1;33m,\u001b[0m \u001b[0mvalues\u001b[0m\u001b[1;33m]\u001b[0m\u001b[1;33m)\u001b[0m\u001b[1;33m.\u001b[0m\u001b[0mT\u001b[0m\u001b[1;33m.\u001b[0m\u001b[0mrename\u001b[0m\u001b[1;33m(\u001b[0m\u001b[1;33m{\u001b[0m\u001b[1;36m0\u001b[0m\u001b[1;33m:\u001b[0m\u001b[1;34m'source'\u001b[0m\u001b[1;33m,\u001b[0m \u001b[1;36m1\u001b[0m\u001b[1;33m:\u001b[0m\u001b[1;34m'target'\u001b[0m\u001b[1;33m,\u001b[0m \u001b[1;36m2\u001b[0m\u001b[1;33m:\u001b[0m\u001b[1;34m'value'\u001b[0m\u001b[1;33m}\u001b[0m\u001b[1;33m,\u001b[0m \u001b[0maxis\u001b[0m\u001b[1;33m=\u001b[0m\u001b[1;36m1\u001b[0m\u001b[1;33m)\u001b[0m\u001b[1;33m\u001b[0m\u001b[1;33m\u001b[0m\u001b[0m\n",
      "\u001b[1;32mc:\\Users\\jshernandezm\\Anaconda3\\lib\\site-packages\\pandas\\core\\frame.py\u001b[0m in \u001b[0;36m__getitem__\u001b[1;34m(self, key)\u001b[0m\n\u001b[0;32m   3503\u001b[0m             \u001b[1;32mif\u001b[0m \u001b[0mself\u001b[0m\u001b[1;33m.\u001b[0m\u001b[0mcolumns\u001b[0m\u001b[1;33m.\u001b[0m\u001b[0mnlevels\u001b[0m \u001b[1;33m>\u001b[0m \u001b[1;36m1\u001b[0m\u001b[1;33m:\u001b[0m\u001b[1;33m\u001b[0m\u001b[1;33m\u001b[0m\u001b[0m\n\u001b[0;32m   3504\u001b[0m                 \u001b[1;32mreturn\u001b[0m \u001b[0mself\u001b[0m\u001b[1;33m.\u001b[0m\u001b[0m_getitem_multilevel\u001b[0m\u001b[1;33m(\u001b[0m\u001b[0mkey\u001b[0m\u001b[1;33m)\u001b[0m\u001b[1;33m\u001b[0m\u001b[1;33m\u001b[0m\u001b[0m\n\u001b[1;32m-> 3505\u001b[1;33m             \u001b[0mindexer\u001b[0m \u001b[1;33m=\u001b[0m \u001b[0mself\u001b[0m\u001b[1;33m.\u001b[0m\u001b[0mcolumns\u001b[0m\u001b[1;33m.\u001b[0m\u001b[0mget_loc\u001b[0m\u001b[1;33m(\u001b[0m\u001b[0mkey\u001b[0m\u001b[1;33m)\u001b[0m\u001b[1;33m\u001b[0m\u001b[1;33m\u001b[0m\u001b[0m\n\u001b[0m\u001b[0;32m   3506\u001b[0m             \u001b[1;32mif\u001b[0m \u001b[0mis_integer\u001b[0m\u001b[1;33m(\u001b[0m\u001b[0mindexer\u001b[0m\u001b[1;33m)\u001b[0m\u001b[1;33m:\u001b[0m\u001b[1;33m\u001b[0m\u001b[1;33m\u001b[0m\u001b[0m\n\u001b[0;32m   3507\u001b[0m                 \u001b[0mindexer\u001b[0m \u001b[1;33m=\u001b[0m \u001b[1;33m[\u001b[0m\u001b[0mindexer\u001b[0m\u001b[1;33m]\u001b[0m\u001b[1;33m\u001b[0m\u001b[1;33m\u001b[0m\u001b[0m\n",
      "\u001b[1;32mc:\\Users\\jshernandezm\\Anaconda3\\lib\\site-packages\\pandas\\core\\indexes\\base.py\u001b[0m in \u001b[0;36mget_loc\u001b[1;34m(self, key, method, tolerance)\u001b[0m\n\u001b[0;32m   3621\u001b[0m                 \u001b[1;32mreturn\u001b[0m \u001b[0mself\u001b[0m\u001b[1;33m.\u001b[0m\u001b[0m_engine\u001b[0m\u001b[1;33m.\u001b[0m\u001b[0mget_loc\u001b[0m\u001b[1;33m(\u001b[0m\u001b[0mcasted_key\u001b[0m\u001b[1;33m)\u001b[0m\u001b[1;33m\u001b[0m\u001b[1;33m\u001b[0m\u001b[0m\n\u001b[0;32m   3622\u001b[0m             \u001b[1;32mexcept\u001b[0m \u001b[0mKeyError\u001b[0m \u001b[1;32mas\u001b[0m \u001b[0merr\u001b[0m\u001b[1;33m:\u001b[0m\u001b[1;33m\u001b[0m\u001b[1;33m\u001b[0m\u001b[0m\n\u001b[1;32m-> 3623\u001b[1;33m                 \u001b[1;32mraise\u001b[0m \u001b[0mKeyError\u001b[0m\u001b[1;33m(\u001b[0m\u001b[0mkey\u001b[0m\u001b[1;33m)\u001b[0m \u001b[1;32mfrom\u001b[0m \u001b[0merr\u001b[0m\u001b[1;33m\u001b[0m\u001b[1;33m\u001b[0m\u001b[0m\n\u001b[0m\u001b[0;32m   3624\u001b[0m             \u001b[1;32mexcept\u001b[0m \u001b[0mTypeError\u001b[0m\u001b[1;33m:\u001b[0m\u001b[1;33m\u001b[0m\u001b[1;33m\u001b[0m\u001b[0m\n\u001b[0;32m   3625\u001b[0m                 \u001b[1;31m# If we have a listlike key, _check_indexing_error will raise\u001b[0m\u001b[1;33m\u001b[0m\u001b[1;33m\u001b[0m\u001b[1;33m\u001b[0m\u001b[0m\n",
      "\u001b[1;31mKeyError\u001b[0m: 'Monto Ventas'"
     ]
    }
   ],
   "source": [
    "year = 2022\n",
    "#weeks = range(36, 39)\n",
    "weeks = [5]\n",
    "cols_nodes = ['País', 'MrcNombre']\n",
    "\n",
    "#data = data_final[(data_final['Año_GL'] == year)&(data_final['Semana_GL'].isin(weeks))&(data_final['MrcNombre']=='TIO NACHO')].copy()\n",
    "data = data_final[(data_final['Anio GL'] == year)&(data_final['Semana GL'].isin(weeks))&(data_final['GrpNombre'].isin(['Target', 'Walgreens USA', 'Wal-Mart USA', 'AMAZON US', 'VERMONT IP BEVERAGE']))].copy()\n",
    "data.reset_index(drop=True, inplace=True)\n",
    "\n",
    "trace, label = create_params_perc(df=data, cols=cols_nodes, value='Monto Ventas')\n",
    "sankey_diagram(trace, label, year, weeks)"
   ]
  },
  {
   "cell_type": "code",
   "execution_count": null,
   "metadata": {},
   "outputs": [],
   "source": []
  },
  {
   "cell_type": "code",
   "execution_count": null,
   "metadata": {},
   "outputs": [],
   "source": []
  },
  {
   "cell_type": "code",
   "execution_count": null,
   "metadata": {},
   "outputs": [],
   "source": []
  },
  {
   "cell_type": "code",
   "execution_count": null,
   "metadata": {},
   "outputs": [],
   "source": []
  }
 ],
 "metadata": {
  "kernelspec": {
   "display_name": "Python 3 (ipykernel)",
   "language": "python",
   "name": "python3"
  },
  "language_info": {
   "codemirror_mode": {
    "name": "ipython",
    "version": 3
   },
   "file_extension": ".py",
   "mimetype": "text/x-python",
   "name": "python",
   "nbconvert_exporter": "python",
   "pygments_lexer": "ipython3",
   "version": "3.8.10"
  },
  "toc": {
   "base_numbering": 1,
   "nav_menu": {},
   "number_sections": true,
   "sideBar": true,
   "skip_h1_title": false,
   "title_cell": "Table of Contents",
   "title_sidebar": "Contents",
   "toc_cell": false,
   "toc_position": {
    "height": "calc(100% - 180px)",
    "left": "10px",
    "top": "150px",
    "width": "260.099px"
   },
   "toc_section_display": true,
   "toc_window_display": false
  }
 },
 "nbformat": 4,
 "nbformat_minor": 4
}

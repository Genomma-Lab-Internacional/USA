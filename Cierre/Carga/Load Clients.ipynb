{
 "cells": [
  {
   "cell_type": "markdown",
   "metadata": {},
   "source": [
    "# USA DATABASE UPLOAD"
   ]
  },
  {
   "cell_type": "code",
   "execution_count": 1,
   "metadata": {},
   "outputs": [],
   "source": [
    "#REMEMBER TO DOUBLE CHECK IF THE WEEK OF THE PRICES QUERY AND FACT_TABLE QUERY MATCHES THE ONE YOURE CURRENTLY UPLOADING\n",
    "\n",
    "#WALMART'S SoutMontoTrans DIFFERS BETWEEN BOTH METHODS IDK WHY, SINCE IT SHOULD BE THE SAME METHOD AS THE OTHER ONES.\n",
    "#I'VE ALREADY DONE THE EXCERCISE MANUALLY AND THE RESULT IT'S THE SAME AS MINE, ALL THE OTHER COLUMNS ARE CORRECT\n",
    "\n",
    "#AMAZON UNITS DON´T MATCH IF I DIVIDE BY THE UNIT PRICE, EVEN IF I ROUND THE NUMBERS UP OR DOWN\n",
    "\n",
    "#NOT SURE HOW MIDWAY MAKES THE RELATIONSHIP BETWEEN THE CLIENTS AND OUR SucCodCliente, IT SEEMS THAT THEY ARE BEING GENERATED SEPARATELY\n",
    "\n",
    "#AS OF RIGHT NOW, WALGREENS, TARGET AND WALMARTECOMMERCE ARE RUNNING PERFECTLY "
   ]
  },
  {
   "cell_type": "code",
   "execution_count": 1,
   "metadata": {},
   "outputs": [],
   "source": [
    "import warnings;\n",
    "warnings.filterwarnings('ignore');\n",
    "\n",
    "import jupyternotify\n",
    "import pandas as pd\n",
    "import os\n",
    "import pyodbc"
   ]
  },
  {
   "cell_type": "code",
   "execution_count": 2,
   "metadata": {},
   "outputs": [],
   "source": [
    "conn1 = pyodbc.connect('Driver={SQL Server};'\n",
    "                     'Server=SFEDWH01;'\n",
    "                     'Database=Gnm_DWH;'\n",
    "                     'Trusted_Connection=yes;')\n",
    "\n",
    "conn2 = pyodbc.connect('Driver={SQL Server};'\n",
    "                     'Server=SFEDWH01;'\n",
    "                     'Database=Gnm_MasterOp;'\n",
    "                     'Trusted_Connection=yes;')"
   ]
  },
  {
   "cell_type": "code",
   "execution_count": 3,
   "metadata": {},
   "outputs": [],
   "source": [
    "query_fact_table = '''\n",
    "                    SELECT ProPstID\n",
    "      ,SucID\n",
    "      ,SoutCantDesp\n",
    "      ,SoutCantExist\n",
    "      ,SoutCantCedis\n",
    "      ,SoutCantTrans\n",
    "      ,SoutCantStaple\n",
    "      ,SoutCantInv\n",
    "      ,SoutMontoDesp\n",
    "      ,SoutMontoExist\n",
    "      ,SoutMontoCedis\n",
    "      ,SoutMontoTrans\n",
    "      ,SoutMontoStaple\n",
    "      ,SoutMontoInv\n",
    "      ,TmpID\n",
    "      ,SoutMontoCteDesp\n",
    "  FROM dbo.Fact_Desplazamiento_SemanalUSA\n",
    "  where TmpID = '20210221'\n",
    "\n",
    "'''\n",
    "\n",
    "query_sucs = '''SELECT DISTINCT SucID, SucCodCliente, CadID\n",
    "                FROM Gnm_MasterOp.dbo.vw_EstructuraSucursalesTotal\n",
    "                WHERE SucID IS NOT NULL;'''\n",
    "\n",
    "query_items='''\n",
    "        SELECT \n",
    "        q.ProIDClie \n",
    "        ,p.CadID \n",
    "        ,p.ProPstID\n",
    "        \n",
    "        FROM dbo.OpHomologacionProdXCad as p, dbo.OpProductosHomologados as q\n",
    "        where p.HpcID = q.HpcID \n",
    "'''\n",
    "\n",
    "query_prices = '''\n",
    "        SELECT *\n",
    "  FROM dbo.GnmPreciosxCadenaHist where Año = 2021 and Semana = 37\n",
    "'''\n",
    "\n",
    "query_tmpid = '''\n",
    "        SELECT TmpID\n",
    "      ,TmpDiaSemana\n",
    "      ,TmpSemanaAnioGenomma\n",
    "      ,TmpAnioSemanaGenomma\n",
    "      FROM dbo.Dim_Tiempo\n",
    "'''"
   ]
  },
  {
   "cell_type": "code",
   "execution_count": 4,
   "metadata": {},
   "outputs": [],
   "source": [
    "groups = {\n",
    "    120:[110,314,315,343,344,345,346],\n",
    "    145:[390,391,392,393,394,142],\n",
    "    146:[143],\n",
    "    302:[144],\n",
    "    527:[766],\n",
    "    730:[764],\n",
    "    944:[1036,1037,1038,1039,1040,1041,1042,1043,1044,1045,1046,1047,1050,1051,1052,1053, 1077, 1078]\n",
    "    }\n",
    "\n",
    "df_tmpid = pd.read_sql(query_tmpid,conn1)\n",
    "df_tmpid = df_tmpid[df_tmpid['TmpDiaSemana'] == 7]"
   ]
  },
  {
   "cell_type": "code",
   "execution_count": 5,
   "metadata": {},
   "outputs": [],
   "source": [
    "def unique_prods(products):\n",
    "    products = products[['ProIDClie','ProPstID']]\n",
    "    products.drop_duplicates(inplace=True)\n",
    "    prods_repetead = products['ProIDClie'].value_counts()[products['ProIDClie'].value_counts() > 1].index\n",
    "    for prod in prods_repetead:\n",
    "        min_ppst = products[products['ProIDClie'] == prod]['ProPstID'].max()\n",
    "        products.loc[products['ProIDClie'] == prod, 'ProPstID'] = min_ppst\n",
    "    products.drop_duplicates(inplace=True)\n",
    "    products.reset_index(drop=True, inplace=True)\n",
    "    return products"
   ]
  },
  {
   "cell_type": "markdown",
   "metadata": {},
   "source": [
    "# Vermont"
   ]
  },
  {
   "cell_type": "code",
   "execution_count": 6,
   "metadata": {},
   "outputs": [
    {
     "name": "stdout",
     "output_type": "stream",
     "text": [
      "Cifras Originales: 45395\n",
      "Cifras Finales: 45395\n"
     ]
    }
   ],
   "source": [
    "year = 2022\n",
    "week = 9\n",
    "week = str(week).zfill(2)\n",
    "\n",
    "file = '{0}_{1}_VIP.xlsx'.format(year, week)\n",
    "path = '../VIP Suerox/{0}/W {1} {0}/'.format(year, week)\n",
    "\n",
    "df_vermont = pd.read_excel(path + file)\n",
    "df_vermont[df_vermont.columns[-2]] = df_vermont[df_vermont.columns[-2]].astype(int) \n",
    "df_validation = df_vermont.copy()\n",
    "\n",
    "df_vermont.columns = ['Distributors', 'Retail Accounts', 'Address', 'City', 'State',\n",
    "       'Zip Code', 'VIP Outlet ID', 'UPC', 'Item Names',\n",
    "       'Cases', 'Bottles',\n",
    "       'USD']\n",
    "\n",
    "df_vermont = df_vermont[['VIP Outlet ID', 'UPC', 'Bottles','USD']].copy()\n",
    "\n",
    "df_vermont = pd.pivot_table(df_vermont,values=['Bottles','USD'],index=['VIP Outlet ID','UPC'], aggfunc='sum').reset_index()\n",
    "\n",
    "#ITEMS\n",
    "df_items = pd.read_sql(query_items,conn2)\n",
    "df_items = df_items[df_items.CadID.isin(groups[944])]\n",
    "df_items = unique_prods(df_items)\n",
    "\n",
    "#STORES\n",
    "df_stores = pd.read_sql(query_sucs,conn2)\n",
    "df_stores = df_stores[df_stores.CadID.isin(groups[944])]\n",
    "df_stores_all = df_stores.copy()\n",
    "df_stores.drop_duplicates('SucCodCliente',inplace=True, keep='last')\n",
    "df_stores.reset_index(drop=True,inplace=True)\n",
    "\n",
    "#PRICES\n",
    "df_precios = pd.read_sql(query_prices,conn2)\n",
    "df_precios = df_precios[df_precios.CadID.isin(groups[944])]\n",
    "df_precios.reset_index(drop=True,inplace=True)\n",
    "df_precios['key'] = df_precios['CadID'].astype(str) + '-' + df_precios['ProPstID'].astype(str)\n",
    "\n",
    "#JOINS\n",
    "df_vermont.rename({'VIP Outlet ID':'SucCodCliente'},axis=1,inplace=True)\n",
    "df_vermont.rename({'UPC':'ProIDClie'},axis=1,inplace=True)\n",
    "df_vermont['SucCodCliente'] = df_vermont['SucCodCliente'].astype(str)\n",
    "df_vermont['ProIDClie'] = df_vermont['ProIDClie'].astype(str)\n",
    "\n",
    "df_vermont = pd.merge(df_vermont,df_stores[['SucCodCliente','SucID','CadID']],on='SucCodCliente',how='left')\n",
    "df_vermont = pd.merge(df_vermont,df_items[['ProIDClie','ProPstID']],on='ProIDClie',how='left')\n",
    "df_vermont['key'] = df_vermont['CadID'].astype(str) + '-' + df_vermont['ProPstID'].astype(str)\n",
    "df_vermont = pd.merge(df_vermont,df_precios[['Precio Base','key']],on='key',how='left')\n",
    "\n",
    "df_final = df_vermont[['ProPstID','SucID']].copy()\n",
    "\n",
    "df_final['SoutCantDesp'] = df_vermont['Bottles']\n",
    "df_final['SoutCantExist'] = 0\n",
    "df_final['SoutCantCedis'] = 0\n",
    "df_final['SoutCantTrans'] = 0\n",
    "df_final['SoutCantStaple'] = 0\n",
    "df_final['SoutCantInv'] = 0\n",
    "df_final['SoutMontoDesp'] = df_vermont['Bottles'] * df_vermont['Precio Base']\n",
    "df_final['SoutMontoExist'] = 0\n",
    "df_final['SoutMontoCedis'] = 0\n",
    "df_final['SoutMontoTrans'] = 0\n",
    "df_final['SoutMontoStaple'] = 0\n",
    "df_final['SoutMontoInv'] = 0\n",
    "df_final['TmpID'] = df_tmpid.loc[(df_tmpid['TmpSemanaAnioGenomma'] == int(week)) & (df_tmpid['TmpAnioSemanaGenomma'] == year)]['TmpID'].unique()[0]\n",
    "df_final['SoutMontoCteDesp'] = df_vermont['USD']\n",
    "\n",
    "VERMONT = pd.pivot_table(df_final, index=['ProPstID', 'SucID', 'TmpID'], values=['SoutCantDesp', 'SoutCantExist',\n",
    "       'SoutCantCedis', 'SoutCantTrans', 'SoutCantStaple', 'SoutCantInv',\n",
    "       'SoutMontoDesp', 'SoutMontoExist', 'SoutMontoCedis', 'SoutMontoTrans',\n",
    "       'SoutMontoStaple', 'SoutMontoInv', 'SoutMontoCteDesp'], aggfunc='sum').reset_index().copy()\n",
    "\n",
    "VERMONT = VERMONT[['ProPstID','SucID','SoutCantDesp','SoutCantExist','SoutCantCedis','SoutCantTrans','SoutCantStaple','SoutCantInv','SoutMontoDesp','SoutMontoExist','SoutMontoCedis','SoutMontoTrans','SoutMontoStaple','SoutMontoInv','TmpID','SoutMontoCteDesp']].copy()\n",
    "\n",
    "x = df_validation.iloc[:,-2].sum()\n",
    "y = VERMONT['SoutCantDesp'].sum()\n",
    "\n",
    "print(f'Cifras Originales: {x}')\n",
    "print(f'Cifras Finales: {y}')"
   ]
  },
  {
   "cell_type": "markdown",
   "metadata": {},
   "source": [
    "**Checar las columnas *SoutMontoDesp* y *SoutMontoCteDesp*, ya que SoutMontoCteDesp está calculándolo bien.**"
   ]
  },
  {
   "cell_type": "code",
   "execution_count": 7,
   "metadata": {},
   "outputs": [],
   "source": [
    "VERMONT['SoutMontoDesp'] = VERMONT['SoutMontoCteDesp']"
   ]
  },
  {
   "cell_type": "code",
   "execution_count": 8,
   "metadata": {},
   "outputs": [
    {
     "data": {
      "text/plain": [
       "ProPstID            0\n",
       "SucID               0\n",
       "SoutCantDesp        0\n",
       "SoutCantExist       0\n",
       "SoutCantCedis       0\n",
       "SoutCantTrans       0\n",
       "SoutCantStaple      0\n",
       "SoutCantInv         0\n",
       "SoutMontoDesp       0\n",
       "SoutMontoExist      0\n",
       "SoutMontoCedis      0\n",
       "SoutMontoTrans      0\n",
       "SoutMontoStaple     0\n",
       "SoutMontoInv        0\n",
       "TmpID               0\n",
       "SoutMontoCteDesp    0\n",
       "dtype: int64"
      ]
     },
     "execution_count": 8,
     "metadata": {},
     "output_type": "execute_result"
    }
   ],
   "source": [
    "VERMONT.isnull().sum()"
   ]
  },
  {
   "cell_type": "code",
   "execution_count": 9,
   "metadata": {},
   "outputs": [
    {
     "data": {
      "text/plain": [
       "63815.70000000003"
      ]
     },
     "execution_count": 9,
     "metadata": {},
     "output_type": "execute_result"
    }
   ],
   "source": [
    "VERMONT['SoutMontoDesp'].sum()"
   ]
  },
  {
   "cell_type": "markdown",
   "metadata": {},
   "source": [
    "# Export Backup"
   ]
  },
  {
   "cell_type": "code",
   "execution_count": 10,
   "metadata": {},
   "outputs": [],
   "source": [
    "path_output = '../VIP Suerox/Output/{0}/W {1} {0}'.format(year, week)\n",
    "\n",
    "if not os.path.exists(path_output):\n",
    "    os.mkdir(path_output)\n",
    "\n",
    "VERMONT.to_csv(path_output + f'/VERMONT_W{week}.csv', index=False, encoding='latin1')"
   ]
  },
  {
   "cell_type": "markdown",
   "metadata": {},
   "source": [
    "## Carga a DWH"
   ]
  },
  {
   "cell_type": "code",
   "execution_count": 11,
   "metadata": {},
   "outputs": [
    {
     "data": {
      "text/plain": [
       "['W 01 2022',\n",
       " 'W 02 2022',\n",
       " 'W 03 2022',\n",
       " 'W 04 2022',\n",
       " 'W 05 2022',\n",
       " 'W 06 2022',\n",
       " 'W 07 2022',\n",
       " 'W 08 2022',\n",
       " 'W 09 2022']"
      ]
     },
     "execution_count": 11,
     "metadata": {},
     "output_type": "execute_result"
    }
   ],
   "source": [
    "os.listdir('../VIP Suerox/Output/2022')"
   ]
  },
  {
   "cell_type": "markdown",
   "metadata": {},
   "source": [
    "# Load data backup"
   ]
  },
  {
   "cell_type": "code",
   "execution_count": 12,
   "metadata": {},
   "outputs": [
    {
     "name": "stdout",
     "output_type": "stream",
     "text": [
      "[20220220 20220227]\n",
      "(140, 16)\n"
     ]
    }
   ],
   "source": [
    "year = 2022\n",
    "weeks = [8, 9]\n",
    "df_dwh = pd.DataFrame()\n",
    "\n",
    "for week in weeks:\n",
    "    week = str(week).zfill(2)\n",
    "    path = '../VIP Suerox/Output/{0}/W {1} {0}/'.format(year, week)\n",
    "    file = 'VERMONT_W{}.csv'.format(week)\n",
    "    df_dwh = pd.concat([df_dwh,pd.read_csv(path + file)])\n",
    "\n",
    "#Semanas a cargar\n",
    "print(df_dwh['TmpID'].unique())\n",
    "print(df_dwh.shape)"
   ]
  },
  {
   "cell_type": "markdown",
   "metadata": {},
   "source": [
    "# Load to SQL"
   ]
  },
  {
   "cell_type": "code",
   "execution_count": 13,
   "metadata": {},
   "outputs": [
    {
     "name": "stdout",
     "output_type": "stream",
     "text": [
      "140 registros cargados\n"
     ]
    }
   ],
   "source": [
    "conn = pyodbc.connect('Driver={SQL Server};'\n",
    "                     'Server=SFEDWH01;'\n",
    "                     'Database=Gnm_DWH;'\n",
    "                     'Trusted_Connection=yes;')\n",
    "\n",
    "cursor = conn.cursor()\n",
    "# Carga a la tabla FillRate\n",
    "## data es el df a cargar\n",
    "for row in df_dwh.itertuples():\n",
    "    cursor.execute('''\n",
    "                INSERT INTO Gnm_DWH.dbo.Fact_Desplazamiento_SemanalUSA (ProPstID, SucID, SoutCantDesp, SoutCantExist, SoutCantCedis,SoutCantTrans, SoutCantStaple, SoutCantInv, SoutMontoDesp,SoutMontoExist, SoutMontoCedis, SoutMontoTrans, SoutMontoStaple,SoutMontoInv, TmpID, SoutMontoCteDesp)\n",
    "                VALUES (?,?,?,?,?,?,?,?,?,?,?,?,?,?,?,?)\n",
    "                ''',\n",
    "                row.ProPstID,\n",
    "                row.SucID,\n",
    "                row.SoutCantDesp,\n",
    "                row.SoutCantExist,\n",
    "                row.SoutCantCedis,\n",
    "                row.SoutCantTrans,\n",
    "                row.SoutCantStaple,\n",
    "                row.SoutCantInv,\n",
    "                row.SoutMontoDesp,\n",
    "                row.SoutMontoExist,\n",
    "                row.SoutMontoCedis,\n",
    "                row.SoutMontoTrans,\n",
    "                row.SoutMontoStaple,\n",
    "                row.SoutMontoInv,\n",
    "                row.TmpID,\n",
    "                row.SoutMontoCteDesp\n",
    "                )\n",
    "conn.commit()\n",
    "print(str(df_dwh.shape[0]) + \" registros cargados\")\n",
    "cursor.close()"
   ]
  },
  {
   "cell_type": "markdown",
   "metadata": {},
   "source": [
    "## TARGET"
   ]
  },
  {
   "cell_type": "code",
   "execution_count": 8,
   "metadata": {},
   "outputs": [],
   "source": [
    "#DATA\n",
    "file = '2021_10_Target'\n",
    "df_target = pd.read_excel('Datos/'+ file +'.xlsx')\n",
    "df_target = df_target[['DPCI','LOCATION NUMBER', 'LOCATION','REG SALES U']]\n",
    "df_target.dropna(how='all',inplace=True)\n",
    "df_target.reset_index(drop=True, inplace=True)\n",
    "df_target['DPCI'] = df_target['DPCI'].apply(lambda x: x.replace('-',''))\n",
    "week = int(file.split('_')[1])\n",
    "year = int(file.split('_')[0])\n",
    "\n",
    "#ITEMS\n",
    "df_items = pd.read_sql(query_items,conn2)\n",
    "df_items = df_items[df_items.CadID.isin(groups[145])]\n",
    "df_items = unique_prods(df_items)\n",
    "\n",
    "#STORES\n",
    "df_stores = pd.read_sql(query_sucs,conn2)\n",
    "df_stores = df_stores[df_stores.CadID.isin(groups[145])]\n",
    "df_stores_all = df_stores.copy()\n",
    "df_stores.drop_duplicates('SucCodCliente',inplace=True, keep='last')\n",
    "df_stores.reset_index(drop=True,inplace=True)\n",
    "\n",
    "#PRICES\n",
    "df_precios = pd.read_sql(query_prices,conn2)\n",
    "df_precios = df_precios[df_precios.CadID.isin(groups[145])]\n",
    "df_precios.reset_index(drop=True,inplace=True)\n",
    "df_precios['key'] = df_precios['CadID'].astype(str) + '-' + df_precios['ProPstID'].astype(str)\n",
    "\n",
    "#JOINS\n",
    "df_target.rename({'LOCATION NUMBER':'SucCodCliente'},axis=1,inplace=True)\n",
    "df_target.rename({'DPCI':'ProIDClie'},axis=1,inplace=True)\n",
    "df_target['SucCodCliente'] = df_target['SucCodCliente'].astype(str)\n",
    "df_target['ProIDClie'] = df_target['ProIDClie'].astype(str)\n",
    "\n",
    "df_target = pd.merge(df_target,df_stores[['SucCodCliente','SucID','CadID']],on='SucCodCliente',how='left')\n",
    "df_target = pd.merge(df_target,df_items[['ProIDClie','ProPstID']],on='ProIDClie',how='left')\n",
    "df_target['key'] = df_target['CadID'].astype(str) + '-' + df_target['ProPstID'].astype(str)\n",
    "df_target = pd.merge(df_target,df_precios[['Precio Base','key']],on='key',how='left')\n",
    "\n",
    "df_final = df_target[['ProPstID','SucID']].copy()\n",
    "\n",
    "df_final['SoutCantDesp'] = df_target['REG SALES U']\n",
    "df_final['SoutCantExist'] = 0\n",
    "df_final['SoutCantCedis'] = 0\n",
    "df_final['SoutCantTrans'] = 0\n",
    "df_final['SoutCantStaple'] = 0\n",
    "df_final['SoutCantInv'] = 0\n",
    "df_final['SoutMontoDesp'] = df_target['REG SALES U'] * df_target['Precio Base']\n",
    "df_final['SoutMontoExist'] = 0\n",
    "df_final['SoutMontoCedis'] = 0\n",
    "df_final['SoutMontoTrans'] = 0\n",
    "df_final['SoutMontoStaple'] = 0\n",
    "df_final['SoutMontoInv'] = 0\n",
    "df_final['TmpID'] = df_tmpid.loc[(df_tmpid['TmpSemanaAnioGenomma'] == week) & (df_tmpid['TmpAnioSemanaGenomma'] == year)]['TmpID'].unique()[0]\n",
    "df_final['SoutMontoCteDesp'] = 0\n",
    "\n",
    "TARGET = pd.pivot_table(df_final, index=['ProPstID', 'SucID', 'TmpID'], values=['SoutCantDesp', 'SoutCantExist',\n",
    "       'SoutCantCedis', 'SoutCantTrans', 'SoutCantStaple', 'SoutCantInv',\n",
    "       'SoutMontoDesp', 'SoutMontoExist', 'SoutMontoCedis', 'SoutMontoTrans',\n",
    "       'SoutMontoStaple', 'SoutMontoInv', 'SoutMontoCteDesp'], aggfunc='sum').reset_index().copy()\n",
    "\n",
    "TARGET = TARGET[['ProPstID','SucID','SoutCantDesp','SoutCantExist','SoutCantCedis','SoutCantTrans','SoutCantStaple','SoutCantInv','SoutMontoDesp','SoutMontoExist','SoutMontoCedis','SoutMontoTrans','SoutMontoStaple','SoutMontoInv','TmpID','SoutMontoCteDesp']]"
   ]
  },
  {
   "cell_type": "code",
   "execution_count": 9,
   "metadata": {},
   "outputs": [
    {
     "data": {
      "text/html": [
       "<div>\n",
       "<style scoped>\n",
       "    .dataframe tbody tr th:only-of-type {\n",
       "        vertical-align: middle;\n",
       "    }\n",
       "\n",
       "    .dataframe tbody tr th {\n",
       "        vertical-align: top;\n",
       "    }\n",
       "\n",
       "    .dataframe thead th {\n",
       "        text-align: right;\n",
       "    }\n",
       "</style>\n",
       "<table border=\"1\" class=\"dataframe\">\n",
       "  <thead>\n",
       "    <tr style=\"text-align: right;\">\n",
       "      <th></th>\n",
       "      <th>ProIDClie</th>\n",
       "      <th>SucCodCliente</th>\n",
       "      <th>LOCATION</th>\n",
       "      <th>REG SALES U</th>\n",
       "      <th>SucID</th>\n",
       "      <th>CadID</th>\n",
       "      <th>ProPstID</th>\n",
       "      <th>key</th>\n",
       "      <th>Precio Base</th>\n",
       "    </tr>\n",
       "  </thead>\n",
       "  <tbody>\n",
       "  </tbody>\n",
       "</table>\n",
       "</div>"
      ],
      "text/plain": [
       "Empty DataFrame\n",
       "Columns: [ProIDClie, SucCodCliente, LOCATION, REG SALES U, SucID, CadID, ProPstID, key, Precio Base]\n",
       "Index: []"
      ]
     },
     "execution_count": 9,
     "metadata": {},
     "output_type": "execute_result"
    }
   ],
   "source": [
    "df_target[df_target['SucID'].isnull()]"
   ]
  },
  {
   "cell_type": "code",
   "execution_count": 11,
   "metadata": {},
   "outputs": [],
   "source": [
    "TARGET.to_csv('target_w10.csv', index=False, encoding='latin1')"
   ]
  },
  {
   "cell_type": "markdown",
   "metadata": {},
   "source": [
    "## MIDWAY"
   ]
  },
  {
   "cell_type": "code",
   "execution_count": 121,
   "metadata": {
    "scrolled": true
   },
   "outputs": [
    {
     "name": "stderr",
     "output_type": "stream",
     "text": [
      "<ipython-input-5-121899746c0c>:6: SettingWithCopyWarning: \n",
      "A value is trying to be set on a copy of a slice from a DataFrame\n",
      "\n",
      "See the caveats in the documentation: https://pandas.pydata.org/pandas-docs/stable/user_guide/indexing.html#returning-a-view-versus-a-copy\n",
      "  products.drop_duplicates(inplace=True)\n",
      "C:\\Users\\jvelazquezh\\Anaconda3\\lib\\site-packages\\pandas\\core\\indexing.py:966: SettingWithCopyWarning: \n",
      "A value is trying to be set on a copy of a slice from a DataFrame.\n",
      "Try using .loc[row_indexer,col_indexer] = value instead\n",
      "\n",
      "See the caveats in the documentation: https://pandas.pydata.org/pandas-docs/stable/user_guide/indexing.html#returning-a-view-versus-a-copy\n",
      "  self.obj[item] = s\n",
      "<ipython-input-5-121899746c0c>:11: SettingWithCopyWarning: \n",
      "A value is trying to be set on a copy of a slice from a DataFrame\n",
      "\n",
      "See the caveats in the documentation: https://pandas.pydata.org/pandas-docs/stable/user_guide/indexing.html#returning-a-view-versus-a-copy\n",
      "  products.drop_duplicates(inplace=True)\n"
     ]
    }
   ],
   "source": [
    "#DATA\n",
    "file = '2021_02_Midway'\n",
    "df_midway = pd.read_excel('Datos/'+ file +'.xls',usecols='I,K,M,Q,S',header=1)\n",
    "df_midway.dropna(how='all',inplace=True)\n",
    "df_midway.reset_index(drop=True,inplace=True)\n",
    "df_midway['ItemID'] = df_midway['ItemID'].apply(lambda x: x.replace('-',''))\n",
    "week = int(file.split('_')[1])\n",
    "year = int(file.split('_')[0])\n",
    "\n",
    "#ITEMS\n",
    "df_items = pd.read_sql(query_items,conn2)\n",
    "df_items = df_items[df_items.CadID.isin(groups[120])]\n",
    "df_items = unique_prods(df_items)\n",
    "\n",
    "#STORES\n",
    "df_stores = pd.read_sql(query_sucs,conn2)\n",
    "df_stores = df_stores[df_stores.CadID.isin(groups[120])]\n",
    "df_stores.drop_duplicates('SucCodCliente',inplace=True)\n",
    "df_stores.reset_index(drop=True,inplace=True)\n",
    "\n",
    "#PRICES\n",
    "df_precios = pd.read_sql(query_prices,conn2)\n",
    "df_precios = df_precios[df_precios.CadID.isin(groups[120])]\n",
    "df_precios.reset_index(drop=True,inplace=True)\n",
    "df_precios['key'] = df_precios['CadID'].astype(str) + '-' + df_precios['ProPstID'].astype(str)\n",
    "\n",
    "#JOINS\n",
    "# df_target.rename({'LOCATION NUMBER':'SucCodCliente'},axis=1,inplace=True)\n",
    "# df_target.rename({'DPCI':'ProIDClie'},axis=1,inplace=True)\n",
    "# df_target['SucCodCliente'] = df_target['SucCodCliente'].astype(str)\n",
    "# df_target['ProIDClie'] = df_target['ProIDClie'].astype(str)\n",
    "\n",
    "# df_target = pd.merge(df_target,df_stores[['SucCodCliente','SucID','CadID']],on='SucCodCliente',how='left')\n",
    "# df_target = pd.merge(df_target,df_items[['ProIDClie','ProPstID']],on='ProIDClie',how='left')\n",
    "# df_target['key'] = df_target['CadID'].astype(str) + '-' + df_target['ProPstID'].astype(str)\n",
    "# df_target = pd.merge(df_target,df_precios[['Precio Base','key']],on='key',how='left')\n",
    "\n",
    "\n"
   ]
  },
  {
   "cell_type": "markdown",
   "metadata": {},
   "source": [
    "## Walmart"
   ]
  },
  {
   "cell_type": "code",
   "execution_count": 8,
   "metadata": {
    "scrolled": true
   },
   "outputs": [],
   "source": [
    "#3 Dolares de diferencia en soutmontotrans\n",
    "week = 10\n",
    "year = 2021\n",
    "\n",
    "#DATA\n",
    "BTY =  pd.read_excel('Datos/Walmart/W 10 2021/Beauty 03.08.2021.xlsx',header = 20)\n",
    "OTC1 = pd.read_excel('Datos/Walmart/W 10 2021/OTC 1 03.08.2021.xlsx',header = 20)\n",
    "OTC2 = pd.read_excel('Datos/Walmart/W 10 2021/OTC 2 03.08.2021.xlsx',header = 20)\n",
    "PR = pd.read_excel('Datos/Walmart/W 10 2021/Copy of Genomma Labs Week 202105.xlsx',header=18)\n",
    "df_walmart = pd.concat([BTY,OTC1,OTC2,PR])\n",
    "df_walmart.reset_index(drop=True,inplace=True)\n",
    "df_walmart.loc[df_walmart['UPC'] == 65024001848, 'UPC'] = 65006700046\n",
    "df_walmart.loc[df_walmart['UPC'] == 65024001847, 'UPC'] = 65006600048\n",
    "\n",
    "#ITEMS\n",
    "df_items = pd.read_sql(query_items,conn2)\n",
    "df_items = df_items[df_items.CadID.isin(groups[302])]\n",
    "df_items = unique_prods(df_items)\n",
    "\n",
    "#STORES\n",
    "df_stores = pd.read_sql(query_sucs,conn2)\n",
    "df_stores = df_stores[df_stores.CadID.isin(groups[302])]\n",
    "df_stores_all = df_stores.copy()\n",
    "df_stores.drop_duplicates('SucCodCliente',inplace=True)\n",
    "df_stores.reset_index(drop=True,inplace=True)\n",
    "\n",
    "#PRICES\n",
    "df_precios = pd.read_sql(query_prices,conn2)\n",
    "df_precios = df_precios[df_precios.CadID.isin(groups[302])]\n",
    "df_precios.reset_index(drop=True,inplace=True)\n",
    "df_precios['key'] = df_precios['CadID'].astype(str) + '-' + df_precios['ProPstID'].astype(str)\n",
    "\n",
    "#JOINS\n",
    "df_walmart.rename({'Store Nbr':'SucCodCliente'},axis=1,inplace=True)\n",
    "df_walmart.rename({'UPC':'ProIDClie'},axis=1,inplace=True)\n",
    "df_walmart['SucCodCliente'] = df_walmart['SucCodCliente'].astype(str)\n",
    "df_walmart['ProIDClie'] = df_walmart['ProIDClie'].astype(str)\n",
    "\n",
    "df_walmart = pd.merge(df_walmart,df_stores[['SucCodCliente','SucID','CadID']],on='SucCodCliente',how='left')\n",
    "df_walmart = pd.merge(df_walmart,df_items[['ProIDClie','ProPstID']],on='ProIDClie',how='left')\n",
    "#df_walmart['key'] = df_walmart['CadID'].astype(str) + '-' + df_walmart['ProPstID'].astype(str)\n",
    "df_walmart = pd.merge(df_walmart,df_precios[['Precio Base','ProPstID']],on='ProPstID',how='left') #Quite la llave de cadena para walmart\n",
    "\n",
    "df_final = df_walmart[['ProPstID','SucID']].copy()\n",
    "\n",
    "df_final['SoutCantDesp'] = df_walmart['POS Qty']\n",
    "df_final['SoutCantExist'] = df_walmart['Curr Str On Hand Qty']\n",
    "df_final['SoutCantCedis'] = 0\n",
    "df_final['SoutCantTrans'] = df_walmart['Curr Str In Transit Qty']\n",
    "df_final['SoutCantStaple'] = 0\n",
    "df_final['SoutCantInv'] = df_final['SoutCantExist'] + df_walmart['Curr Str In Transit Qty']\n",
    "df_final['SoutMontoDesp'] = df_walmart['POS Qty'] * df_walmart['Precio Base']\n",
    "df_final['SoutMontoExist'] = df_walmart['Curr Str On Hand Qty'] * df_walmart['Precio Base']\n",
    "df_final['SoutMontoCedis'] = 0\n",
    "df_final['SoutMontoTrans'] = df_walmart['Curr Str In Transit Qty'] * df_walmart['Precio Base']\n",
    "df_final['SoutMontoStaple'] = 0\n",
    "df_final['SoutMontoInv'] = df_final['SoutMontoExist'] + df_final['SoutMontoTrans']\n",
    "df_final['TmpID'] = df_tmpid.loc[(df_tmpid['TmpSemanaAnioGenomma'] == week) & (df_tmpid['TmpAnioSemanaGenomma'] == year)]['TmpID'].unique()[0]\n",
    "df_final['SoutMontoCteDesp'] = df_walmart['POS Sales']\n",
    "\n",
    "WALMART = pd.pivot_table(df_final, index=['ProPstID', 'SucID', 'TmpID'], values=['SoutCantDesp', 'SoutCantExist',\n",
    "       'SoutCantCedis', 'SoutCantTrans', 'SoutCantStaple', 'SoutCantInv',\n",
    "       'SoutMontoDesp', 'SoutMontoExist', 'SoutMontoCedis', 'SoutMontoTrans',\n",
    "       'SoutMontoStaple', 'SoutMontoInv', 'SoutMontoCteDesp'], aggfunc='sum').reset_index().copy()\n",
    "\n",
    "WALMART = WALMART[['ProPstID','SucID','SoutCantDesp','SoutCantExist','SoutCantCedis','SoutCantTrans','SoutCantStaple','SoutCantInv','SoutMontoDesp','SoutMontoExist','SoutMontoCedis','SoutMontoTrans','SoutMontoStaple','SoutMontoInv','TmpID','SoutMontoCteDesp']]"
   ]
  },
  {
   "cell_type": "code",
   "execution_count": 9,
   "metadata": {
    "scrolled": true
   },
   "outputs": [
    {
     "data": {
      "text/html": [
       "<div>\n",
       "<style scoped>\n",
       "    .dataframe tbody tr th:only-of-type {\n",
       "        vertical-align: middle;\n",
       "    }\n",
       "\n",
       "    .dataframe tbody tr th {\n",
       "        vertical-align: top;\n",
       "    }\n",
       "\n",
       "    .dataframe thead th {\n",
       "        text-align: right;\n",
       "    }\n",
       "</style>\n",
       "<table border=\"1\" class=\"dataframe\">\n",
       "  <thead>\n",
       "    <tr style=\"text-align: right;\">\n",
       "      <th></th>\n",
       "      <th>SucCodCliente</th>\n",
       "      <th>Street Address</th>\n",
       "      <th>City</th>\n",
       "      <th>State</th>\n",
       "      <th>Zip Code</th>\n",
       "    </tr>\n",
       "  </thead>\n",
       "  <tbody>\n",
       "  </tbody>\n",
       "</table>\n",
       "</div>"
      ],
      "text/plain": [
       "Empty DataFrame\n",
       "Columns: [SucCodCliente, Street Address, City, State, Zip Code]\n",
       "Index: []"
      ]
     },
     "execution_count": 9,
     "metadata": {},
     "output_type": "execute_result"
    }
   ],
   "source": [
    "df_walmart[df_walmart['SucID'].isnull()][['SucCodCliente','Street Address','City','State','Zip Code']]"
   ]
  },
  {
   "cell_type": "code",
   "execution_count": 10,
   "metadata": {},
   "outputs": [
    {
     "data": {
      "text/html": [
       "<div>\n",
       "<style scoped>\n",
       "    .dataframe tbody tr th:only-of-type {\n",
       "        vertical-align: middle;\n",
       "    }\n",
       "\n",
       "    .dataframe tbody tr th {\n",
       "        vertical-align: top;\n",
       "    }\n",
       "\n",
       "    .dataframe thead th {\n",
       "        text-align: right;\n",
       "    }\n",
       "</style>\n",
       "<table border=\"1\" class=\"dataframe\">\n",
       "  <thead>\n",
       "    <tr style=\"text-align: right;\">\n",
       "      <th></th>\n",
       "      <th>ProIDClie</th>\n",
       "      <th>Item Desc 1</th>\n",
       "    </tr>\n",
       "  </thead>\n",
       "  <tbody>\n",
       "  </tbody>\n",
       "</table>\n",
       "</div>"
      ],
      "text/plain": [
       "Empty DataFrame\n",
       "Columns: [ProIDClie, Item Desc 1]\n",
       "Index: []"
      ]
     },
     "execution_count": 10,
     "metadata": {},
     "output_type": "execute_result"
    }
   ],
   "source": [
    "df_walmart[df_walmart['ProPstID'].isnull()][['ProIDClie','Item Desc 1']].drop_duplicates()"
   ]
  },
  {
   "cell_type": "code",
   "execution_count": 11,
   "metadata": {},
   "outputs": [],
   "source": [
    "WALMART.to_csv('walmart_w10.csv', index=False, encoding='latin1')"
   ]
  },
  {
   "cell_type": "markdown",
   "metadata": {},
   "source": [
    "## WALGREENS"
   ]
  },
  {
   "cell_type": "code",
   "execution_count": 18,
   "metadata": {
    "scrolled": true
   },
   "outputs": [],
   "source": [
    "#Aqui no se hace la relacion por el key, falta homologar el codigo a como los anteriores\n",
    "#FILES\n",
    "file = '2021_10_Walgreens_SO'\n",
    "df_walgreens = pd.read_excel('Datos/'+ file +'.xlsx')\n",
    "df_walgreens.rename({'STORE':'SucCodCliente'},axis=1,inplace=True)\n",
    "df_walgreens.rename({'UPC':'ProIDClie'},axis=1,inplace=True)\n",
    "df_walgreens['SucCodCliente'] = df_walgreens['SucCodCliente'].astype(str)\n",
    "df_walgreens['ProIDClie'] = df_walgreens['ProIDClie'].astype(str)\n",
    "week = int(file.split('_')[1])\n",
    "year = int(file.split('_')[0])\n",
    "\n",
    "#ITEMS\n",
    "df_items = pd.read_sql(query_items,conn2)\n",
    "df_items = df_items[df_items.CadID.isin(groups[146])]\n",
    "df_items = unique_prods(df_items)\n",
    "\n",
    "#STORES\n",
    "df_stores = pd.read_sql(query_sucs,conn2)\n",
    "df_stores = df_stores[df_stores.CadID.isin(groups[146])]\n",
    "df_stores_all = df_stores.copy()\n",
    "df_stores.drop_duplicates('SucCodCliente',inplace=True)\n",
    "df_stores.reset_index(drop=True,inplace=True)\n",
    "\n",
    "#PRICES\n",
    "df_precios = pd.read_sql(query_prices,conn2)\n",
    "df_precios = df_precios[df_precios.CadID.isin(groups[146])]\n",
    "df_precios.reset_index(drop=True,inplace=True)\n",
    "df_precios['key'] = df_precios['CadID'].astype(str) + '-' + df_precios['ProPstID'].astype(str)\n",
    "\n",
    "df_walgreens = pd.merge(df_walgreens,df_stores[['SucCodCliente','SucID','CadID']],on='SucCodCliente',how='left')\n",
    "df_walgreens = pd.merge(df_walgreens,df_items[['ProIDClie','ProPstID']],on='ProIDClie',how='left')\n",
    "df_walgreens = pd.merge(df_walgreens,df_precios[['ProPstID','Precio Base']],on='ProPstID',how='left')\n",
    "\n",
    "df_final = df_walgreens[['ProPstID','SucID']].copy()\n",
    "\n",
    "df_final['SoutCantDesp'] = df_walgreens['Total Sales Volume Units']\n",
    "df_final['SoutCantExist'] = df_walgreens['Store On Hand Volume Units']\n",
    "df_final['SoutCantCedis'] = 0\n",
    "df_final['SoutCantTrans'] = 0\n",
    "df_final['SoutCantStaple'] = 0\n",
    "df_final['SoutCantInv'] = df_final['SoutCantExist']\n",
    "df_final['SoutMontoDesp'] = df_walgreens['Total Sales Volume Units'] * df_walgreens['Precio Base']\n",
    "df_final['SoutMontoExist'] = df_walgreens['Store On Hand Volume Units'] * df_walgreens['Precio Base']\n",
    "df_final['SoutMontoCedis'] = 0\n",
    "df_final['SoutMontoTrans'] = 0\n",
    "df_final['SoutMontoStaple'] = 0\n",
    "df_final['SoutMontoInv'] = df_walgreens['Store On Hand Volume Units'] * df_walgreens['Precio Base']\n",
    "df_final['TmpID'] = df_tmpid.loc[(df_tmpid['TmpSemanaAnioGenomma'] == week) & (df_tmpid['TmpAnioSemanaGenomma'] == year)]['TmpID'].unique()[0]\n",
    "df_final['SoutMontoCteDesp'] = df_walgreens['Total Sales Amount']\n",
    "\n",
    "WALGREENS = pd.pivot_table(df_final, index=['ProPstID', 'SucID', 'TmpID'], values=['SoutCantDesp', 'SoutCantExist',\n",
    "       'SoutCantCedis', 'SoutCantTrans', 'SoutCantStaple', 'SoutCantInv',\n",
    "       'SoutMontoDesp', 'SoutMontoExist', 'SoutMontoCedis', 'SoutMontoTrans',\n",
    "       'SoutMontoStaple', 'SoutMontoInv', 'SoutMontoCteDesp'], aggfunc='sum').reset_index().copy()\n",
    "\n",
    "WALGREENS = WALGREENS[['ProPstID','SucID','SoutCantDesp','SoutCantExist','SoutCantCedis','SoutCantTrans','SoutCantStaple','SoutCantInv','SoutMontoDesp','SoutMontoExist','SoutMontoCedis','SoutMontoTrans','SoutMontoStaple','SoutMontoInv','TmpID','SoutMontoCteDesp']]"
   ]
  },
  {
   "cell_type": "code",
   "execution_count": 19,
   "metadata": {
    "scrolled": true
   },
   "outputs": [
    {
     "data": {
      "text/html": [
       "<div>\n",
       "<style scoped>\n",
       "    .dataframe tbody tr th:only-of-type {\n",
       "        vertical-align: middle;\n",
       "    }\n",
       "\n",
       "    .dataframe tbody tr th {\n",
       "        vertical-align: top;\n",
       "    }\n",
       "\n",
       "    .dataframe thead th {\n",
       "        text-align: right;\n",
       "    }\n",
       "</style>\n",
       "<table border=\"1\" class=\"dataframe\">\n",
       "  <thead>\n",
       "    <tr style=\"text-align: right;\">\n",
       "      <th></th>\n",
       "      <th>SucCodCliente</th>\n",
       "      <th>ADDRESS1</th>\n",
       "      <th>CITY</th>\n",
       "      <th>STATE</th>\n",
       "      <th>ZIP</th>\n",
       "    </tr>\n",
       "  </thead>\n",
       "  <tbody>\n",
       "  </tbody>\n",
       "</table>\n",
       "</div>"
      ],
      "text/plain": [
       "Empty DataFrame\n",
       "Columns: [SucCodCliente, ADDRESS1, CITY, STATE, ZIP]\n",
       "Index: []"
      ]
     },
     "execution_count": 19,
     "metadata": {},
     "output_type": "execute_result"
    }
   ],
   "source": [
    "df_walgreens[df_walgreens['SucID'].isnull()][['SucCodCliente','ADDRESS1','CITY','STATE','ZIP']].drop_duplicates('SucCodCliente')"
   ]
  },
  {
   "cell_type": "code",
   "execution_count": 20,
   "metadata": {},
   "outputs": [
    {
     "data": {
      "text/plain": [
       "ProIDClie                     0\n",
       "ITEM DESCRIPTION              0\n",
       "ADDRESS1                      0\n",
       "CITY                          0\n",
       "STATE                         0\n",
       "ZIP                           0\n",
       "SucCodCliente                 0\n",
       "Total Sales Amount            0\n",
       "Total Sales Volume Units      0\n",
       "Store On Hand Volume Units    0\n",
       "SucID                         0\n",
       "CadID                         0\n",
       "ProPstID                      0\n",
       "Precio Base                   0\n",
       "dtype: int64"
      ]
     },
     "execution_count": 20,
     "metadata": {},
     "output_type": "execute_result"
    }
   ],
   "source": [
    "df_walgreens.isnull().sum()"
   ]
  },
  {
   "cell_type": "code",
   "execution_count": 21,
   "metadata": {},
   "outputs": [],
   "source": [
    "WALGREENS.to_csv('walgreens_w10.csv', index=False, encoding='latin1')"
   ]
  },
  {
   "cell_type": "markdown",
   "metadata": {},
   "source": [
    "## WALMART ECOMMERCE"
   ]
  },
  {
   "cell_type": "code",
   "execution_count": 12,
   "metadata": {},
   "outputs": [],
   "source": [
    "#FILES\n",
    "df_walmarte = pd.read_excel('Datos/Walmart/W 10 2021/2021_10_WalmarteCommerce.xlsx',header = 11)\n",
    "df_walmarte.loc[df_walmarte['UPC'] == 65024001848, 'UPC'] = 65006700046\n",
    "df_walmarte.loc[df_walmarte['UPC'] == 65024001847, 'UPC'] = 65006600048\n",
    "df_walmarte['UPC'] = '00' + df_walmarte['UPC'].astype(str) #Los codigos para eCommerce son 00 + upc\n",
    "week = int(file.split('_')[1])\n",
    "year = int(file.split('_')[0])\n",
    "\n",
    "#ITEMS\n",
    "df_items = pd.read_sql(query_items,conn2)\n",
    "df_items = df_items[df_items.CadID.isin(groups[730])]\n",
    "df_items = unique_prods(df_items)\n",
    "\n",
    "#STORES\n",
    "# df_stores = pd.read_sql(query_sucs,conn2)\n",
    "# df_stores = df_stores[df_stores.CadID.isin(groups[730])]\n",
    "# df_stores.drop_duplicates('SucCodCliente',inplace=True)\n",
    "# df_stores.reset_index(drop=True,inplace=True)\n",
    "\n",
    "#PRICES\n",
    "df_precios = pd.read_sql(query_prices,conn2)\n",
    "df_precios = df_precios[df_precios.CadID.isin(groups[730])]\n",
    "df_precios.reset_index(drop=True,inplace=True)\n",
    "df_precios['key'] = df_precios['CadID'].astype(str) + '-' + df_precios['ProPstID'].astype(str)\n",
    "\n",
    "#JOINS\n",
    "df_walmarte.rename({'UPC':'ProIDClie'},axis=1,inplace=True)\n",
    "df_walmarte['ProIDClie'] = df_walmarte['ProIDClie'].astype(str)\n",
    "\n",
    "df_walmarte['SucID'] = 139013\n",
    "df_walmarte['CadID'] = 764\n",
    "df_walmarte = pd.merge(df_walmarte,df_items[['ProIDClie','ProPstID']],on='ProIDClie',how='left')\n",
    "df_walmarte['key'] = df_walmarte['CadID'].astype(str) + '-' + df_walmarte['ProPstID'].astype(str)\n",
    "df_walmarte = pd.merge(df_walmarte,df_precios[['Precio Base','key']],on='key',how='left')\n",
    "\n",
    "df_final = df_walmarte[['ProPstID','SucID']].copy()\n",
    "\n",
    "df_final['SoutCantDesp'] = df_walmarte['Total Net Unit Sales']\n",
    "df_final['SoutCantExist'] = 0\n",
    "df_final['SoutCantCedis'] = 0\n",
    "df_final['SoutCantTrans'] = 0\n",
    "df_final['SoutCantStaple'] = 0\n",
    "df_final['SoutCantInv'] = 0\n",
    "df_final['SoutMontoDesp'] = df_walmarte['Total Net Unit Sales'] * df_walmarte['Precio Base']\n",
    "df_final['SoutMontoExist'] = 0\n",
    "df_final['SoutMontoCedis'] = 0\n",
    "df_final['SoutMontoTrans'] = 0\n",
    "df_final['SoutMontoStaple'] = 0\n",
    "df_final['SoutMontoInv'] = 0\n",
    "df_final['TmpID'] = df_tmpid.loc[(df_tmpid['TmpSemanaAnioGenomma'] == week) & (df_tmpid['TmpAnioSemanaGenomma'] == year)]['TmpID'].unique()[0]\n",
    "df_final['SoutMontoCteDesp'] = df_walmarte['Total Net Retail Sales']\n",
    "\n",
    "df_final.loc[df_final['SoutCantDesp']<0,'SoutMontoCteDesp'] = 0\n",
    "\n",
    "WALMARTECOMMERCE = pd.pivot_table(df_final, index=['ProPstID', 'SucID', 'TmpID'], values=['SoutCantDesp', 'SoutCantExist',\n",
    "       'SoutCantCedis', 'SoutCantTrans', 'SoutCantStaple', 'SoutCantInv',\n",
    "       'SoutMontoDesp', 'SoutMontoExist', 'SoutMontoCedis', 'SoutMontoTrans',\n",
    "       'SoutMontoStaple', 'SoutMontoInv', 'SoutMontoCteDesp'], aggfunc='sum').reset_index().copy()\n",
    "\n",
    "WALMARTECOMMERCE = WALMARTECOMMERCE[['ProPstID','SucID','SoutCantDesp','SoutCantExist','SoutCantCedis','SoutCantTrans','SoutCantStaple','SoutCantInv','SoutMontoDesp','SoutMontoExist','SoutMontoCedis','SoutMontoTrans','SoutMontoStaple','SoutMontoInv','TmpID','SoutMontoCteDesp']]"
   ]
  },
  {
   "cell_type": "code",
   "execution_count": 13,
   "metadata": {},
   "outputs": [
    {
     "data": {
      "text/html": [
       "<div>\n",
       "<style scoped>\n",
       "    .dataframe tbody tr th:only-of-type {\n",
       "        vertical-align: middle;\n",
       "    }\n",
       "\n",
       "    .dataframe tbody tr th {\n",
       "        vertical-align: top;\n",
       "    }\n",
       "\n",
       "    .dataframe thead th {\n",
       "        text-align: right;\n",
       "    }\n",
       "</style>\n",
       "<table border=\"1\" class=\"dataframe\">\n",
       "  <thead>\n",
       "    <tr style=\"text-align: right;\">\n",
       "      <th></th>\n",
       "      <th>ProIDClie</th>\n",
       "      <th>Item Name</th>\n",
       "    </tr>\n",
       "  </thead>\n",
       "  <tbody>\n",
       "  </tbody>\n",
       "</table>\n",
       "</div>"
      ],
      "text/plain": [
       "Empty DataFrame\n",
       "Columns: [ProIDClie, Item Name]\n",
       "Index: []"
      ]
     },
     "execution_count": 13,
     "metadata": {},
     "output_type": "execute_result"
    }
   ],
   "source": [
    "df_walmarte[df_walmarte['ProPstID'].isnull()][['ProIDClie','Item Name']].drop_duplicates()"
   ]
  },
  {
   "cell_type": "code",
   "execution_count": 14,
   "metadata": {},
   "outputs": [
    {
     "data": {
      "text/plain": [
       "184"
      ]
     },
     "execution_count": 14,
     "metadata": {},
     "output_type": "execute_result"
    }
   ],
   "source": [
    "WALMARTECOMMERCE['SoutCantDesp'].sum()"
   ]
  },
  {
   "cell_type": "code",
   "execution_count": 15,
   "metadata": {},
   "outputs": [],
   "source": [
    "WALMARTECOMMERCE.to_csv('walmartecommerce_w10.csv', index=False, encoding='latin1')"
   ]
  },
  {
   "cell_type": "markdown",
   "metadata": {},
   "source": [
    "## AMAZON"
   ]
  },
  {
   "cell_type": "code",
   "execution_count": 52,
   "metadata": {},
   "outputs": [
    {
     "ename": "DatabaseError",
     "evalue": "Execution failed on sql: \n        SELECT \n        \n        q.ProIDClie \n        ,p.CadID \n        ,p.ProPstID\n        \n        FROM dbo.OpHomologacionProdXCad as p, dbo.OpProductosHomologados as q\n        where p.HpcID = q.HpcID \n\n('08S01', '[08S01] [Microsoft][ODBC SQL Server Driver]Error en el vínculo de comunicación (0) (SQLExecDirectW)')\nunable to rollback",
     "output_type": "error",
     "traceback": [
      "\u001b[1;31m---------------------------------------------------------------------------\u001b[0m",
      "\u001b[1;31mOperationalError\u001b[0m                          Traceback (most recent call last)",
      "\u001b[1;32m~\\Anaconda3\\lib\\site-packages\\pandas\\io\\sql.py\u001b[0m in \u001b[0;36mexecute\u001b[1;34m(self, *args, **kwargs)\u001b[0m\n\u001b[0;32m   1585\u001b[0m         \u001b[1;32mtry\u001b[0m\u001b[1;33m:\u001b[0m\u001b[1;33m\u001b[0m\u001b[1;33m\u001b[0m\u001b[0m\n\u001b[1;32m-> 1586\u001b[1;33m             \u001b[0mcur\u001b[0m\u001b[1;33m.\u001b[0m\u001b[0mexecute\u001b[0m\u001b[1;33m(\u001b[0m\u001b[1;33m*\u001b[0m\u001b[0margs\u001b[0m\u001b[1;33m,\u001b[0m \u001b[1;33m**\u001b[0m\u001b[0mkwargs\u001b[0m\u001b[1;33m)\u001b[0m\u001b[1;33m\u001b[0m\u001b[1;33m\u001b[0m\u001b[0m\n\u001b[0m\u001b[0;32m   1587\u001b[0m             \u001b[1;32mreturn\u001b[0m \u001b[0mcur\u001b[0m\u001b[1;33m\u001b[0m\u001b[1;33m\u001b[0m\u001b[0m\n",
      "\u001b[1;31mOperationalError\u001b[0m: ('08S01', '[08S01] [Microsoft][ODBC SQL Server Driver]Error en el vínculo de comunicación (0) (SQLExecDirectW)')",
      "\nDuring handling of the above exception, another exception occurred:\n",
      "\u001b[1;31mOperationalError\u001b[0m                          Traceback (most recent call last)",
      "\u001b[1;32m~\\Anaconda3\\lib\\site-packages\\pandas\\io\\sql.py\u001b[0m in \u001b[0;36mexecute\u001b[1;34m(self, *args, **kwargs)\u001b[0m\n\u001b[0;32m   1589\u001b[0m             \u001b[1;32mtry\u001b[0m\u001b[1;33m:\u001b[0m\u001b[1;33m\u001b[0m\u001b[1;33m\u001b[0m\u001b[0m\n\u001b[1;32m-> 1590\u001b[1;33m                 \u001b[0mself\u001b[0m\u001b[1;33m.\u001b[0m\u001b[0mcon\u001b[0m\u001b[1;33m.\u001b[0m\u001b[0mrollback\u001b[0m\u001b[1;33m(\u001b[0m\u001b[1;33m)\u001b[0m\u001b[1;33m\u001b[0m\u001b[1;33m\u001b[0m\u001b[0m\n\u001b[0m\u001b[0;32m   1591\u001b[0m             \u001b[1;32mexcept\u001b[0m \u001b[0mException\u001b[0m \u001b[1;32mas\u001b[0m \u001b[0minner_exc\u001b[0m\u001b[1;33m:\u001b[0m  \u001b[1;31m# pragma: no cover\u001b[0m\u001b[1;33m\u001b[0m\u001b[1;33m\u001b[0m\u001b[0m\n",
      "\u001b[1;31mOperationalError\u001b[0m: ('08S01', '[08S01] [Microsoft][ODBC SQL Server Driver]Error en el vínculo de comunicación (0) (SQLEndTran)')",
      "\nThe above exception was the direct cause of the following exception:\n",
      "\u001b[1;31mDatabaseError\u001b[0m                             Traceback (most recent call last)",
      "\u001b[1;32m<ipython-input-52-8e1a66953436>\u001b[0m in \u001b[0;36m<module>\u001b[1;34m\u001b[0m\n\u001b[0;32m     10\u001b[0m \u001b[1;33m\u001b[0m\u001b[0m\n\u001b[0;32m     11\u001b[0m \u001b[1;31m#ITEMS\u001b[0m\u001b[1;33m\u001b[0m\u001b[1;33m\u001b[0m\u001b[1;33m\u001b[0m\u001b[0m\n\u001b[1;32m---> 12\u001b[1;33m \u001b[0mdf_items\u001b[0m \u001b[1;33m=\u001b[0m \u001b[0mpd\u001b[0m\u001b[1;33m.\u001b[0m\u001b[0mread_sql\u001b[0m\u001b[1;33m(\u001b[0m\u001b[0mquery_items\u001b[0m\u001b[1;33m,\u001b[0m\u001b[0mconn2\u001b[0m\u001b[1;33m)\u001b[0m\u001b[1;33m\u001b[0m\u001b[1;33m\u001b[0m\u001b[0m\n\u001b[0m\u001b[0;32m     13\u001b[0m \u001b[0mdf_items\u001b[0m \u001b[1;33m=\u001b[0m \u001b[0mdf_items\u001b[0m\u001b[1;33m[\u001b[0m\u001b[0mdf_items\u001b[0m\u001b[1;33m.\u001b[0m\u001b[0mCadID\u001b[0m\u001b[1;33m.\u001b[0m\u001b[0misin\u001b[0m\u001b[1;33m(\u001b[0m\u001b[0mgroups\u001b[0m\u001b[1;33m[\u001b[0m\u001b[1;36m527\u001b[0m\u001b[1;33m]\u001b[0m\u001b[1;33m)\u001b[0m\u001b[1;33m]\u001b[0m\u001b[1;33m\u001b[0m\u001b[1;33m\u001b[0m\u001b[0m\n\u001b[0;32m     14\u001b[0m \u001b[0mdf_items\u001b[0m \u001b[1;33m=\u001b[0m \u001b[0munique_prods\u001b[0m\u001b[1;33m(\u001b[0m\u001b[0mdf_items\u001b[0m\u001b[1;33m)\u001b[0m\u001b[1;33m\u001b[0m\u001b[1;33m\u001b[0m\u001b[0m\n",
      "\u001b[1;32m~\\Anaconda3\\lib\\site-packages\\pandas\\io\\sql.py\u001b[0m in \u001b[0;36mread_sql\u001b[1;34m(sql, con, index_col, coerce_float, params, parse_dates, columns, chunksize)\u001b[0m\n\u001b[0;32m    404\u001b[0m \u001b[1;33m\u001b[0m\u001b[0m\n\u001b[0;32m    405\u001b[0m     \u001b[1;32mif\u001b[0m \u001b[0misinstance\u001b[0m\u001b[1;33m(\u001b[0m\u001b[0mpandas_sql\u001b[0m\u001b[1;33m,\u001b[0m \u001b[0mSQLiteDatabase\u001b[0m\u001b[1;33m)\u001b[0m\u001b[1;33m:\u001b[0m\u001b[1;33m\u001b[0m\u001b[1;33m\u001b[0m\u001b[0m\n\u001b[1;32m--> 406\u001b[1;33m         return pandas_sql.read_query(\n\u001b[0m\u001b[0;32m    407\u001b[0m             \u001b[0msql\u001b[0m\u001b[1;33m,\u001b[0m\u001b[1;33m\u001b[0m\u001b[1;33m\u001b[0m\u001b[0m\n\u001b[0;32m    408\u001b[0m             \u001b[0mindex_col\u001b[0m\u001b[1;33m=\u001b[0m\u001b[0mindex_col\u001b[0m\u001b[1;33m,\u001b[0m\u001b[1;33m\u001b[0m\u001b[1;33m\u001b[0m\u001b[0m\n",
      "\u001b[1;32m~\\Anaconda3\\lib\\site-packages\\pandas\\io\\sql.py\u001b[0m in \u001b[0;36mread_query\u001b[1;34m(self, sql, index_col, coerce_float, params, parse_dates, chunksize)\u001b[0m\n\u001b[0;32m   1631\u001b[0m \u001b[1;33m\u001b[0m\u001b[0m\n\u001b[0;32m   1632\u001b[0m         \u001b[0margs\u001b[0m \u001b[1;33m=\u001b[0m \u001b[0m_convert_params\u001b[0m\u001b[1;33m(\u001b[0m\u001b[0msql\u001b[0m\u001b[1;33m,\u001b[0m \u001b[0mparams\u001b[0m\u001b[1;33m)\u001b[0m\u001b[1;33m\u001b[0m\u001b[1;33m\u001b[0m\u001b[0m\n\u001b[1;32m-> 1633\u001b[1;33m         \u001b[0mcursor\u001b[0m \u001b[1;33m=\u001b[0m \u001b[0mself\u001b[0m\u001b[1;33m.\u001b[0m\u001b[0mexecute\u001b[0m\u001b[1;33m(\u001b[0m\u001b[1;33m*\u001b[0m\u001b[0margs\u001b[0m\u001b[1;33m)\u001b[0m\u001b[1;33m\u001b[0m\u001b[1;33m\u001b[0m\u001b[0m\n\u001b[0m\u001b[0;32m   1634\u001b[0m         \u001b[0mcolumns\u001b[0m \u001b[1;33m=\u001b[0m \u001b[1;33m[\u001b[0m\u001b[0mcol_desc\u001b[0m\u001b[1;33m[\u001b[0m\u001b[1;36m0\u001b[0m\u001b[1;33m]\u001b[0m \u001b[1;32mfor\u001b[0m \u001b[0mcol_desc\u001b[0m \u001b[1;32min\u001b[0m \u001b[0mcursor\u001b[0m\u001b[1;33m.\u001b[0m\u001b[0mdescription\u001b[0m\u001b[1;33m]\u001b[0m\u001b[1;33m\u001b[0m\u001b[1;33m\u001b[0m\u001b[0m\n\u001b[0;32m   1635\u001b[0m \u001b[1;33m\u001b[0m\u001b[0m\n",
      "\u001b[1;32m~\\Anaconda3\\lib\\site-packages\\pandas\\io\\sql.py\u001b[0m in \u001b[0;36mexecute\u001b[1;34m(self, *args, **kwargs)\u001b[0m\n\u001b[0;32m   1593\u001b[0m                     \u001b[1;34mf\"Execution failed on sql: {args[0]}\\n{exc}\\nunable to rollback\"\u001b[0m\u001b[1;33m\u001b[0m\u001b[1;33m\u001b[0m\u001b[0m\n\u001b[0;32m   1594\u001b[0m                 )\n\u001b[1;32m-> 1595\u001b[1;33m                 \u001b[1;32mraise\u001b[0m \u001b[0mex\u001b[0m \u001b[1;32mfrom\u001b[0m \u001b[0minner_exc\u001b[0m\u001b[1;33m\u001b[0m\u001b[1;33m\u001b[0m\u001b[0m\n\u001b[0m\u001b[0;32m   1596\u001b[0m \u001b[1;33m\u001b[0m\u001b[0m\n\u001b[0;32m   1597\u001b[0m             \u001b[0mex\u001b[0m \u001b[1;33m=\u001b[0m \u001b[0mDatabaseError\u001b[0m\u001b[1;33m(\u001b[0m\u001b[1;34mf\"Execution failed on sql '{args[0]}': {exc}\"\u001b[0m\u001b[1;33m)\u001b[0m\u001b[1;33m\u001b[0m\u001b[1;33m\u001b[0m\u001b[0m\n",
      "\u001b[1;31mDatabaseError\u001b[0m: Execution failed on sql: \n        SELECT \n        \n        q.ProIDClie \n        ,p.CadID \n        ,p.ProPstID\n        \n        FROM dbo.OpHomologacionProdXCad as p, dbo.OpProductosHomologados as q\n        where p.HpcID = q.HpcID \n\n('08S01', '[08S01] [Microsoft][ODBC SQL Server Driver]Error en el vínculo de comunicación (0) (SQLExecDirectW)')\nunable to rollback"
     ]
    }
   ],
   "source": [
    "df_amazon_original = pd.read_excel('Datos/2021_08_Amazon.xlsx',header = 1)\n",
    "df_amazon_original = df_amazon_original.iloc[:-1,:]\n",
    "df_amazon = df_amazon_original[['Product Title','UPC','List Price to Calculate Units','Brand']]\n",
    "df_amazon['UPC'] = df_amazon['UPC'].astype('int64') \n",
    "df_amazon['Sales'] = df_amazon_original.iloc[:,-1:]\n",
    "df_amazon['Units'] = df_amazon['Sales']/df_amazon['List Price to Calculate Units']\n",
    "#df_amazon['Units'] = df_amazon['Units'].apply(lambda x: math.floor(x))\n",
    "week = int(file.split('_')[1])\n",
    "year = int(file.split('_')[0])\n",
    "\n",
    "#ITEMS\n",
    "df_items = pd.read_sql(query_items,conn2)\n",
    "df_items = df_items[df_items.CadID.isin(groups[527])]\n",
    "df_items = unique_prods(df_items)\n",
    "\n",
    "#STORES\n",
    "df_stores = pd.read_sql(query_sucs,conn2)\n",
    "df_stores = df_stores[df_stores.CadID.isin(groups[527])]\n",
    "df_stores.drop_duplicates('SucCodCliente',inplace=True)\n",
    "df_stores.reset_index(drop=True,inplace=True)\n",
    "\n",
    "#PRICES\n",
    "df_precios = pd.read_sql(query_prices,conn2)\n",
    "df_precios = df_precios[df_precios.CadID.isin(groups[527])]\n",
    "df_precios.reset_index(drop=True,inplace=True)\n",
    "df_precios['key'] = df_precios['CadID'].astype(str) + '-' + df_precios['ProPstID'].astype(str)\n",
    "\n",
    "#JOINS\n",
    "df_amazon.rename({'UPC':'ProIDClie'},axis=1,inplace=True)\n",
    "df_amazon['ProIDClie'] = df_amazon['ProIDClie'].astype(str)\n",
    "\n",
    "df_amazon['SucID'] = 137408\n",
    "df_amazon['CadID'] = 766\n",
    "df_amazon = pd.merge(df_amazon,df_items[['ProIDClie','ProPstID']],on='ProIDClie',how='left')\n",
    "df_amazon['key'] = df_amazon['CadID'].astype(str) + '-' + df_amazon['ProPstID'].astype(str)\n",
    "df_amazon = pd.merge(df_amazon,df_precios[['Precio Base','key']],on='key',how='left')\n",
    "df_amazon['SoutMontoDesp'] = df_amazon['Precio Base'] * df_amazon['Units']\n",
    "\n",
    "df_final = df_amazon[['SucID','ProPstID']].copy()\n",
    "\n",
    "df_final['SoutCantDesp'] = df_amazon['Units']\n",
    "df_final['SoutCantExist'] = 0\n",
    "df_final['SoutCantCedis'] = 0\n",
    "df_final['SoutCantTrans'] = 0\n",
    "df_final['SoutCantStaple'] = 0\n",
    "df_final['SoutCantInv'] = 0\n",
    "df_final['SoutMontoDesp'] = df_amazon['SoutMontoDesp']\n",
    "df_final['SoutMontoExist'] = 0\n",
    "df_final['SoutMontoCedis'] = 0\n",
    "df_final['SoutMontoTrans'] = 0\n",
    "df_final['SoutMontoStaple'] = 0\n",
    "df_final['SoutMontoInv'] = 0\n",
    "df_final['TmpID'] = df_tmpid.loc[(df_tmpid['TmpSemanaAnioGenomma'] == week) & (df_tmpid['TmpAnioSemanaGenomma'] == year)]['TmpID'].unique()[0]\n",
    "df_final['SoutMontoCteDesp'] = df_amazon['Sales']\n",
    "\n",
    "AMAZON = pd.pivot_table(df_final, index=['ProPstID', 'SucID', 'TmpID'], values=['SoutCantDesp', 'SoutCantExist',\n",
    "       'SoutCantCedis', 'SoutCantTrans', 'SoutCantStaple', 'SoutCantInv',\n",
    "       'SoutMontoDesp', 'SoutMontoExist', 'SoutMontoCedis', 'SoutMontoTrans',\n",
    "       'SoutMontoStaple', 'SoutMontoInv', 'SoutMontoCteDesp'], aggfunc='sum').reset_index().copy()\n",
    "\n",
    "AMAZON = AMAZON[['ProPstID','SucID','SoutCantDesp','SoutCantExist','SoutCantCedis','SoutCantTrans','SoutCantStaple','SoutCantInv','SoutMontoDesp','SoutMontoExist','SoutMontoCedis','SoutMontoTrans','SoutMontoStaple','SoutMontoInv','TmpID','SoutMontoCteDesp']]"
   ]
  },
  {
   "cell_type": "code",
   "execution_count": 42,
   "metadata": {},
   "outputs": [
    {
     "data": {
      "text/plain": [
       "7536"
      ]
     },
     "execution_count": 42,
     "metadata": {},
     "output_type": "execute_result"
    }
   ],
   "source": [
    "AMAZON['SoutCantDesp'].sum()"
   ]
  },
  {
   "cell_type": "code",
   "execution_count": 43,
   "metadata": {},
   "outputs": [],
   "source": [
    "df_amazon.to_csv('AMAZON.csv',encoding='latin1')"
   ]
  },
  {
   "cell_type": "code",
   "execution_count": 47,
   "metadata": {},
   "outputs": [
    {
     "data": {
      "text/plain": [
       "Product Title                    CICATRICURE Vitamin C Serum, 1 Ounce\n",
       "ProIDClie                                                650240055010\n",
       "List Price to Calculate Units                                     9.3\n",
       "Brand                                                     CICATRICURE\n",
       "Sales                                                           102.3\n",
       "Units                                                              10\n",
       "SucID                                                          137408\n",
       "CadID                                                             766\n",
       "ProPstID                                                         8897\n",
       "key                                                          766-8897\n",
       "Precio Base                                                       9.3\n",
       "SoutMontoDesp                                                      93\n",
       "Name: 21, dtype: object"
      ]
     },
     "execution_count": 47,
     "metadata": {},
     "output_type": "execute_result"
    }
   ],
   "source": [
    "df_amazon.loc[21,:]"
   ]
  },
  {
   "cell_type": "markdown",
   "metadata": {},
   "source": [
    "## REVIEW VS DATABASE"
   ]
  },
  {
   "cell_type": "code",
   "execution_count": 36,
   "metadata": {},
   "outputs": [
    {
     "name": "stdout",
     "output_type": "stream",
     "text": [
      "ProPstID\n",
      "2970604006\n",
      "SucID\n",
      "14363599728\n",
      "SoutCantDesp\n",
      "62655\n",
      "SoutCantExist\n",
      "1142662\n",
      "SoutCantCedis\n",
      "0\n",
      "SoutCantTrans\n",
      "0\n",
      "SoutCantStaple\n",
      "0\n",
      "SoutCantInv\n",
      "1142662\n",
      "SoutMontoDesp\n",
      "374873.94\n",
      "SoutMontoExist\n",
      "7379732.689999999\n",
      "SoutMontoCedis\n",
      "0\n",
      "SoutMontoTrans\n",
      "0\n",
      "SoutMontoStaple\n",
      "0\n",
      "SoutMontoInv\n",
      "7379732.689999999\n",
      "TmpID\n",
      "12043208720300\n",
      "SoutMontoCteDesp\n",
      "659487.8100000002\n"
     ]
    }
   ],
   "source": [
    "x = WALGREENS\n",
    "for col in x.columns:\n",
    "    print(col)\n",
    "    print(x[col].sum())"
   ]
  },
  {
   "cell_type": "code",
   "execution_count": 35,
   "metadata": {},
   "outputs": [
    {
     "name": "stdout",
     "output_type": "stream",
     "text": [
      "ProPstID\n",
      "2954761242\n",
      "SucID\n",
      "14348628472\n",
      "SoutCantDesp\n",
      "62436\n",
      "SoutCantExist\n",
      "1142662\n",
      "SoutCantCedis\n",
      "0\n",
      "SoutCantTrans\n",
      "0\n",
      "SoutCantStaple\n",
      "0\n",
      "SoutCantInv\n",
      "1142662\n",
      "SoutMontoDesp\n",
      "373670.1600000001\n",
      "SoutMontoExist\n",
      "7379732.689999999\n",
      "SoutMontoCedis\n",
      "0.0\n",
      "SoutMontoTrans\n",
      "0.0\n",
      "SoutMontoStaple\n",
      "0.0\n",
      "SoutMontoInv\n",
      "7379732.689999999\n",
      "TmpID\n",
      "12033669545076\n",
      "SoutMontoCteDesp\n",
      "657433.6499999999\n"
     ]
    }
   ],
   "source": [
    "x = df_USA[df_USA.SucID.isin(list(df_stores_all['SucID']))]\n",
    "#x = df_USA[df_USA.SucID.isin([139013])]\n",
    "for col in x.columns:\n",
    "    print(col)\n",
    "    print(x[col].sum())"
   ]
  },
  {
   "cell_type": "code",
   "execution_count": 54,
   "metadata": {},
   "outputs": [],
   "source": [
    "df_stores = pd.read_sql(query_sucs,conn2)\n",
    "df_stores = df_stores[df_stores.CadID.isin(groups[145])]"
   ]
  },
  {
   "cell_type": "code",
   "execution_count": 62,
   "metadata": {},
   "outputs": [
    {
     "data": {
      "text/html": [
       "<div>\n",
       "<style scoped>\n",
       "    .dataframe tbody tr th:only-of-type {\n",
       "        vertical-align: middle;\n",
       "    }\n",
       "\n",
       "    .dataframe tbody tr th {\n",
       "        vertical-align: top;\n",
       "    }\n",
       "\n",
       "    .dataframe thead th {\n",
       "        text-align: right;\n",
       "    }\n",
       "</style>\n",
       "<table border=\"1\" class=\"dataframe\">\n",
       "  <thead>\n",
       "    <tr style=\"text-align: right;\">\n",
       "      <th></th>\n",
       "      <th>SucID</th>\n",
       "      <th>SucCodCliente</th>\n",
       "      <th>CadID</th>\n",
       "    </tr>\n",
       "  </thead>\n",
       "  <tbody>\n",
       "    <tr>\n",
       "      <th>134400</th>\n",
       "      <td>119256</td>\n",
       "      <td>T0055</td>\n",
       "      <td>142</td>\n",
       "    </tr>\n",
       "    <tr>\n",
       "      <th>135249</th>\n",
       "      <td>119257</td>\n",
       "      <td>T1394</td>\n",
       "      <td>142</td>\n",
       "    </tr>\n",
       "  </tbody>\n",
       "</table>\n",
       "</div>"
      ],
      "text/plain": [
       "         SucID SucCodCliente  CadID\n",
       "134400  119256         T0055    142\n",
       "135249  119257         T1394    142"
      ]
     },
     "execution_count": 62,
     "metadata": {},
     "output_type": "execute_result"
    }
   ],
   "source": [
    "df_stores[df_stores.duplicated('SucCodCliente',keep='last')]"
   ]
  },
  {
   "cell_type": "code",
   "execution_count": 7,
   "metadata": {},
   "outputs": [
    {
     "name": "stdout",
     "output_type": "stream",
     "text": [
      "Wall time: 1min 37s\n"
     ]
    }
   ],
   "source": [
    "%%time\n",
    "df_USA = pd.read_sql(query_fact_table,conn1)"
   ]
  },
  {
   "cell_type": "code",
   "execution_count": 10,
   "metadata": {},
   "outputs": [],
   "source": [
    "df_USA.to_csv('UnaSemana.csv',encoding='latin1',index=False)"
   ]
  },
  {
   "cell_type": "code",
   "execution_count": 8,
   "metadata": {},
   "outputs": [
    {
     "name": "stdout",
     "output_type": "stream",
     "text": [
      "87957264\n"
     ]
    }
   ],
   "source": [
    "import sys\n",
    "\n",
    "print(sys.getsizeof(df_USA))"
   ]
  },
  {
   "cell_type": "code",
   "execution_count": 34,
   "metadata": {},
   "outputs": [
    {
     "name": "stdout",
     "output_type": "stream",
     "text": [
      "ProPstID\n",
      "2953886786\n",
      "SucID\n",
      "14342044830\n",
      "SoutCantDesp\n",
      "69870\n",
      "SoutCantExist\n",
      "1160699\n",
      "SoutCantCedis\n",
      "0\n",
      "SoutCantTrans\n",
      "0\n",
      "SoutCantStaple\n",
      "0\n",
      "SoutCantInv\n",
      "1160699\n",
      "SoutMontoDesp\n",
      "420161.1400000001\n",
      "SoutMontoExist\n",
      "7493857.82\n",
      "SoutMontoCedis\n",
      "0.0\n",
      "SoutMontoTrans\n",
      "0.0\n",
      "SoutMontoStaple\n",
      "0.0\n",
      "SoutMontoInv\n",
      "7493857.82\n",
      "TmpID\n",
      "12030795541460\n",
      "SoutMontoCteDesp\n",
      "732984.3599999999\n"
     ]
    }
   ],
   "source": [
    "x = df[df.SucID.isin(list(join['SucID'].unique()))]\n",
    "for col in x.columns:\n",
    "    print(col)\n",
    "    print(x[col].sum())"
   ]
  },
  {
   "cell_type": "code",
   "execution_count": 114,
   "metadata": {},
   "outputs": [],
   "source": [
    "data_final2.to_excel('Walgreens_week3.xlsx')"
   ]
  },
  {
   "cell_type": "code",
   "execution_count": 29,
   "metadata": {
    "scrolled": true
   },
   "outputs": [],
   "source": [
    "df_precios = pd.read_sql(query_prices,conn2)\n",
    "df_precios = df_precios[df_precios.CadID.isin(groups[302])]"
   ]
  },
  {
   "cell_type": "code",
   "execution_count": 33,
   "metadata": {},
   "outputs": [
    {
     "data": {
      "text/plain": [
       "4152    1\n",
       "2379    1\n",
       "2392    1\n",
       "2390    1\n",
       "2389    1\n",
       "       ..\n",
       "4246    1\n",
       "4501    1\n",
       "4500    1\n",
       "4499    1\n",
       "4352    1\n",
       "Name: ProPstID, Length: 184, dtype: int64"
      ]
     },
     "execution_count": 33,
     "metadata": {},
     "output_type": "execute_result"
    }
   ],
   "source": [
    "df_precios['ProPstID'].value_counts()"
   ]
  },
  {
   "cell_type": "code",
   "execution_count": 62,
   "metadata": {},
   "outputs": [
    {
     "data": {
      "text/plain": [
       "HpcID         int64\n",
       "ProIDClie    object\n",
       "CadID         int64\n",
       "ProPstID      int64\n",
       "dtype: object"
      ]
     },
     "execution_count": 62,
     "metadata": {},
     "output_type": "execute_result"
    }
   ],
   "source": [
    "df_items.dtypes"
   ]
  },
  {
   "cell_type": "code",
   "execution_count": 55,
   "metadata": {},
   "outputs": [
    {
     "data": {
      "text/html": [
       "<div>\n",
       "<style scoped>\n",
       "    .dataframe tbody tr th:only-of-type {\n",
       "        vertical-align: middle;\n",
       "    }\n",
       "\n",
       "    .dataframe tbody tr th {\n",
       "        vertical-align: top;\n",
       "    }\n",
       "\n",
       "    .dataframe thead th {\n",
       "        text-align: right;\n",
       "    }\n",
       "</style>\n",
       "<table border=\"1\" class=\"dataframe\">\n",
       "  <thead>\n",
       "    <tr style=\"text-align: right;\">\n",
       "      <th></th>\n",
       "      <th>HpcID</th>\n",
       "      <th>ProIDClie</th>\n",
       "      <th>CadID</th>\n",
       "      <th>ProPstID</th>\n",
       "    </tr>\n",
       "  </thead>\n",
       "  <tbody>\n",
       "    <tr>\n",
       "      <th>0</th>\n",
       "      <td>37314</td>\n",
       "      <td>65006600065</td>\n",
       "      <td>143</td>\n",
       "      <td>3981</td>\n",
       "    </tr>\n",
       "    <tr>\n",
       "      <th>1</th>\n",
       "      <td>37315</td>\n",
       "      <td>65024002985</td>\n",
       "      <td>143</td>\n",
       "      <td>3982</td>\n",
       "    </tr>\n",
       "    <tr>\n",
       "      <th>2</th>\n",
       "      <td>37316</td>\n",
       "      <td>65006600064</td>\n",
       "      <td>143</td>\n",
       "      <td>3983</td>\n",
       "    </tr>\n",
       "    <tr>\n",
       "      <th>3</th>\n",
       "      <td>37277</td>\n",
       "      <td>65024002980</td>\n",
       "      <td>143</td>\n",
       "      <td>3959</td>\n",
       "    </tr>\n",
       "    <tr>\n",
       "      <th>4</th>\n",
       "      <td>43319</td>\n",
       "      <td>65024001642</td>\n",
       "      <td>143</td>\n",
       "      <td>4772</td>\n",
       "    </tr>\n",
       "    <tr>\n",
       "      <th>...</th>\n",
       "      <td>...</td>\n",
       "      <td>...</td>\n",
       "      <td>...</td>\n",
       "      <td>...</td>\n",
       "    </tr>\n",
       "    <tr>\n",
       "      <th>235</th>\n",
       "      <td>48963</td>\n",
       "      <td>65024001830</td>\n",
       "      <td>143</td>\n",
       "      <td>5413</td>\n",
       "    </tr>\n",
       "    <tr>\n",
       "      <th>236</th>\n",
       "      <td>58473</td>\n",
       "      <td>65006600202</td>\n",
       "      <td>143</td>\n",
       "      <td>7409</td>\n",
       "    </tr>\n",
       "    <tr>\n",
       "      <th>237</th>\n",
       "      <td>57365</td>\n",
       "      <td>65006600226</td>\n",
       "      <td>143</td>\n",
       "      <td>6198</td>\n",
       "    </tr>\n",
       "    <tr>\n",
       "      <th>238</th>\n",
       "      <td>39536</td>\n",
       "      <td>65024003173</td>\n",
       "      <td>143</td>\n",
       "      <td>4287</td>\n",
       "    </tr>\n",
       "    <tr>\n",
       "      <th>239</th>\n",
       "      <td>54669</td>\n",
       "      <td>84964808013</td>\n",
       "      <td>143</td>\n",
       "      <td>5671</td>\n",
       "    </tr>\n",
       "  </tbody>\n",
       "</table>\n",
       "<p>240 rows × 4 columns</p>\n",
       "</div>"
      ],
      "text/plain": [
       "     HpcID    ProIDClie  CadID  ProPstID\n",
       "0    37314  65006600065    143      3981\n",
       "1    37315  65024002985    143      3982\n",
       "2    37316  65006600064    143      3983\n",
       "3    37277  65024002980    143      3959\n",
       "4    43319  65024001642    143      4772\n",
       "..     ...          ...    ...       ...\n",
       "235  48963  65024001830    143      5413\n",
       "236  58473  65006600202    143      7409\n",
       "237  57365  65006600226    143      6198\n",
       "238  39536  65024003173    143      4287\n",
       "239  54669  84964808013    143      5671\n",
       "\n",
       "[240 rows x 4 columns]"
      ]
     },
     "execution_count": 55,
     "metadata": {},
     "output_type": "execute_result"
    }
   ],
   "source": [
    "df_items"
   ]
  },
  {
   "cell_type": "code",
   "execution_count": 36,
   "metadata": {},
   "outputs": [
    {
     "data": {
      "text/plain": [
       "732984.3599999998"
      ]
     },
     "execution_count": 36,
     "metadata": {},
     "output_type": "execute_result"
    }
   ],
   "source": [
    "df_walgreens['Total Sales Amount'].sum()"
   ]
  },
  {
   "cell_type": "code",
   "execution_count": 29,
   "metadata": {},
   "outputs": [],
   "source": [
    "t = list(df_stores_all['SucID'].astype(str))"
   ]
  },
  {
   "cell_type": "code",
   "execution_count": 30,
   "metadata": {},
   "outputs": [
    {
     "data": {
      "text/plain": [
       "'56145,49683,73435,8555,46448,18129,18552,28833,28834,18720,137458,18239,24292,20615,20616,28133,8424,17946,18130,8538,25623,8618,17495,16531,27693,16613,20617,10684,10783,18319,20618,20619,20620,20621,20622,16500,20623,20624,20625,20626,20627,14382,16614,18298,8475,16501,16615,28126,17285,16457,20628,8463,17239,18721,20629,20630,15933,16616,20631,20632,8541,20633,15948,8059,16617,8328,8056,18512,8302,10569,11228,20634,10888,20635,20636,12678,7907,16046,7965,20637,20638,7552,20639,20640,20641,18201,20642,21467,20643,16618,10627,20644,20645,20646,16321,20647,20648,16619,20649,20650,17945,18202,20651,8253,20652,20653,20654,20655,20656,20657,16620,39810,16621,16622,20658,16623,20659,20660,20661,8627,10542,16322,20662,20663,8547,20664,20665,20666,25922,20667,8238,20668,20669,20670,20671,8154,20672,20673,21468,11404,8584,8286,10592,20674,20675,20676,18688,16217,20677,20678,20679,18528,23740,17837,21469,20680,20681,20682,8491,17265,20683,20684,20685,18347,20686,11663,18306,16624,12674,20687,20688,20689,20690,16625,18131,11905,8252,17748,11203,20691,10917,20692,20693,17303,16484,16626,18203,18558,7835,20694,28835,7549,7951,10931,16323,16552,20695,20696,20697,20698,20699,17201,16627,20700,57881,8347,28836,20701,8628,20702,20703,20704,20705,20706,20707,20708,20709,20710,34097,20711,7804,20712,18204,10693,11227,18014,10549,28837,20713,18320,20714,11176,20715,16628,20716,20717,8467,21470,20718,28838,20719,20720,20721,17240,20722,17654,12230,20723,17467,8368,8457,20724,18722,11420,25923,20725,20726,18205,39382,28839,20727,11406,10721,7978,20728,21471,16553,25924,11010,8592,8527,20729,16629,20730,20731,17286,25925,20732,24387,8002,20733,20734,18206,28660,20735,23748,20736,16324,18561,8590,8557,17828,10564,20737,7985,20738,20739,20740,8455,14814,20741,20742,20743,20744,25926,20745,16325,7825,20746,20747,28728,18499,18723,7866,20748,10752,10611,7672,20749,18603,20750,20751,20752,20753,20754,57882,20755,18359,25927,20756,18665,20757,24381,28840,20758,20759,18533,20760,16032,11725,17314,25928,16630,11048,17864,8576,18207,28577,20761,25929,8085,16047,7937,16326,10870,16485,20762,28841,20763,11009,20764,10877,20765,8172,8298,11651,25699,7939,20766,20767,20768,20769,20770,20771,20772,20773,20774,20775,20776,20777,16631,20778,20779,7894,20780,20781,8605,16632,20782,18536,20783,18429,20784,17180,18304,20785,25930,15925,20786,20787,20788,16405,18408,39736,17304,20789,20790,18369,11274,16633,18360,20791,20792,21472,20793,11270,28439,16634,20794,16635,17976,20795,18208,20796,8037,7812,11383,17656,20797,20798,8423,20799,28842,20800,16636,20801,20802,16637,20803,20804,20805,8469,20806,20807,20808,20809,18531,15096,28501,10609,20810,20811,11405,20812,20813,20814,20815,45747,16473,20816,10594,16638,8312,20817,20818,20819,16327,25931,20820,20821,10610,20822,7829,16639,16532,11997,20823,8190,10778,8232,11210,16640,18683,20824,20825,18235,20826,20827,20828,18209,8516,7684,18544,11315,25932,7635,20829,16641,8536,20830,23515,20831,8528,18504,20832,16642,16643,28506,28688,15930,8447,20833,11193,20834,20835,16644,20836,20837,10881,18210,20838,20839,20840,18132,20841,20842,11369,10661,8617,20843,20844,56659,20845,8162,16328,20846,8569,20847,16458,20848,20849,18560,18525,20850,24099,7809,20851,18503,23717,20852,16441,20853,20854,8299,7844,16034,16645,21538,23730,20855,20856,25933,20857,16204,50918,20858,20859,20860,11223,8285,20861,20862,11050,11361,11051,10677,8103,14209,7738,8133,20863,20864,20865,20866,20867,7900,20868,18598,20869,20870,16646,28843,23510,18644,11921,23351,20871,8443,11428,20872,20873,16329,20874,11144,20875,16647,16648,24294,20876,28781,11327,10676,20877,16161,20878,20879,16133,20880,10653,20881,18724,20882,17280,18299,16649,7845,11366,16016,16019,8326,16650,20883,17202,16502,25934,20884,20885,18211,8567,18725,8533,53035,58682,55392,40124,39379,46452,18077,20886,20887,10738,16463,11057,18133,20888,20889,18212,20890,18726,20891,16651,20892,20893,20894,18243,20895,20896,20897,20898,20899,20900,16652,14383,20901,16256,20902,18611,20903,18623,18318,16653,20904,8513,20905,11407,17468,10615,20906,8585,20907,16571,20908,28440,21473,8462,16330,18213,18349,25935,21536,20909,20910,10708,16598,18428,20911,20912,11087,20913,20914,24424,16068,7814,20915,8206,16610,20916,28844,20917,10720,11665,15762,16331,11066,17278,20918,20919,20920,12807,16446,16247,20921,18432,20922,16578,20923,16654,16655,16184,20924,8588,20925,20926,20927,16459,8623,8353,20928,21474,20929,16656,28782,15949,10620,20930,25936,16657,23750,11063,10922,76174,20931,16658,24113,28441,28845,23349,23754,20932,20933,18541,28442,16448,28846,20934,28540,28847,21521,18455,28443,20935,18288,28585,28444,16659,28445,21530,25937,21518,28446,21475,21520,28447,21476,21526,21531,23821,8470,23354,27803,23732,28448,28449,28450,25938,28451,28848,21537,23716,18361,16590,21524,21477,28849,23367,18578,8383,18444,21478,7822,21534,20936,28850,28452,28453,28454,21479,8492,11370,8385,16406,20937,20938,18214,20939,16660,20940,23473,20941,18478,21480,23949,20942,28964,10969,10958,16661,16662,16131,8537,20943,20944,21481,20945,28783,11382,17754,20946,25939,23513,18215,7922,24100,25940,15931,8556,23369,16663,21532,28455,20947,28851,20948,21482,15935,20949,20950,20951,20952,8044,8344,11384,28852,20953,16664,28853,18324,20954,20955,10669,16665,28784,20956,20957,16666,8148,18477,20958,20959,16519,18216,20960,16667,20961,20962,21483,8639,11280,20963,20964,16407,17533,21484,8309,20965,20966,18294,11332,16668,16669,16151,20967,20968,20969,20970,20971,20972,18134,16670,8262,16098,20973,11179,10662,25621,16671,11221,23379,25941,25942,17274,8257,56660,16672,16673,8560,17325,16674,18671,16675,20974,18345,11198,8534,8291,16523,20975,18469,8083,20976,20977,18217,16676,16611,7560,23829,8552,10823,20978,20979,20980,28230,28533,20981,17643,16677,16408,17187,8454,8607,16678,8146,20982,16525,16486,16679,21485,20983,16599,25943,20984,20985,18463,25708,20986,20987,20988,20989,16332,20990,17282,10953,20991,8616,16680,11854,20992,18511,20993,20994,20995,16205,28854,11271,16197,38059,15938,10906,10625,20996,8217,28232,25944,20997,17470,8522,18135,28483,20998,28855,16211,20999,21000,21001,8458,21002,21003,23738,21004,11376,8414,18625,21005,16681,28578,21006,16333,21007,28584,16600,21008,28456,21009,21010,21011,21012,24383,52076,21013,10553,16474,18634,21014,16682,8539,14089,21015,32182,32210,16683,16409,16187,15454,7578,8371,18136,12116,21016,21017,21018,21019,18507,18218,18219,18479,17203,50919,28856,21020,16684,43572,16685,21021,18220,18622,7609,8600,7917,11062,18581,8407,43055,21022,21023,18266,21024,21025,16028,21026,18569,11666,10753,76178,21027,21028,18539,8411,8632,10937,8635,21029,10899,8432,10879,23471,16686,21030,16687,21031,11140,11166,11105,16688,21032,21033,21034,21035,28857,18597,21036,18221,27690,21037,11201,25945,28457,21038,16334,21039,21040,8634,18222,21041,7969,7629,21042,8622,8480,21043,16689,21044,16533,21045,10709,8594,8631,11326,21046,23371,21047,16690,11159,8319,21048,21049,21050,16691,16692,28458,28858,16487,24179,16594,18450,21051,18368,21052,16449,21053,16064,21054,10916,16534,16693,25946,17295,21055,18570,49682,18352,27478,39318,56147,18342,42880,39224,39322,25947,16554,49686,56442,50920,29520,28859,21056,11368,16694,18422,11213,11205,10795,21057,18522,25948,14315,7957,7777,16475,18397,21058,21059,21060,21061,21062,21063,8242,21486,21064,17399,21065,11282,21066,18446,25913,16695,8000,10764,21067,21068,21069,17538,57205,16696,11278,10584,16697,21070,25949,17204,21071,21072,21073,18293,21074,21075,11286,18223,25950,8403,11225,18638,16488,21076,17787,16698,16699,11040,11061,16410,25951,21077,10893,21078,18041,8596,16134,21079,25952,7746,21080,21081,25953,16700,21082,21083,21084,11302,18137,10878,21085,21086,28482,42263,21087,16701,16263,28860,21487,11399,8112,18403,21088,8608,25954,16236,18362,21089,21090,21091,17195,8147,11028,21092,21093,17933,21094,16702,8294,28861,21095,7737,21096,56149,16118,21097,69445,10644,21098,28459,16607,21099,21100,21101,16703,11800,21102,16237,16024,18686,21103,21522,16601,49685,21104,7617,11202,21105,8124,21106,11127,11443,21107,21108,21109,16704,21110,8159,7815,21111,16442,23713,21112,24116,28541,21113,21114,17315,8203,10834,8132,8405,16705,16706,18138,21115,21116,18139,21117,11408,28862,21118,21119,23480,21120,21121,21122,18275,23353,21123,16707,16140,21124,17294,21125,10551,10774,21126,28863,21127,8101,11108,18009,17190,16108,28864,16335,10963,24380,18457,28865,24101,25955,21128,25956,21129,18024,21130,8505,18438,21131,21132,18610,28866,16218,21133,21134,10619,16708,15939,29516,49680,16316,21135,10547,25706,16336,21136,14640,8563,17266,16709,10531,10983,8396,21137,21138,21139,21140,32188,18535,45369,21141,21142,28867,21143,15356,21144,16069,8241,7730,21145,21488,21146,21147,11447,21148,18727,11148,15374,21149,21150,21151,25957,23715,16710,28134,28905,28460,21152,24431,16711,11027,16395,21153,21154,11013,11444,21155,21156,21157,28785,21158,18355,17267,11214,16712,27760,21159,21489,18474,16713,16714,21160,10650,21161,18647,21162,21163,25958,10903,10864,8512,11402,21164,56148,21165,21166,16135,21167,24426,17167,21168,28868,11455,12043,21169,18559,21170,10995,16099,21171,10672,28869,21172,21173,16715,23479,21174,21175,17800,10897,43054,21176,16389,21177,17260,21178,18466,21525,21179,8640,28786,21490,21180,28661,18467,16142,21491,44354,16716,54955,21181,23517,16717,10978,11426,23743,21182,21183,10826,21184,21185,8471,8187,28870,28871,23714,16602,21186,25959,17316,16025,21187,7575,21188,21189,16718,49525,21190,16063,8583,17155,10938,57911,8460,10802,24264,10776,28872,8108,17296,24410,21191,21192,11238,24266,21193,16719,21194,21195,16535,16030,8256,17281,10622,18728,18729,21196,21197,10847,10716,24112,16572,21198,21199,12644,25960,11288,44670,21200,21201,8158,18425,21202,17241,8601,17308,10975,16720,21203,21204,21205,21206,18401,16721,21492,16722,18730,21207,16555,18617,16723,21208,28873,21209,21210,21493,21211,21212,16526,21213,16724,16164,25961,10727,21214,21215,28787,21216,17312,21217,16556,17516,10714,21218,21219,21220,16725,21221,18731,25962,11435,13350,21222,25963,16154,16726,18334,16489,25964,17713,15943,8413,16238,27612,16557,21223,21224,16168,11071,21225,21226,21227,21228,7749,8281,11279,28461,16727,11318,21229,23737,17317,17821,18022,21230,21231,21232,21233,21234,21235,21236,21237,16728,11375,21238,24110,18519,21239,18513,21240,8519,16219,42353,10687,28127,28874,21241,21242,28788,21243,21244,12009,18732,25702,16166,28542,7948,25965,21245,21246,11391,16729,11106,21247,21248,21249,16136,18733,10781,24114,10629,10751,24391,16730,16020,21250,21251,21252,24411,16137,8155,16017,16169,18582,17205,21253,7534,16337,16048,21254,10690,21255,21256,11143,21257,16731,18380,18224,17192,21258,21259,21260,21261,15833,18571,16558,16338,16411,18270,16174,21262,16732,18225,17268,21263,17242,11371,11454,21264,21265,18226,16608,21266,18337,14372,8508,14517,8504,21267,21268,8610,16733,16734,18734,28399,21269,11442,21270,21271,21272,21273,29512,21442,25966,25967,16735,28875,21274,17305,16736,18735,56146,8151,16737,10699,21275,21494,21276,21277,28876,17273,28877,16559,21278,18475,21279,18140,17233,16738,11354,21280,16739,16740,16741,16742,46447,10548,25918,8558,16058,21281,21282,18386,16596,25919,18601,21283,23820,21284,8597,8410,16743,16744,16745,18736,16746,16747,16748,16749,16750,16751,16752,16753,16754,16755,16756,16757,16758,16759,16760,16761,18312,21285,10628,16145,16762,16536,24873,21286,21287,15515,11352,11287,10593,10732,18295,21288,21289,21290,21291,21292,8641,21293,21294,21295,16763,21296,21297,10792,40027,21298,7631,38030,17545,10900,16443,10599,10994,18255,18517,21299,25921,21300,21301,21302,24109,28789,28790,21303,28462,11334,21304,21305,24285,16764,16765,11363,57206,28529,18382,16081,16766,21306,21307,21308,21309,11547,11449,16767,16006,25968,18227,16460,21310,11178,18549,12551,8637,12034,16277,14493,18323,34098,10528,18737,18534,11183,21311,12521,16157,16560,25969,25970,28502,21312,30957,21495,28233,57883,21313,21314,21496,8219,21497,17243,11367,28659,21315,21316,21317,21318,28243,21319,21320,8409,11235,32515,11181,8599,21321,16768,12880,27334,16537,16769,16583,21322,11379,30566,10829,16770,28878,10613,21323,25971,21324,25972,16771,17206,21498,18141,17510,21325,21326,11085,21327,11403,10559,15510,11219,21328,21329,21330,16772,21331,25700,7658,10648,21332,16339,137197,138922,137190,137191,16412,18281,21333,21334,8018,14798,16149,25973,16773,18228,11358,21335,21336,21337,21338,21339,8265,11389,11264,17309,21340,16774,25704,16775,25974,28398,21341,28879,21342,8578,21499,16082,21343,16340,21344,21345,11190,11197,21346,15942,40332,125574,10633,7558,16022,25975,16538,16776,16132,16067,21347,18547,7666,56143,21348,16777,28530,18636,28880,21349,16778,16341,16342,38064,32206,7735,16510,16779,11295,16561,14513,52485,21350,25976,16780,21500,38063,42262,11030,18142,17168,25977,16781,16782,21351,16175,38052,25978,16783,16784,18738,18739,18476,18148,23372,18333,18078,18740,18741,70652,49687,25914,16785,16343,11255,21352,16264,18658,39226,27633,16786,21353,17234,28881,21354,21355,57908,18143,21356,137172,49684,38062,16128,21357,21358,11320,21359,27799,39380,16061,16787,16788,21360,21361,21501,18651,16789,21362,28534,18229,21363,21364,21365,40114,21366,24384,16093,18351,21367,27675,76177,21368,32264,21369,10853,21502,25979,21370,8267,23377,11297,18145,28528,8548,8181,8329,27467,18639,18628,119288,29513,21371,25980,21372,25981,18442,21373,16790,23346,21503,21504,8515,28040,25982,28983,28463,25983,25984,21374,21375,23718,25985,23475,28535,25986,8559,8612,21376,21377,23756,25987,25988,21378,21379,21505,16791,17264,16792,27653,21506,24874,25989,23347,24388,21380,10780,18149,15945,21381,28965,24093,28405,21507,39856,16170,21382,56142,21383,11284,11357,39225,10891,56441,24286,16539,16239,16793,16794,16795,31106,28966,28967,28968,28969,28970,28032,137192,16796,24180,10701,59134,18241,23370,11283,16797,16511,28684,28536,57163,21384,16585,10840,44503,24392,24393,21385,21386,28882,16798,38054,27800,119289,21387,30954,21388,25990,11451,21389,18473,21390,16235,57884,28686,28128,21391,16042,16176,43364,23378,40058,21508,21509,21392,28971,16413,21393,21519,23376,24293,25991,25992,24107,21394,56144,39944,16512,28727,16799,24265,18230,16800,125575,16801,16802,16803,30570,18291,17244,17306,27460,46449,49681,17207,21395,25993,28464,57885,16804,25994,18640,38057,24095,39985,32207,11294,17518,34099,18742,119290,24353,39982,12062,16344,136654,16805,76175,23478,16806,18012,21443,56014,56113,56082,55958,17275,56070,56028,56029,56083,56117,56032,7947,56033,56079,56089,56138,56129,56015,56130,56016,55951,56051,55952,56121,56036,57905,56099,55997,56002,55939,56067,56054,55934,55984,55990,56122,56134,55983,56053,56080,56071,55973,7533,56027,55920,56010,55946,55926,56081,56046,55941,56119,56037,57880,55948,56065,56000,56131,55954,56024,55967,56045,56095,56063,56020,55986,56038,56001,56039,56005,56137,56042,56090,56078,55940,56091,16077,55971,56072,56064,56135,56105,57920,56018,55922,56050,56125,55992,55996,55962,55979,55957,56136,56040,55960,55998,55955,55993,55963,24878,55938,56124,57916,56101,55972,56041,56100,55919,55980,55918,56097,55988,56111,56092,55974,16200,18453,55944,56096,55949,57900,55950,56031,56055,56003,55945,55925,56116,56074,56069,55943,55942,56106,57919,55987,56009,56052,56011,55959,55931,56060,56023,55956,56047,56108,56008,55982,56118,55953,55989,56112,56140,56058,55970,56103,56088,56114,56102,56026,18387,55968,57921,56004,56007,56057,56084,56085,56048,55981,56025,55975,56062,55977,55965,55964,56107,56049,56094,56133,55978,56022,56087,55937,56109,56013,56120,56066,56035,56056,55961,56123,56012,56076,56017,56073,56068,55932,55935,56128,56077,55985,55999,55923,18283,55991,55936,18743,55995,55947,56019,55933,56093,56043,55969,56030,56098,55927,55928,56110,56059,55924,56132,55966,55929,56126,56075,56104,56086,55930,8478,56044,55994,56115,56061,56034,55921,7884,56006,28129,56127,56021,102964,28803,55976,18744,43573,16807,16808,16809,25995,17184,18745,16414,7567,18405,18385,21396,21397,16810,21398,21399,21400,18231,23827,71189,125576,21401,11760,11262,28503,16811,28804,21402,16812,16813,18338,137193,7745,27715,21403,16129,39383,16814,18488,28972,28973,28974,28975,39943,17164,34685,28793,16562,16513,11220,16815,32516,21510,52482,24394,10910,18678,17208,18144,39227,25996,23366,16816,39881,50916,16415,18232,28730,16240,119291,137194,21404,11414,25997,25998,27657,32176,23749,27801,17287,57915,18516,21405,25999,21406,23964,26000,32183,18348,39734,39319,16520,23472,49677,21407,16345,16252,24289,28125,18452,23755,16447,24382,23368,16119,16817,27569,58681,107609,18284,21408,39809,38056,34101,49527,27632,10694,25701,26001,28438,16253,24432,18282,39941,16818,28033,24376,27461,23747,23735,25911,24377,136655,27802,32208,16819,27630,16514,23356,53525,24287,32265,28465,26002,28403,26003,134219,137151,28234,21409,56661,24430,38050,137152,14331,73206,23477,48588,16254,28504,23741,27655,17209,49529,32523,49528,40116,26004,51747,34680,21410,43363,24879,57886,18285,49678,28779,141973,87545,28665,43575,30955,42354,18307,30956,17997,139142,139143,137459,136581,18746,69021,43576,137365,125577,7768,134958,39857,16241,103043,40340,43571,27333,32177,27717,25619,28525,16820,16346,24378,23825,44957,21511,23355,32184,7786,21512,26005,23963,21411,28662,28579,23723,39735,56664,7546,24097,28303,27761,46453,21412,28306,27462,23721,23712,39472,27287,43993,24290,23965,18667,28687,39373,30565,76173,27762,28572,28304,28580,23375,21513,28685,46312,45568,40161,27463,43574,44669,28505,57912,58012,44353,28031,28962,25915,27798,39939,39942,39940,28663,27674,27307,18747,28130,39374,28034,28131,52928,52929,52077,30522,58010,39628,25916,28132,46450,30571,24423,25703,43995,34100,73245,134959,69446,56666,40123,39321,38058,40122,52483,39468,27654,39381,27629,39223,28526,32517,28576,28397,27656,49676,43222,57887,57888,52723,28664,7709,28404,51746,40056,40120,30523,42878,29517,28581,40312,39808,32178,32179,73022,39320,40118,39315,46446,54292,70972,21413,16821,18748,28582,30567,38051,16540,28574,27673,57889,39984,27332,43991,28305,42264,58407,119292,27477,27546,32209,44956,27570,29514,28039,73292,39811,27464,39471,38053,39375,57236,139018,30568,31563,42879,28939,40057,27547,25917,39376,39377,39447,42260,53032,39378,27652,44799,30958,40059,32268,38032,16822,28976,24094,38060,17775,21514,28466,28963,23719,38055,28977,26006,136507,30959,30569,39317,23363,23364,23724,23736,23759,23474,23727,23725,29515,23961,23733,24427,28883,28940,23731,31105,28978,21414,21415,28467,28979,28980,28468,26007,7627,23822,23823,28981,29519,26008,28041,28982,8160,26009,26010,23726,21515,28689,23345,28469,11161,28984,23752,23739,23722,26011,23729,31107,23720,10663,27718,23744,57890,48151,27568,57891,29518,39435,57892,45569,27628,28941,27631,50412,40121,39316,18493,39470,40060,54290,39858,39937,7753,42261,49524,43224,40160,52075,57902,39384,84092,45171,43994,40054,48587,57907,43223,48458,43992,39469,32187,32272,28805,30572,52484,40119,27543,56141,103050,39938,40053,103044,57893,43225,53985,18548,10859,44502,42881,39983,54291,40113,44668,69155,40026,42877,73021,40024,40212,44504,53986,40117,40115,48589,10736,57894,58011,119159,53033,54293,49530,52073,49523,52072,46668,40055,56662,57895,45748,70973,57901,57157,52074,38031,38033,18749,45749,27308,27309,27310,27304,27305,32266,27311,16823,27306,32269,34679,32270,32172,27613,32267,27455,27614,27465,32173,27456,32271,32180,27457,34681,27608,32174,27609,27552,27458,27466,27548,27610,27611,27607,27549,27459,27544,27606,27551,32181,32185,34682,32520,34683,7650,34677,27550,32521,34684,27545,32518,34678,32522,32519,32175,32186,38061,39448,39228,46451,49679,18518,26012,18486,49526,52071,57896,53526,57903,16824,57897,87546,57898,50917,51745,119293,53034,56663,49531,43763,137195,119164,7623,56139,69444,136656,40025,57906,53524,125017,18750,76176,119294,18751,57904,50224,73105,57917,57899,137153,139144,103051,119295,57914,56667,84093,85515,137366,136657,57746,119296,103045,139019,119297,57909,65778,8620,87547,76171,125578,134195,87548,139020,136658,69622,73106,125579,135329,103049,139145,16825,125580,128948,83569,103046,125581,18421,134196,102963,137460,125582,103048,76172,119298,119299,137367,137368,103042,73207,139146,87494,134220,73107,73108,73109,18532,125018,73049,139021,134097,17191,17683,18373,18448,10759,18376,16826,125221,125262,136582,125552,125433,125449,125407,125369,125525,125322,125434,125583,125202,125203,125303,125196,125275,125263,125370,125204,125542,125222,136709,125214,125304,125371,125378,125563,125343,135060,125501,136330,125323,125324,125486,125223,125224,135330,125264,135331,136057,125362,136140,125450,125305,125419,125584,125325,125306,136659,134098,125326,125553,136508,134960,125526,136331,125585,136141,136142,136583,134099,135118,134100,135332,134961,134864,134865,133332,125527,134101,135678,136058,134962,136509,135778,136143,125586,136144,134102,125528,125529,136660,125487,125327,136661,136332,136687,125587,136059,125564,136710,125265,136510,135881,136584,134191,134192,134103,125344,125451,125588,125215,136688,135654,135679,134866,125589,136573,134104,135882,125238,135883,125266,136711,125554,125345,125239,135333,134027,133333,125328,125590,125346,125468,133334,125591,134028,136060,18752,125420,136712,125543,125276,125329,125421,125452,134105,155773,136333,125422,135655,134106,136574,134107,136662,139147,135203,135204,133335,136511,125555,135334,136061,125592,135779,136585,135335,139148,136145,135780,16827,134867,134108,135680,136334,136335,125267,134963,136689,136146,125379,134964,135989,139149,125252,133336,125330,148287,135336,125209,125197,125213,125372,125387,125200,136062,135884,125593,125423,134965,136713,125453,7591,125363,125530,125380,125408,134868,136586,135656,125307,125246,125409,16828,125454,136512,135657,125488,136147,135119,125388,135337,135338,135205,125469,136587,125435,125225,135681,125594,125347,125511,135781,136063,136064,125308,135919,136148,134109,136663,125289,136588,125396,125410,125595,136513,135339,125290,125364,134110,125455,125596,135990,125565,135061,135991,125597,136690,135062,135682,125277,136336,134029,136337,136149,125566,135120,125598,135206,134030,135992,134031,10688,125240,135121,134111,125411,18551,135063,134869,125348,125489,134112,134032,128949,125470,135122,133337,125210,125599,125247,135920,135658,125228,125268,136150,135885,136514,136151,136338,125331,135207,125349,136339,18753,125309,135208,135123,125291,135340,134966,134870,134871,136515,125278,135993,133338,134113,125471,136714,136516,134033,133339,136691,136065,125600,125397,8503,136066,125350,133340,134872,135209,125398,133341,135782,135124,125269,125472,135659,136340,136152,125490,125310,136067,125253,136341,125502,133342,134873,135886,135994,125544,135210,136068,134874,136153,18396,134875,134876,135660,135887,125292,134034,11038,136517,136154,16829,18406,136069,134877,135995,125351,134114,125601,136342,135683,125352,125602,125556,135996,125603,125229,136715,125195,134967,134115,125311,133343,135341,125332,136155,135125,135064,134035,136589,136070,125473,136071,16830,125230,125568,125512,18754,134116,134117,134036,135661,135888,135889,125216,135783,134118,8621,125491,135342,125531,135997,125381,125424,18423,135684,125532,135890,125503,136518,125293,136664,136156,133344,125557,134119,125254,134037,125353,134120,136590,125492,125604,125294,134121,134038,134122,135126,125605,135998,125533,136591,135127,135685,125513,135343,125534,135344,136343,125255,135345,125456,134878,125535,135346,134039,135999,134879,125606,125241,136519,10941,125373,125389,125436,135686,135891,125607,125545,128950,135687,125514,134968,134040,136520,136157,125242,134123,136592,136665,135784,136692,125312,136593,135688,135892,135211,136666,125546,125457,135662,133345,125504,135128,135663,128951,125437,134969,134880,135921,125313,136716,125226,135347,134124,28806,134041,125608,135893,26013,134042,135212,134125,136594,136344,136717,135348,135894,135065,8009,125515,125536,23960,125256,125438,125516,125205,18521,125333,128952,136000,135129,125399,136693,134881,136667,135785,7833,135213,134882,134126,134043,135895,125425,135349,136345,136749,135786,135066,134127,128953,136346,136718,134044,134045,136719,136001,125314,125458,125354,16347,135922,134046,125505,125474,134128,135130,125400,135689,125609,125493,11196,125439,125475,134883,125401,125279,134970,134884,134047,125440,16831,136002,136158,125211,135350,134129,125537,136668,125270,135896,136694,134130,125610,136072,125611,136669,135214,125315,136073,137000,125217,135923,125334,135351,134885,136003,134048,125538,125612,136521,136695,134131,136074,134049,125494,134132,125280,134886,135067,133346,125476,28807,125231,135131,135132,125355,125506,125613,134133,135068,136075,135690,18755,136595,133347,136596,134887,136720,134971,135215,134888,134050,135352,135897,134134,136004,136076,16832,125517,134889,136159,134051,16833,136670,136347,135924,134135,134890,125335,125232,125614,135069,136721,125356,134052,125495,135925,125459,125615,135787,125569,135926,135691,125616,135927,135353,25920,125227,135898,134136,125617,21444,125518,125390,125357,125248,125460,125402,125570,136005,134053,136160,125412,135133,134054,125295,133348,134891,125618,135070,125207,136006,128954,125382,125413,134055,136007,125383,125336,134892,128955,134137,125316,125441,125619,125257,134893,125558,136008,135354,136522,125281,136077,136671,134138,18756,16834,25705,18757,25773,25774,18758,18759,10686,25910,28470,28543,25775,28042,18760,136696,134139,125249,7897,125620,135692,135899,136009,134140,135928,134141,135664,125243,18146,135134,125258,136597,125621,135929,135071,134972,135693,135072,125426,134189,18761,134894,134895,125296,125201,135135,136010,11206,135136,125337,135355,135900,125282,135073,18762,135216,136348,136349,125283,134190,135788,125218,134056,125461,125297,134896,125374,125358,134973,136523,125298,135074,125462,136575,136672,125271,136524,134142,135217,135930,134143,135137,135218,135901,125477,135902,136598,135356,136525,125478,125359,13389,125479,125259,135789,135931,135932,135357,125622,136161,134144,125272,135665,134057,18379,125375,136350,135219,134058,125496,125338,134145,134146,125414,134059,18350,125480,125623,135666,125250,18515,125442,134147,125365,125463,125360,16348,125624,125625,125626,125273,125284,134974,134148,125427,135667,134897,135694,135790,11290,135933,125299,134898,134060,125443,125415,134061,125519,134149,125339,136722,125547,135138,125317,10595,135139,134975,125233,136351,8501,135358,134899,134150,125403,125300,125428,136011,134151,133349,135140,125340,136012,125219,135359,134062,128956,125318,125341,125198,135695,125464,135668,134900,135934,135360,135935,134976,136162,136526,136697,125391,125539,135361,125285,125627,125274,8205,135075,135362,134901,135936,136078,135696,136013,17210,135220,135791,134152,136673,125571,125481,135221,125628,134193,125507,136352,133350,134902,135363,135669,135937,17699,125629,135076,133351,125548,8476,135364,134903,136527,135792,125392,134194,134153,125630,125260,136528,7808,8615,125404,125631,134904,125559,134977,125319,7832,134978,135793,125234,135222,135365,135670,135366,135077,135367,135903,135938,134154,125549,125444,134063,135671,135368,125632,135794,125212,136079,134155,135904,136014,134156,135697,125633,135369,134979,134157,136080,134905,10825,136674,135141,125482,135905,136163,125634,136015,135370,125635,128957,135371,11380,135372,125393,134906,134064,135373,18381,135078,125366,125384,134065,134980,18353,134158,135795,135698,136353,10803,125235,136081,134159,125636,134160,134981,134066,135939,135672,125251,133352,125540,125445,16835,136698,125465,125572,135079,134982,134067,134907,125520,134068,136164,136723,134161,125637,136599,134162,125361,125261,125286,134163,136699,135080,136354,125416,125342,125220,125521,134908,135940,134069,134164,135081,135941,125417,125508,125446,136082,125429,136016,125573,136600,136601,136724,135223,134909,135374,135082,125287,134910,136083,136675,134165,136529,134070,135906,125638,134166,134911,134912,128958,8025,134913,134167,125497,134071,136676,18763,125567,125405,134072,134073,134914,134168,136084,8421,134915,134169,18764,134170,135375,134171,125639,135376,125483,135224,125522,135673,135907,135377,136677,134172,134983,135225,135674,134173,18456,136678,134916,8244,125560,135908,134174,125640,136530,125550,28808,125367,125466,135226,125430,125498,125320,135675,135676,135378,125561,134175,136725,134984,125385,135142,125641,135796,135942,125418,136165,134176,134985,125642,134917,133353,125643,134074,134177,125321,125376,135699,136531,125236,136166,125499,135379,125244,135943,136966,125394,125562,125301,135797,135700,135944,134178,135227,18765,134918,125395,134075,125206,135380,135143,125431,135083,18496,125447,125644,134919,136726,135228,125245,125509,18330,125386,125237,15940,18766,125645,136727,134920,135381,125208,125523,125646,136602,125551,134921,134076,134179,134077,135144,128959,135084,125432,11233,125647,125484,125368,125467,7827,125448,125485,135945,136355,125510,125406,11073,135382,135383,134922,135085,134923,136679,125377,135798,134924,18491,125648,135799,134180,133354,133355,135229,134925,136700,125500,135909,125302,135677,125541,135086,136701,135946,125199,135800,134926,133356,136167,125524,133357,134181,134078,135230,125649,125288,18495,16062,24105,25776,15947,18767,18526,16836,18768,18769,8279,8290,18480,28809,11631,8404,8259,28231,18246,8349,16260,18370,16837,17480,18770,18771,11248,10697,18772,16838,8305,18773,7788,18502,18439,7886,18542,139022,136702,107606,119300,10841,103047,139023,139024,107607,119301,119317,119302,8386,119160,135701,128809,119303,46313,125650,125651,119161,136680,119158,136681,139025,148392,139150,107608,119304,119305,136703,128810,7731,134182,136704,7595,119306,119307,136705,119163,119162,136893,125652,136356,137369,139026,134183,134184,24098,134185,139027,134186,135910,135947,137338,17188,142194,134187,57913,137095,136894,134986,10575,135702,135703,10571,137370,137339,137340,137045,137249,148423,139151,148133,135384,137196,138997,18774,146769,148320,135385,155774,138998,142195,148424,141974,148304,10643,142378,18775,8485,16490,28471,28472,17245,7785,7536,18296,18776,28235,16839,7743,7855,18777,8055,18778,16349,16840,16476,16541,16103,16841,8614,7664,16078,8280,28810,18779,23358,18150,11263,18780,18781,8345,18508,18782,8156,25777,10786,18783,7873,16842,18426,18784,8376,16396,18785,18786,25778,28811,17897,18485,18787,16843,18788,8168,28527,16350,17840,7924,8264,16203,18789,18079,24267,18080,18790,8308,18483,18791,18792,16844,18793,18794,18443,18795,18451,28780,25779,28583,16845,18796,16542,7697,16846,7834,11244,18797,18798,16012,16120,11724,16847,18799,18800,8020,11281,16848,28544,28545,10673,8330,11122,10604,8380,21445,28812,8074,7580,11072,18690,18801,25780,8372,16849,16036,10744,11054,8222,18802,11669,18366,18803,7914,8311,18804,18805,18806,18305,18807,10573,17156,8086,18436,18394,25781,18151,18152,8212,7599,28906,16850,12063,18808,18809,11386,7670,28236,15547,18810,8323,18811,11385,18812,25782,18277,8163,18813,16563,16026,8081,8177,18081,21517,17423,17270,18814,16088,25783,28473,18459,25784,7810,25785,18815,16851,17246,7988,8255,17157,25786,18816,18629,18817,8096,18538,8098,18689,7630,16543,25787,17247,10623,8230,21446,17183,18818,8042,16083,18393,11078,16269,7555,11265,11675,18819,18153,11006,16121,18238,18820,11438,25788,7892,7797,25789,16143,18821,7739,11448,27716,24379,7896,28813,10696,23365,28537,16852,18822,25790,7999,8274,18154,23519,18823,7751,8142,18082,18824,7843,10976,28802,28575,16853,8313,18825,21447,16351,25791,18826,21448,27764,7661,18827,18828,18829,18830,18831,8186,16854,25792,18832,28907,16855,18833,11418,23511,17248,18834,18835,18836,10729,24183,18837,7598,18838,10743,17674,24425,8433,8465,18839,16856,7695,7944,7722,7561,7600,16857,18840,8076,18841,7700,16858,14512,21449,10827,10915,18842,7762,8517,10815,10940,18843,16544,25793,25794,17841,16146,18697,18844,18845,18846,10556,16859,11291,7640,7767,16564,18083,18847,7679,7674,18848,7553,7885,18849,17297,16860,18850,18851,7770,8139,18852,8111,23516,16259,11168,21527,18853,7683,16242,18854,18579,18084,18855,18856,18857,16861,18858,18859,25795,18263,28474,18860,7765,25796,11432,7902,16862,27692,24428,18468,23824,11152,8116,28539,18861,7970,18363,8331,16104,11416,18862,23751,18863,18864,10679,16206,16276,8307,16863,8236,18865,18866,7577,17249,18867,18868,18869,11410,18870,10596,16864,18501,10842,10585,18871,18872,18873,18874,18268,18875,16865,18876,8021,18877,21535,12715,16866,7859,24102,18085,10972,10554,11360,16867,16868,16188,16397,18878,18586,18086,23476,25797,18879,11276,12206,18880,25798,18881,25799,18882,10901,18883,16243,18155,8489,18884,24182,16869,18885,16870,16416,18886,25800,7775,16417,16871,18887,16872,11275,18888,17261,16873,11110,18156,16225,16279,7719,11431,16072,16603,16874,15928,18273,25801,18889,10849,16545,16875,8619,18087,25802,18440,18890,18891,11237,18892,18893,8370,18894,18895,25803,8218,18896,27689,16609,25804,10621,18587,16876,8135,8226,25805,16573,18897,18898,8016,16877,7870,7774,18899,17165,10747,11362,16450,10640,8493,10631,17318,16050,7964,17393,17250,25806,8077,28814,18900,25807,16257,18901,28908,11411,17953,18902,18903,11224,18904,18905,10843,18906,8164,10968,7874,7961,18157,7606,25808,18907,7890,10755,16878,10810,17324,18908,18909,18910,7592,7916,18546,7936,23757,18911,16879,18912,8138,10731,18913,18914,7585,18915,10832,7657,8041,18916,11289,18917,18918,10880,18656,28815,16056,17321,8395,18919,18920,18921,18922,18088,8481,18923,18272,18924,15924,7993,16880,18925,18926,18927,16881,16100,7802,16882,28531,8237,11120,18928,8090,18929,18930,7734,18931,7766,7593,18311,11307,8525,18377,7547,10992,7842,18932,18933,16267,11920,18934,18935,18936,7705,7776,10681,18937,16883,16884,18938,11042,18939,11209,8004,8209,8332,16885,18940,7660,18158,7744,8304,24429,18568,24115,7665,18941,8117,7991,18942,8104,16185,16886,8604,16207,16887,11365,18943,18944,23352,8167,11273,8473,10790,7952,10977,18414,18945,7771,18372,7602,16888,18946,18947,18948,8581,8165,11828,18949,18950,18951,18952,18953,18954,23831,7713,23509,18955,29521,11170,18956,11034,18957,25809,11016,16451,18958,16021,18959,18960,11162,10740,18961,10597,16113,18962,18963,18964,18965,17173,18966,18967,17178,16546,18968,18969,8258,17288,7789,18310,7551,16491,18970,11192,7963,18971,18089,16352,18972,24876,13186,17938,17484,18973,14823,18267,7688,16889,16890,18974,18975,18976,28573,8080,18977,18978,8024,18413,11207,16891,18979,10991,18980,7795,18981,25810,10814,8006,18982,18983,8586,8436,16892,18984,18985,7769,11147,18986,10664,10985,10602,11128,18987,7540,17298,8066,10775,18490,18090,18159,18988,16893,25811,18989,18990,7652,7773,18991,18006,18992,17235,16894,16895,18993,18994,16158,18995,8575,10798,16317,8276,8100,28791,10885,10930,18996,8390,7667,16418,25812,10838,16527,17211,18997,18998,10800,11024,16053,18160,18999,19000,16896,11096,18073,19001,19002,18624,19003,19004,19005,19006,19007,7715,19008,19009,11164,25622,19010,16492,19011,16897,16089,19012,19013,19014,25813,19015,19016,16898,8227,23734,8128,8141,25814,7755,18161,16899,8565,19017,10719,18344,8161,18162,11718,8400,16900,8384,7662,16084,19018,18091,19019,16037,16580,19020,7588,11160,10745,10789,10960,18354,16353,19021,11312,19022,7959,16122,19023,16354,25815,11172,10868,16901,19024,19025,12836,19026,18300,18301,18654,19027,19028,19029,19030,10586,19031,10765,19032,19033,16902,19034,8486,24117,32273,56165,19035,16903,18278,19036,18646,7733,19037,18606,10561,7889,10794,8374,8636,11381,14542,19038,16904,8036,7759,19039,10974,8420,10578,19040,16226,19041,16905,19042,19043,18635,18092,19044,16419,19045,16906,16907,16054,16908,8630,16220,8529,7648,11150,25816,19046,7799,19047,19048,19049,7807,18093,16005,15764,19050,8333,16909,19051,19052,19053,7685,25817,7687,8072,19054,10857,7626,19055,19056,19057,19058,19059,11245,18615,16910,17166,19060,7817,8570,19061,19062,19063,19064,19065,18643,8350,7779,7673,11310,19066,12823,14143,7732,7545,19067,8275,16911,19068,19069,7932,10889,19070,8268,16114,10858,7805,11212,8496,7781,7632,17310,19071,11065,19072,19073,19074,19075,10865,8426,19076,19077,19078,19079,8416,7686,19080,19081,8461,24096,7994,18648,19082,16452,18245,19083,19084,18094,7616,16073,11254,19085,15944,7826,11395,19086,8379,19087,19088,19089,16244,16008,18346,19090,19091,16177,7839,19092,19093,19094,17160,16398,18566,17956,8278,19095,8119,19096,8603,23742,17161,17972,7597,18297,19097,8118,21450,8033,17271,19098,10533,11130,7748,10540,18576,16178,7838,7887,7841,10927,10583,19099,19100,7562,19101,7548,23514,19102,19103,19104,7702,17496,7653,16912,8318,19105,15929,19106,8197,17174,19107,16913,7911,7583,8468,8183,18378,16038,10607,19108,14107,16914,18163,8398,7935,7681,17507,16390,19109,19110,11268,18335,8510,8394,8509,10659,25818,19111,11091,18375,10630,19112,16915,18302,19113,19114,17547,19115,19116,19117,17460,7891,8387,17794,10828,19118,7918,8166,18441,16355,17289,19119,16916,19120,10981,15927,19121,19122,16917,10749,16356,10854,11423,19123,10939,8365,19124,24184,19125,19126,19127,7724,19128,19129,19130,19131,16918,19132,21451,19133,19134,8249,18506,16919,16503,8184,11017,7901,7989,16920,15095,8145,11129,19135,28237,19136,15465,16921,7913,19137,19138,19139,19140,19141,17163,7846,11217,16922,16923,18505,7920,19142,10742,18164,11022,7675,19143,25819,19144,7840,16924,18147,19145,19146,10852,10801,19147,19148,8316,10979,19149,19150,24181,8019,19151,11425,19152,17251,11396,17226,19153,16189,11440,10965,19154,23711,19155,8195,8069,18019,8391,16074,11267,19156,19157,19158,17523,16199,19159,18567,8224,19160,19161,19162,7612,19163,16399,19164,17236,19165,19166,15832,19167,8301,19168,19169,19170,7587,19171,19172,17517,8415,7628,18673,7535,19173,7537,19174,19175,17227,16270,19176,19177,11335,19178,25820,19179,19180,17299,19181,23348,18398,19182,25821,19183,16925,19184,18633,19185,19186,18484,19187,16926,7854,19188,19189,8562,23518,19190,8435,19191,16927,16928,17322,19192,19193,11301,18371,18018,18095,18565,19194,13549,19195,19196,17489,19197,19198,7568,18074,7720,16493,23758,19199,19200,10543,19201,17882,28729,19202,19203,19204,11259,18530,10674,19205,57910,18257,8092,7861,16547,16929,8577,11169,16930,7858,12763,8451,19206,19207,17474,8113,8125,19208,19209,11965,28400,16931,19210,16932,19211,19212,19213,19214,15215,19215,16357,16179,10929,19216,19217,8189,16933,8422,10999,19218,16094,16934,16935,16221,16222,10925,10973,8062,10895,7718,25822,19219,18096,17228,10837,19220,25823,16936,19221,18097,10550,19222,18497,17764,19223,17818,19224,18316,19225,8629,16937,19226,18264,16515,11374,8017,19227,11712,19228,19229,19230,16420,19231,24389,18616,19232,25824,18675,19233,16938,19234,23374,19235,19236,16358,14846,16229,19237,19238,19239,19240,19241,19242,8532,18251,16939,25825,7876,8357,19243,19244,19245,10830,10562,11039,19246,17670,19247,19248,7982,10957,10986,19249,19250,19251,19252,8003,18098,10797,24269,19253,18417,19254,16940,19255,18537,16180,19256,17486,18260,19257,10555,7950,10799,11167,16941,25826,19258,19259,19260,16265,8399,8340,16942,18487,16245,19261,19262,16153,19263,19264,19265,19266,19267,10682,19268,7741,21452,7556,16943,16494,16944,8185,16495,8568,8441,7641,19269,19270,19271,28238,19272,7976,19273,19274,7671,19275,19276,19277,10532,10618,18099,7908,19278,8030,18600,17790,8099,8566,25827,19279,19280,19281,17406,8014,18165,17193,7764,19282,17181,8392,19283,19284,8352,19285,7966,11117,16445,16359,19286,8293,10882,19287,16945,19288,8093,19289,19290,19291,8053,7791,17177,8359,11304,18419,10605,25828,19292,19293,16040,19294,19295,19296,19297,16201,17363,16018,16946,7836,19298,16045,11239,8580,19299,7940,7699,19300,16947,19301,19302,11293,11200,19303,19304,7618,19305,19306,19307,16597,19308,19309,18655,7574,23362,16051,19310,19311,19312,18427,19313,8214,19314,18445,11083,10950,19315,11076,16595,8273,19316,19317,25829,19318,17169,7647,10933,19319,8091,18249,19320,19321,19322,11258,8595,8355,8060,16948,16477,19323,19324,16080,10952,19325,38065,11018,19326,19327,16453,8452,16059,16360,19328,19329,11674,10769,7868,17212,19330,11419,19331,19332,19333,18384,16949,16950,17213,11033,10544,8425,8052,18608,8497,19334,7909,10890,10748,11251,8520,16574,8046,19335,19336,19337,16274,19338,7636,19339,18540,19340,7933,18695,19341,11372,7728,7977,19342,7904,8553,11261,21453,19343,19344,16248,19345,16361,10535,8389,19346,16951,7923,7604,7910,7958,7938,16952,19347,28043,8464,16362,19348,16478,8456,17229,16953,16363,19349,19350,8126,8638,23357,19351,16516,19352,19353,19354,19355,17341,10779,8343,11139,11047,19356,15932,15503,7589,19357,19358,19359,19360,16954,19361,8282,18265,16111,17498,18666,7819,19362,19363,19364,19365,16194,16955,16496,16246,19366,18233,16956,19367,19368,19369,19370,19371,19372,10635,19373,19374,7828,8270,11292,11132,18410,11014,17214,19375,16364,8303,8358,8223,8388,15257,10652,16454,10964,19376,19377,19378,19379,19380,17615,19381,7811,19382,19383,8068,16957,7883,19384,7682,17352,16958,16959,7912,16172,19385,19386,16960,19387,7783,16391,10804,24291,7727,11436,10526,19388,19389,10887,19390,8049,17170,17237,19391,8412,19392,19393,19394,19395,14908,18481,19396,19397,25830,19398,11926,19399,18100,19400,19401,7601,19402,19403,16961,16011,19404,19405,8325,11409,10700,19406,19407,19408,7579,17492,10791,8137,17290,8518,19409,19410,19411,19412,19413,16208,19414,19415,19416,19417,25831,16962,10656,16963,16964,10566,8300,19418,7929,19419,19420,8363,19421,19422,7696,19423,19424,19425,19426,7586,19427,19428,19429,16965,19430,19431,11439,11277,11421,19432,7943,19433,7644,16365,19434,7865,19435,19436,19437,19438,19439,10675,7716,19440,19441,19442,16966,16116,28816,17485,7740,10695,19443,19444,19445,11044,10678,19446,16967,19447,18691,18101,17770,19448,19449,19450,18650,18166,16366,19451,25832,8193,19452,8427,8633,10645,19453,16109,19454,17238,8369,19455,19456,18433,25833,19457,16421,19458,19459,19460,19461,28538,19462,25834,18075,10616,19463,17252,10970,17269,16255,7813,16087,11236,8472,11246,17262,16190,16565,19464,19465,19466,19467,19468,19469,19470,19471,7867,19472,19473,19474,12840,16968,19475,10949,7934,18663,18653,19476,7594,16969,7881,19477,18399,19478,17608,10649,19479,19480,19481,19482,19483,18167,11314,8110,16604,18590,17999,19484,19485,19486,19487,11457,16123,8354,11269,8417,19488,19489,19490,19491,19492,19493,19494,19495,7532,7983,7849,19496,16970,11232,19497,19498,19499,18523,18168,19500,16971,10871,10525,18694,16972,19501,19502,19503,11058,11124,11242,18356,7726,19504,7643,16367,7729,8196,19505,16973,25912,18102,19506,19507,19508,25835,19509,19510,19511,19512,19513,19514,10936,8122,8593,21454,16974,8506,16975,19515,19516,25836,19517,16124,7622,24390,10698,7927,19518,19519,17230,19520,18315,19521,19522,19523,19524,17433,19525,16147,19526,19527,28475,7607,7915,11285,11727,10771,10911,19528,16976,19529,19530,7621,19531,19532,19533,8054,10692,17253,19534,8207,16977,19535,16173,17291,19536,17307,19537,19538,7698,19539,16504,16043,19540,7596,18357,8341,11393,17551,18609,19541,19542,19543,16978,28401,19544,8065,7975,19545,16223,19546,19547,19548,19549,19550,19551,18103,19552,17215,21516,28817,16979,18169,19553,19554,11064,19555,8109,7905,8315,7954,19556,19557,19558,25837,19559,18170,18449,19560,18591,8174,19561,19562,19563,19564,19565,19566,10912,10746,19567,17216,18171,19568,19569,16125,7806,8115,19570,19571,19572,23832,8010,16575,19573,16980,16981,18104,8179,19574,19575,19576,19577,7677,11184,16982,18289,17159,16528,10728,16983,19578,17283,19579,8579,16138,19580,16027,11359,16984,14784,8327,7984,19581,7818,7655,8131,15331,19582,8107,19583,19584,19585,19586,18172,19587,11415,18641,18173,19588,11222,19589,28792,7573,11036,7953,8199,11397,10770,16505,11400,8216,19590,19591,11059,10962,18672,8084,16150,25838,16985,16584,19592,8511,19593,19594,16986,19595,28476,19596,19597,8015,10872,8484,16506,19598,18580,19599,19600,10704,8064,16095,16165,8269,10819,8045,15757,15485,8587,18407,10711,19601,19602,28909,19603,19604,19605,8169,19606,8336,19607,18626,19608,10647,28239,8070,18174,19609,19610,19611,11146,19612,16605,16987,19613,8023,16988,11388,16989,11097,28240,7706,19614,11272,19615,19616,10867,16990,16586,19617,16085,19618,19619,8201,19620,19621,19622,8574,19623,10651,10712,19624,19625,7852,8087,7787,11101,17231,19626,19627,8342,11441,18105,19628,19629,21455,19630,19631,17300,19632,19633,8088,19634,19635,10762,8514,19636,19637,19638,25839,19639,19640,19641,28818,25840,11309,7554,19642,8348,10560,10914,19643,7619,19644,7649,19645,19646,19647,19648,11390,10869,17179,16991,19649,19650,19651,8250,19652,19653,18106,19654,19655,8039,7543,7571,19656,19657,16581,8487,8530,11165,16992,19658,19659,16993,19660,21456,19661,8225,8261,7893,7714,19662,19663,16029,19664,25841,18577,19665,19666,19667,19668,7539,19669,11079,10777,11250,7693,19670,19671,11218,8220,8521,18107,19672,19673,7614,11056,8152,18527,8397,7801,19674,19675,18612,19676,19677,19678,25842,18276,19679,19680,19681,8284,24118,8029,19682,11215,11002,8289,19683,16090,19684,25843,11592,8136,19685,16079,8032,10928,19686,7930,18660,15298,19687,17217,19688,7987,19689,25844,16065,19690,16994,8043,7659,19691,10705,11015,10766,19692,8526,8170,7796,19693,18280,19694,16230,10558,7754,18416,10892,19695,19696,25845,16159,16995,8235,19697,18069,25846,18520,16996,8393,16278,18383,11234,7581,16997,19698,19699,10574,19700,19701,7990,28532,11452,19702,7544,11037,19703,19704,19705,8143,19706,19707,17158,19708,19709,7925,7880,19710,8130,10530,10634,8434,7638,7824,11080,19711,19712,18472,11075,11067,11656,11353,19713,19714,19715,17311,15923,7750,8442,19716,28819,7538,19717,16612,7931,19718,7564,8453,19719,18286,19720,19721,19722,16524,11731,16261,8173,19723,11081,11135,11356,19724,11445,18175,7995,18447,16181,17791,16422,18176,16423,8334,10990,18177,15351,19725,19726,19727,7946,19728,19729,19730,16268,16998,19731,19732,18585,19733,19734,18178,10603,10894,17725,19735,19736,15934,18343,8546,8012,19737,19738,8324,17817,19739,19740,19741,19742,19743,8047,10785,7830,19744,11434,7723,10730,8495,16999,7656,19745,18687,19746,19747,17983,19748,18682,14472,10638,19749,7624,19750,11303,19751,16182,19752,16579,19753,19754,19755,19756,19757,15937,19758,19759,8123,15631,8297,8535,18684,8213,19760,11429,21539,11333,18431,19761,19762,19763,19764,18388,8288,10932,19765,19766,10717,10757,19767,19768,16566,18308,8178,8149,17000,19769,19770,16144,10848,17382,18331,19771,19772,18668,19773,8437,19774,19775,19776,19777,18593,19778,11329,11377,7608,19779,7566,10955,10909,10739,19780,8408,18573,8439,19781,16548,16497,11446,16167,16368,16424,19782,11226,8188,10754,28820,17940,18258,18259,19783,19784,19785,18108,7878,8466,12685,21457,19786,19787,19788,19789,24385,19790,18482,24352,17313,28821,19791,19792,19793,8011,19794,19795,19796,10820,17001,10715,19797,11011,19798,19799,16392,8243,16156,10591,11317,11328,17002,19800,19801,19802,11104,10796,10733,11053,10639,11125,10707,7778,18329,7717,19803,10670,16425,8005,19804,17003,17004,17005,10921,18661,10862,8121,19805,19806,19807,8246,19808,10805,19809,7565,8260,19810,19811,19812,8429,17542,19813,19814,7572,18460,10835,11157,19815,19816,7816,19817,10539,7651,10971,19818,18564,13369,19819,19820,19821,27763,19822,19823,19824,11103,17006,19825,19826,19827,19828,7637,8129,11204,19829,19830,8364,7763,8401,8114,17988,16115,17007,19831,19832,7960,8208,16587,18072,11029,10907,10996,16209,11373,8233,19833,19834,19835,21458,19836,19837,19838,11182,16369,19839,19840,16426,11175,28822,19841,16155,25847,11153,8542,8067,19842,19843,10919,8035,10902,8228,10883,28823,18109,10987,19844,16427,10782,11092,19845,25848,19846,7875,18179,19847,19848,8200,16522,18494,11114,11185,16370,7980,19849,19850,21523,8543,7747,8339,17218,17008,7872,18674,7942,11113,19851,17009,19852,16567,19853,10636,8448,11115,10767,7941,10537,17194,10993,19854,19855,19856,18588,7680,10735,12649,10808,15926,8175,17010,19857,10811,11133,16428,7997,16052,16429,12287,18621,15569,16262,18180,19858,7610,11247,19859,7669,19860,19861,8321,19862,19863,10658,7710,19864,15605,19865,8247,25849,19866,18524,25850,19867,11211,7848,19868,17219,19869,10702,19870,19871,19872,19873,16455,7613,19874,11401,19875,18181,18182,10918,16371,10809,19876,7790,19877,19878,17751,18402,7971,19879,18339,19880,10598,7692,11427,8296,11319,16057,19881,18645,11603,18332,19882,19883,10582,8171,7823,11194,18023,10773,18659,19884,18110,19885,19886,11621,16102,19887,19888,25851,16076,17011,19889,18040,8134,15558,10850,16400,19890,7642,7856,18574,19891,19892,17012,17013,19893,14571,7761,19894,16549,28824,19895,19896,16529,17453,17014,18596,11003,18583,11424,19897,8234,8277,19898,18183,19899,19900,17015,19901,19902,16517,11112,17279,8287,19903,19904,10863,15346,18572,19905,19906,8419,10821,19907,7792,18677,19908,8008,8402,16198,17254,11126,18680,19909,19910,10851,23753,7821,11001,17943,23745,25707,8176,18462,19911,19912,17175,19913,16162,8266,19914,10943,7541,19915,10956,19916,19917,8026,19918,18336,18184,19919,19920,16096,7850,17255,19921,17499,19922,19923,17016,16049,7860,19924,17017,17980,19925,17018,19926,16479,19927,19928,7615,19929,17019,7800,17020,19930,17021,17022,19931,8479,19932,8040,17023,7921,19933,11004,17024,10768,7899,18471,16101,7968,19934,19935,19936,19937,7633,17025,8430,16126,17695,7919,8271,19938,19939,8254,7862,8245,11256,19940,19941,11093,19942,19943,24412,19944,17220,16372,7707,7663,10884,19945,19946,7569,19947,19948,17026,19949,18631,19950,18111,19951,18248,19952,19953,7676,24270,19954,17027,19955,18642,10624,16009,19956,19957,25852,19958,18464,10579,11032,8418,11111,16464,19959,8007,19960,17028,19961,19962,19963,19964,19965,19966,19967,19968,19969,8127,19970,17256,11330,19971,17029,17030,11189,23962,19972,10846,17031,19973,11100,7690,19974,19975,19976,18112,16480,8211,19977,16112,16373,11082,11413,18400,7694,19978,11045,10813,8071,10806,17032,25853,7708,19979,16507,10788,8001,8251,17162,17221,14986,7752,10541,8361,16444,19980,19981,19982,24103,11121,19983,19984,19985,19986,18113,19987,17033,11088,16374,19988,19989,19990,11118,8360,18632,17186,7871,18365,10947,10942,19991,19992,7611,7531,10926,19993,18274,16518,19994,17034,18563,19995,10982,19996,19997,19998,17035,16588,17036,17503,17222,7974,10998,10904,19999,11163,20000,20001,7605,20002,20003,10833,16576,25854,17292,8431,20004,11450,7725,8082,20005,18185,7837,20006,11241,18454,20007,11331,7691,20008,20009,8210,20010,20011,20012,20013,11136,20014,7721,11142,8198,11422,20015,20016,7820,16508,28522,17037,20017,10529,11069,20018,20019,20020,18186,20021,20022,18595,8038,20023,11311,10874,17038,20024,7582,18367,11174,11035,17039,20025,8474,10763,20026,10587,7772,11260,8231,10997,10886,17182,17719,7760,7956,20027,16227,20028,18187,20029,16568,8544,7831,20030,20031,20032,23948,18114,20033,20034,25855,7986,8263,20035,16430,25856,25857,28825,20036,20037,18435,17040,20038,15343,20039,20040,20041,20042,10758,20043,10756,11020,10934,28523,16375,20044,20045,20046,16431,17041,20047,11430,20048,17687,20049,10632,17185,20050,20051,18115,16060,8204,17042,7711,10565,10822,20052,25858,20053,7945,20054,20055,20056,16470,18470,20057,20058,20059,20060,18696,7955,18604,15458,10567,20061,25859,10989,10538,27691,11005,20062,11171,10725,11019,20063,17043,20064,18692,20065,20066,28826,8192,20067,16191,17044,21459,20068,12108,17045,18685,20069,18390,20070,20071,17046,18693,18116,20072,11095,20073,20074,11453,11046,20075,7757,16224,7882,10666,20076,20077,20078,18117,11417,7992,16465,21460,17047,17171,25860,11412,10966,8524,20079,24108,20080,20081,18492,17048,11151,20082,7863,16055,20083,20084,20085,20086,20087,25861,25862,16498,18188,20088,7979,20089,20090,17301,16152,18510,20091,20092,18418,25863,16035,11070,20093,20094,20095,10534,10589,7847,20096,17323,20097,20098,18409,10961,7877,11322,16249,11243,20099,20100,20101,20102,8140,16275,7736,7794,20103,17223,16499,20104,25864,11253,20105,10855,10536,7973,17049,20106,8061,17050,20107,16107,16163,20108,20109,8229,18044,7654,16432,10588,16160,8063,11313,18676,16376,16433,18037,20110,20111,17051,18234,20112,23826,18602,24877,16110,7563,20113,16589,20114,20115,8022,7742,28241,10948,11099,8057,18244,18189,11089,20116,20117,17052,10988,20118,8272,11012,8028,10606,11068,20119,7584,20120,25865,21461,24386,18662,20121,20122,20123,24875,20124,7898,11149,18412,24106,8034,7803,17053,10873,8310,18118,25866,8157,16401,11000,18614,20125,18420,10617,10642,11131,16466,20126,17326,11437,20127,17054,10563,17717,16467,25867,25868,20128,10734,20129,10581,18392,20130,11154,20131,8589,20132,16210,17055,16377,25869,10726,17056,20133,20134,8150,11230,24268,20135,7906,20136,25870,16066,20137,17057,10935,20138,11195,23359,20139,20140,20141,20142,10844,11173,17058,20143,16130,7864,21528,20144,8545,20145,20146,20147,16606,20148,20149,16456,10908,7793,7701,10568,10898,7625,25871,16378,25872,17059,10646,11102,17060,20150,16031,18190,16402,20151,20152,10860,18119,18120,20153,11252,20154,20155,20156,20157,16183,25873,17061,17062,18489,21529,20158,21462,8483,20159,8027,10824,10876,11043,7780,10951,20160,20161,16228,20162,20163,16010,20164,24413,25874,11041,20165,20166,17063,16481,25875,20167,11364,11199,20168,28827,10980,10683,16250,17064,20169,20170,20171,18395,10590,8573,17065,20172,13505,7996,50532,20173,20174,20175,8314,8477,20176,20177,7634,17501,20178,25876,20179,7972,7879,17066,10818,20180,18121,7895,10793,17067,20181,20182,14305,17068,11625,10772,20183,8554,20184,20185,24111,20186,25877,20187,18543,7756,20188,16393,20189,11090,28437,17069,10913,20190,25878,20191,20192,16258,20193,20194,16232,18122,18657,16195,17070,20195,20196,20197,18240,8102,8338,20198,18430,16403,20199,16379,8153,16233,16266,20200,10600,20201,8598,8459,21463,20202,11025,11816,8013,20203,10657,15204,20204,18242,8498,7668,16193,23828,25879,20205,20206,20207,8591,25880,20208,14408,10614,25881,20209,20210,25882,17071,20211,17072,17926,11023,23373,20212,16231,17284,20213,10896,10691,11191,11306,10557,17073,20214,20215,20216,20217,20218,20219,20220,8378,17698,17487,20221,28910,20222,11266,10861,20223,15936,16380,11180,7949,20224,16569,17074,20225,20226,25883,18461,20227,20228,20229,11145,20230,18191,17985,20231,20232,20233,20234,7967,10816,10944,28828,20235,20236,20237,20238,10577,17075,16381,10660,20239,20240,20241,20242,20243,20244,16593,20245,20246,20247,8540,17076,20248,16075,20249,17077,20250,20251,18594,20252,25884,16071,8079,18269,20253,10654,11398,17078,20254,8381,18605,10552,17079,18500,20255,17257,28477,7853,20256,25885,20257,11107,7998,20258,17276,25886,8075,20259,20260,16192,20261,8194,16070,20262,20263,20264,20265,20266,20267,18652,20268,20269,17080,17081,7888,20270,16202,20271,20272,10713,17082,20273,11378,25887,28829,20274,20275,20276,20277,20278,17083,20279,20280,18589,20281,20282,20283,18123,20284,11141,17084,16509,20285,11177,20286,20287,18498,16044,28524,16139,17258,17962,20288,10572,11155,8295,8248,20289,20290,20291,20292,16382,10608,17085,20293,8438,20294,25888,16091,23746,11123,11229,18465,7570,16023,20295,11021,20296,10724,10580,10812,20297,8221,17086,16591,20298,20299,17277,20300,23966,17087,8097,20301,18271,20302,8095,20303,16461,20304,17088,18415,10570,10959,8550,11156,11084,20305,17259,8320,17089,17552,17090,17091,18076,18718,7590,17092,18550,18358,18719,18309,18340,24104,17093,16521,7857,23512,16215,7603,28402,10641,8306,20306,20307,11433,17094,20308,20309,20310,28044,20311,11257,11316,10845,25889,8582,20312,18607,7784,20313,20314,25620,8444,10667,18021,25890,8428,10787,14347,16434,17095,17096,20315,20316,11299,20317,25891,18424,20318,11325,8446,20319,17097,10722,16468,17098,8191,20320,18261,20321,20322,11188,8089,7798,20323,20324,20325,8523,17099,18192,20326,20327,10576,16171,20328,17100,20329,17101,20330,16234,7639,18562,20331,18411,12020,7928,25892,18124,20332,18679,8283,8571,17102,18620,20333,20334,17103,20335,20336,7926,20337,20338,25893,20339,20340,20341,20342,20343,16582,7620,7703,20344,8106,20345,20346,17302,20347,20348,16196,20349,18618,18404,16251,18193,10750,18194,8507,20350,11086,20351,10665,7903,11231,20352,20353,17989,18389,7557,20354,20355,20356,20357,28478,8366,16383,18669,18584,7869,16577,17224,25894,20358,18670,20359,17104,17272,18437,20360,11138,16462,16435,11119,28479,8564,10984,25895,8051,10920,18236,20361,17105,16106,20362,20363,18599,20364,16271,20365,16570,20366,8450,17106,20367,20368,20369,18613,20370,18664,17107,8144,20371,10703,18125,17153,25896,20372,20373,20374,18391,8351,20375,20376,11355,20377,11324,11688,23350,20378,20379,20380,8094,11031,17108,20381,17109,20382,20383,18619,20384,10637,18434,8073,16482,17110,20385,10817,16148,11134,11077,20386,18374,20387,25897,16014,20388,11060,20389,20390,16141,20391,25898,11098,20392,8440,20393,20394,17636,16483,20395,11249,20396,25899,20397,17111,20398,20399,8375,20400,20401,18328,23728,20402,20403,20404,20405,20406,20407,20408,7851,20409,16436,20410,17112,20411,10741,8239,20412,20413,20414,7689,20415,10875,17113,16041,20416,20417,20418,17293,20419,20420,20421,20422,8335,8499,14592,16437,17114,40213,18292,8531,16530,17115,7559,20423,24288,16033,20424,16471,16384,18195,20425,20426,17810,17116,16385,20427,11049,20428,20429,8406,20430,20431,8382,25900,20432,8048,17117,20433,11158,7576,10737,20434,16386,20435,20436,17118,7678,16550,20437,11094,11186,20438,20439,16387,20440,20441,16092,28242,8031,25901,20442,17232,8120,7542,8180,14235,10545,20443,20444,28830,20445,17176,18290,18252,17119,20446,8346,20447,20448,16438,20449,10839,20450,7962,10760,18303,20451,18514,21441,20452,10836,20453,10967,17120,8625,10668,20454,11308,20455,7645,20456,25902,20457,8445,20458,20459,18637,20460,7712,20461,20462,17121,20463,20464,20465,8609,8551,10866,18553,8050,16404,20466,17319,20467,15946,20468,7782,11240,18247,20469,8449,17122,20470,16013,8058,28480,16388,10718,10723,10689,10546,8611,8626,10946,20471,11007,20472,11392,20473,20474,20475,20476,20477,20478,20479,20480,18509,8182,10945,15230,18039,20481,20482,17154,17123,10671,7646,10923,10784,11026,20483,20484,11109,18237,20485,20486,16472,20487,8572,8502,8105,20488,20489,10924,11298,10680,11116,16469,17424,20490,18262,10761,10626,17927,20491,20492,20493,17124,18126,17125,27571,8292,8606,17126,18196,20494,20495,17497,18627,20496,16086,16592,8482,11300,11008,8202,28481,17127,20497,28831,20498,17128,8377,17129,20499,18254,25903,25904,20500,18127,25905,11296,18314,17130,20501,20502,11052,18253,16015,20503,11216,17320,20504,11321,10905,8488,20505,10685,20506,16439,16127,8549,20507,7550,20508,20509,20510,20511,18197,8494,8624,20512,20513,17493,17752,17131,20514,28911,20515,17132,11456,21464,20516,20517,11658,25906,20518,18575,10710,20519,20520,8373,20521,20522,25907,8317,10807,16117,20523,20524,20525,20526,25908,17133,20527,20528,20529,17134,20530,18250,11387,8337,20531,7981,18198,28832,20532,20533,20534,11137,8500,18313,10527,18364,17135,20535,18592,8356,16551,20536,20537,20538,17975,20539,20540,20541,20542,18317,17136,25909,20543,20544,20545,21465,20546,11055,8561,20547,17673,17137,8602,16440,20548,20549,20550,20551,20552,20553,20554,20555,17189,20556,20557,20558,20559,17138,20560,20561,10655,10601,17139,10706,18649,20562,11187,18128,20563,20564,20565,18458,20566,20567,20568,20569,20570,17172,18630,21466,23830,18287,20571,20572,17140,16097,18279,17141,20573,20574,10612,10954,11074,16394,17142,8613,10831,20575,20576,20577,20578,16216,20579,17225,20580,18199,20581,20582,11394,17733,17143,8322,20583,8215,20584,20585,8367,8490,20586,20587,20588,20589,17144,20590,18341,18322,20591,7758,17145,20592,17263,17146,20593,7704,18529,20594,21533,20595,20596,18681,10856,20597,16007,18545,20598,18200,20599,16105,17147,8362,16186,17428,20600,18256,15941,20601,20602,20603,17148,20604,16039,57918,17149,8078,20605,11208,20606,20607,20608,17390,20609,18321,20610,17150,11323,8240,20611,20612,20613,17151,20614,17729,8713'"
      ]
     },
     "execution_count": 30,
     "metadata": {},
     "output_type": "execute_result"
    }
   ],
   "source": [
    "\",\".join(t)"
   ]
  },
  {
   "cell_type": "code",
   "execution_count": 41,
   "metadata": {},
   "outputs": [],
   "source": [
    "WEEK_3 = pd.concat([df_USA[~df_USA.SucID.isin(list(df_stores_all['SucID']))],WALGREENS],axis=0)\n",
    "WEEK_3.reset_index(drop=True,inplace=True)"
   ]
  },
  {
   "cell_type": "code",
   "execution_count": 43,
   "metadata": {},
   "outputs": [
    {
     "data": {
      "text/plain": [
       "62655"
      ]
     },
     "execution_count": 43,
     "metadata": {},
     "output_type": "execute_result"
    }
   ],
   "source": [
    "WEEK_3[WEEK_3.SucID.isin(list(df_stores_all['SucID']))]['SoutCantDesp'].sum()"
   ]
  },
  {
   "cell_type": "code",
   "execution_count": 44,
   "metadata": {},
   "outputs": [],
   "source": [
    "WEEK_3.to_csv('20210117.csv',index=False,encoding='latin1')"
   ]
  }
 ],
 "metadata": {
  "interpreter": {
   "hash": "6b291c39bb08898bda619871e0e31e4348d0d08fd8a5b10115e49f8af5176be3"
  },
  "kernelspec": {
   "display_name": "Python 3 (ipykernel)",
   "language": "python",
   "name": "python3"
  },
  "language_info": {
   "codemirror_mode": {
    "name": "ipython",
    "version": 3
   },
   "file_extension": ".py",
   "mimetype": "text/x-python",
   "name": "python",
   "nbconvert_exporter": "python",
   "pygments_lexer": "ipython3",
   "version": "3.8.10"
  },
  "toc": {
   "base_numbering": 1,
   "nav_menu": {},
   "number_sections": true,
   "sideBar": true,
   "skip_h1_title": false,
   "title_cell": "Table of Contents",
   "title_sidebar": "Contents",
   "toc_cell": false,
   "toc_position": {},
   "toc_section_display": true,
   "toc_window_display": false
  }
 },
 "nbformat": 4,
 "nbformat_minor": 4
}
